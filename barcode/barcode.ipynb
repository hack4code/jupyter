{
 "cells": [
  {
   "cell_type": "code",
   "execution_count": 1,
   "metadata": {},
   "outputs": [],
   "source": [
    "import warnings\n",
    "warnings.simplefilter(action='ignore', category=FutureWarning)\n",
    "\n",
    "from PIL import Image\n",
    "import numpy as np\n",
    "import pandas as pd\n",
    "import altair as alt"
   ]
  },
  {
   "cell_type": "code",
   "execution_count": 2,
   "metadata": {},
   "outputs": [
    {
     "data": {
      "image/jpeg": "[encoded data removed]",
      "text/plain": [
       "<IPython.core.display.Image object>"
      ]
     },
     "execution_count": 2,
     "metadata": {},
     "output_type": "execute_result"
    }
   ],
   "source": [
    "import IPython\n",
    "\n",
    "IPython.display.Image(filename='barcode.jpeg')"
   ]
  },
  {
   "cell_type": "code",
   "execution_count": 3,
   "metadata": {},
   "outputs": [
    {
     "data": {
      "application/vnd.vegalite.v2+json": {
       "$schema": "https://vega.github.io/schema/vega-lite/v2.6.0.json",
       "config": {
        "view": {
         "height": 100,
         "width": 700
        }
       },
       "data": {
        "name": "data-95ea949dc70e6e8ff41877f62f9b51be"
       },
       "datasets": {
        "data-95ea949dc70e6e8ff41877f62f9b51be": [
         {
          "x": 0,
          "y": 0
         },
         {
          "x": 1,
          "y": 0
         },
         {
          "x": 2,
          "y": 0
         },
         {
          "x": 3,
          "y": 0
         },
         {
          "x": 4,
          "y": 0
         },
         {
          "x": 5,
          "y": 0
         },
         {
          "x": 6,
          "y": 0
         },
         {
          "x": 7,
          "y": 0
         },
         {
          "x": 8,
          "y": 0
         },
         {
          "x": 9,
          "y": 0
         },
         {
          "x": 10,
          "y": 0
         },
         {
          "x": 11,
          "y": 0
         },
         {
          "x": 12,
          "y": 0
         },
         {
          "x": 13,
          "y": 0
         },
         {
          "x": 14,
          "y": 0
         },
         {
          "x": 15,
          "y": 0
         },
         {
          "x": 16,
          "y": 0
         },
         {
          "x": 17,
          "y": 0
         },
         {
          "x": 18,
          "y": 0
         },
         {
          "x": 19,
          "y": 0
         },
         {
          "x": 20,
          "y": 0
         },
         {
          "x": 21,
          "y": 0
         },
         {
          "x": 22,
          "y": 0
         },
         {
          "x": 23,
          "y": 0
         },
         {
          "x": 24,
          "y": 0
         },
         {
          "x": 25,
          "y": 0
         },
         {
          "x": 26,
          "y": 0
         },
         {
          "x": 27,
          "y": 0
         },
         {
          "x": 28,
          "y": 0
         },
         {
          "x": 29,
          "y": 0
         },
         {
          "x": 30,
          "y": 0
         },
         {
          "x": 31,
          "y": 0
         },
         {
          "x": 32,
          "y": 0
         },
         {
          "x": 33,
          "y": 0
         },
         {
          "x": 34,
          "y": 0
         },
         {
          "x": 35,
          "y": 0
         },
         {
          "x": 36,
          "y": 0
         },
         {
          "x": 37,
          "y": 0
         },
         {
          "x": 38,
          "y": 0
         },
         {
          "x": 39,
          "y": 0
         },
         {
          "x": 40,
          "y": 0
         },
         {
          "x": 41,
          "y": 0
         },
         {
          "x": 42,
          "y": 0
         },
         {
          "x": 43,
          "y": 0
         },
         {
          "x": 44,
          "y": 0
         },
         {
          "x": 45,
          "y": 0
         },
         {
          "x": 46,
          "y": 0
         },
         {
          "x": 47,
          "y": 0
         },
         {
          "x": 48,
          "y": 0
         },
         {
          "x": 49,
          "y": 0
         },
         {
          "x": 50,
          "y": 0
         },
         {
          "x": 51,
          "y": 4
         },
         {
          "x": 52,
          "y": 8
         },
         {
          "x": 53,
          "y": 5
         },
         {
          "x": 54,
          "y": 0
         },
         {
          "x": 55,
          "y": 0
         },
         {
          "x": 56,
          "y": 0
         },
         {
          "x": 57,
          "y": 0
         },
         {
          "x": 58,
          "y": 23
         },
         {
          "x": 59,
          "y": 89
         },
         {
          "x": 60,
          "y": 166
         },
         {
          "x": 61,
          "y": 232
         },
         {
          "x": 62,
          "y": 255
         },
         {
          "x": 63,
          "y": 255
         },
         {
          "x": 64,
          "y": 255
         },
         {
          "x": 65,
          "y": 255
         },
         {
          "x": 66,
          "y": 250
         },
         {
          "x": 67,
          "y": 247
         },
         {
          "x": 68,
          "y": 250
         },
         {
          "x": 69,
          "y": 254
         },
         {
          "x": 70,
          "y": 255
         },
         {
          "x": 71,
          "y": 254
         },
         {
          "x": 72,
          "y": 252
         },
         {
          "x": 73,
          "y": 252
         },
         {
          "x": 74,
          "y": 255
         },
         {
          "x": 75,
          "y": 255
         },
         {
          "x": 76,
          "y": 255
         },
         {
          "x": 77,
          "y": 245
         },
         {
          "x": 78,
          "y": 211
         },
         {
          "x": 79,
          "y": 160
         },
         {
          "x": 80,
          "y": 101
         },
         {
          "x": 81,
          "y": 47
         },
         {
          "x": 82,
          "y": 7
         },
         {
          "x": 83,
          "y": 0
         },
         {
          "x": 84,
          "y": 0
         },
         {
          "x": 85,
          "y": 0
         },
         {
          "x": 86,
          "y": 11
         },
         {
          "x": 87,
          "y": 36
         },
         {
          "x": 88,
          "y": 68
         },
         {
          "x": 89,
          "y": 107
         },
         {
          "x": 90,
          "y": 149
         },
         {
          "x": 91,
          "y": 187
         },
         {
          "x": 92,
          "y": 219
         },
         {
          "x": 93,
          "y": 245
         },
         {
          "x": 94,
          "y": 255
         },
         {
          "x": 95,
          "y": 255
         },
         {
          "x": 96,
          "y": 255
         },
         {
          "x": 97,
          "y": 247
         },
         {
          "x": 98,
          "y": 207
         },
         {
          "x": 99,
          "y": 153
         },
         {
          "x": 100,
          "y": 96
         },
         {
          "x": 101,
          "y": 45
         },
         {
          "x": 102,
          "y": 11
         },
         {
          "x": 103,
          "y": 0
         },
         {
          "x": 104,
          "y": 0
         },
         {
          "x": 105,
          "y": 0
         },
         {
          "x": 106,
          "y": 3
         },
         {
          "x": 107,
          "y": 4
         },
         {
          "x": 108,
          "y": 2
         },
         {
          "x": 109,
          "y": 1
         },
         {
          "x": 110,
          "y": 1
         },
         {
          "x": 111,
          "y": 2
         },
         {
          "x": 112,
          "y": 4
         },
         {
          "x": 113,
          "y": 3
         },
         {
          "x": 114,
          "y": 0
         },
         {
          "x": 115,
          "y": 0
         },
         {
          "x": 116,
          "y": 0
         },
         {
          "x": 117,
          "y": 11
         },
         {
          "x": 118,
          "y": 45
         },
         {
          "x": 119,
          "y": 95
         },
         {
          "x": 120,
          "y": 153
         },
         {
          "x": 121,
          "y": 206
         },
         {
          "x": 122,
          "y": 246
         },
         {
          "x": 123,
          "y": 255
         },
         {
          "x": 124,
          "y": 255
         },
         {
          "x": 125,
          "y": 255
         },
         {
          "x": 126,
          "y": 245
         },
         {
          "x": 127,
          "y": 219
         },
         {
          "x": 128,
          "y": 187
         },
         {
          "x": 129,
          "y": 148
         },
         {
          "x": 130,
          "y": 108
         },
         {
          "x": 131,
          "y": 68
         },
         {
          "x": 132,
          "y": 34
         },
         {
          "x": 133,
          "y": 9
         },
         {
          "x": 134,
          "y": 0
         },
         {
          "x": 135,
          "y": 0
         },
         {
          "x": 136,
          "y": 0
         },
         {
          "x": 137,
          "y": 0
         },
         {
          "x": 138,
          "y": 3
         },
         {
          "x": 139,
          "y": 4
         },
         {
          "x": 140,
          "y": 2
         },
         {
          "x": 141,
          "y": 0
         },
         {
          "x": 142,
          "y": 0
         },
         {
          "x": 143,
          "y": 0
         },
         {
          "x": 144,
          "y": 1
         },
         {
          "x": 145,
          "y": 1
         },
         {
          "x": 146,
          "y": 1
         },
         {
          "x": 147,
          "y": 1
         },
         {
          "x": 148,
          "y": 0
         },
         {
          "x": 149,
          "y": 0
         },
         {
          "x": 150,
          "y": 0
         },
         {
          "x": 151,
          "y": 0
         },
         {
          "x": 152,
          "y": 0
         },
         {
          "x": 153,
          "y": 0
         },
         {
          "x": 154,
          "y": 0
         },
         {
          "x": 155,
          "y": 0
         },
         {
          "x": 156,
          "y": 0
         },
         {
          "x": 157,
          "y": 0
         },
         {
          "x": 158,
          "y": 0
         },
         {
          "x": 159,
          "y": 2
         },
         {
          "x": 160,
          "y": 4
         },
         {
          "x": 161,
          "y": 3
         },
         {
          "x": 162,
          "y": 0
         },
         {
          "x": 163,
          "y": 0
         },
         {
          "x": 164,
          "y": 0
         },
         {
          "x": 165,
          "y": 0
         },
         {
          "x": 166,
          "y": 8
         },
         {
          "x": 167,
          "y": 33
         },
         {
          "x": 168,
          "y": 68
         },
         {
          "x": 169,
          "y": 108
         },
         {
          "x": 170,
          "y": 148
         },
         {
          "x": 171,
          "y": 188
         },
         {
          "x": 172,
          "y": 222
         },
         {
          "x": 173,
          "y": 247
         },
         {
          "x": 174,
          "y": 255
         },
         {
          "x": 175,
          "y": 255
         },
         {
          "x": 176,
          "y": 255
         },
         {
          "x": 177,
          "y": 255
         },
         {
          "x": 178,
          "y": 251
         },
         {
          "x": 179,
          "y": 248
         },
         {
          "x": 180,
          "y": 249
         },
         {
          "x": 181,
          "y": 252
         },
         {
          "x": 182,
          "y": 255
         },
         {
          "x": 183,
          "y": 255
         },
         {
          "x": 184,
          "y": 255
         },
         {
          "x": 185,
          "y": 255
         },
         {
          "x": 186,
          "y": 247
         },
         {
          "x": 187,
          "y": 222
         },
         {
          "x": 188,
          "y": 187
         },
         {
          "x": 189,
          "y": 148
         },
         {
          "x": 190,
          "y": 108
         },
         {
          "x": 191,
          "y": 68
         },
         {
          "x": 192,
          "y": 33
         },
         {
          "x": 193,
          "y": 8
         },
         {
          "x": 194,
          "y": 0
         },
         {
          "x": 195,
          "y": 0
         },
         {
          "x": 196,
          "y": 0
         },
         {
          "x": 197,
          "y": 0
         },
         {
          "x": 198,
          "y": 3
         },
         {
          "x": 199,
          "y": 4
         },
         {
          "x": 200,
          "y": 2
         },
         {
          "x": 201,
          "y": 0
         },
         {
          "x": 202,
          "y": 0
         },
         {
          "x": 203,
          "y": 0
         },
         {
          "x": 204,
          "y": 0
         },
         {
          "x": 205,
          "y": 0
         },
         {
          "x": 206,
          "y": 0
         },
         {
          "x": 207,
          "y": 1
         },
         {
          "x": 208,
          "y": 2
         },
         {
          "x": 209,
          "y": 2
         },
         {
          "x": 210,
          "y": 1
         },
         {
          "x": 211,
          "y": 2
         },
         {
          "x": 212,
          "y": 4
         },
         {
          "x": 213,
          "y": 3
         },
         {
          "x": 214,
          "y": 0
         },
         {
          "x": 215,
          "y": 0
         },
         {
          "x": 216,
          "y": 0
         },
         {
          "x": 217,
          "y": 11
         },
         {
          "x": 218,
          "y": 45
         },
         {
          "x": 219,
          "y": 96
         },
         {
          "x": 220,
          "y": 153
         },
         {
          "x": 221,
          "y": 207
         },
         {
          "x": 222,
          "y": 247
         },
         {
          "x": 223,
          "y": 255
         },
         {
          "x": 224,
          "y": 255
         },
         {
          "x": 225,
          "y": 255
         },
         {
          "x": 226,
          "y": 245
         },
         {
          "x": 227,
          "y": 219
         },
         {
          "x": 228,
          "y": 187
         },
         {
          "x": 229,
          "y": 149
         },
         {
          "x": 230,
          "y": 107
         },
         {
          "x": 231,
          "y": 68
         },
         {
          "x": 232,
          "y": 36
         },
         {
          "x": 233,
          "y": 11
         },
         {
          "x": 234,
          "y": 0
         },
         {
          "x": 235,
          "y": 0
         },
         {
          "x": 236,
          "y": 0
         },
         {
          "x": 237,
          "y": 8
         },
         {
          "x": 238,
          "y": 48
         },
         {
          "x": 239,
          "y": 99
         },
         {
          "x": 240,
          "y": 155
         },
         {
          "x": 241,
          "y": 206
         },
         {
          "x": 242,
          "y": 246
         },
         {
          "x": 243,
          "y": 255
         },
         {
          "x": 244,
          "y": 255
         },
         {
          "x": 245,
          "y": 255
         },
         {
          "x": 246,
          "y": 244
         },
         {
          "x": 247,
          "y": 219
         },
         {
          "x": 248,
          "y": 186
         },
         {
          "x": 249,
          "y": 147
         },
         {
          "x": 250,
          "y": 107
         },
         {
          "x": 251,
          "y": 67
         },
         {
          "x": 252,
          "y": 33
         },
         {
          "x": 253,
          "y": 9
         },
         {
          "x": 254,
          "y": 0
         },
         {
          "x": 255,
          "y": 0
         },
         {
          "x": 256,
          "y": 0
         },
         {
          "x": 257,
          "y": 0
         },
         {
          "x": 258,
          "y": 3
         },
         {
          "x": 259,
          "y": 4
         },
         {
          "x": 260,
          "y": 2
         },
         {
          "x": 261,
          "y": 0
         },
         {
          "x": 262,
          "y": 0
         },
         {
          "x": 263,
          "y": 0
         },
         {
          "x": 264,
          "y": 0
         },
         {
          "x": 265,
          "y": 0
         },
         {
          "x": 266,
          "y": 0
         },
         {
          "x": 267,
          "y": 0
         },
         {
          "x": 268,
          "y": 1
         },
         {
          "x": 269,
          "y": 1
         },
         {
          "x": 270,
          "y": 0
         },
         {
          "x": 271,
          "y": 1
         },
         {
          "x": 272,
          "y": 3
         },
         {
          "x": 273,
          "y": 2
         },
         {
          "x": 274,
          "y": 0
         },
         {
          "x": 275,
          "y": 0
         },
         {
          "x": 276,
          "y": 0
         },
         {
          "x": 277,
          "y": 12
         },
         {
          "x": 278,
          "y": 46
         },
         {
          "x": 279,
          "y": 96
         },
         {
          "x": 280,
          "y": 154
         },
         {
          "x": 281,
          "y": 207
         },
         {
          "x": 282,
          "y": 247
         },
         {
          "x": 283,
          "y": 255
         },
         {
          "x": 284,
          "y": 255
         },
         {
          "x": 285,
          "y": 255
         },
         {
          "x": 286,
          "y": 245
         },
         {
          "x": 287,
          "y": 219
         },
         {
          "x": 288,
          "y": 187
         },
         {
          "x": 289,
          "y": 148
         },
         {
          "x": 290,
          "y": 108
         },
         {
          "x": 291,
          "y": 68
         },
         {
          "x": 292,
          "y": 33
         },
         {
          "x": 293,
          "y": 8
         },
         {
          "x": 294,
          "y": 0
         },
         {
          "x": 295,
          "y": 0
         },
         {
          "x": 296,
          "y": 0
         },
         {
          "x": 297,
          "y": 0
         },
         {
          "x": 298,
          "y": 3
         },
         {
          "x": 299,
          "y": 4
         },
         {
          "x": 300,
          "y": 2
         },
         {
          "x": 301,
          "y": 0
         },
         {
          "x": 302,
          "y": 0
         },
         {
          "x": 303,
          "y": 0
         },
         {
          "x": 304,
          "y": 0
         },
         {
          "x": 305,
          "y": 0
         },
         {
          "x": 306,
          "y": 0
         },
         {
          "x": 307,
          "y": 0
         },
         {
          "x": 308,
          "y": 1
         },
         {
          "x": 309,
          "y": 1
         },
         {
          "x": 310,
          "y": 0
         },
         {
          "x": 311,
          "y": 1
         },
         {
          "x": 312,
          "y": 3
         },
         {
          "x": 313,
          "y": 2
         },
         {
          "x": 314,
          "y": 0
         },
         {
          "x": 315,
          "y": 0
         },
         {
          "x": 316,
          "y": 0
         },
         {
          "x": 317,
          "y": 11
         },
         {
          "x": 318,
          "y": 46
         },
         {
          "x": 319,
          "y": 98
         },
         {
          "x": 320,
          "y": 157
         },
         {
          "x": 321,
          "y": 209
         },
         {
          "x": 322,
          "y": 244
         },
         {
          "x": 323,
          "y": 255
         },
         {
          "x": 324,
          "y": 255
         },
         {
          "x": 325,
          "y": 255
         },
         {
          "x": 326,
          "y": 252
         },
         {
          "x": 327,
          "y": 251
         },
         {
          "x": 328,
          "y": 253
         },
         {
          "x": 329,
          "y": 255
         },
         {
          "x": 330,
          "y": 255
         },
         {
          "x": 331,
          "y": 253
         },
         {
          "x": 332,
          "y": 251
         },
         {
          "x": 333,
          "y": 252
         },
         {
          "x": 334,
          "y": 255
         },
         {
          "x": 335,
          "y": 255
         },
         {
          "x": 336,
          "y": 255
         },
         {
          "x": 337,
          "y": 244
         },
         {
          "x": 338,
          "y": 210
         },
         {
          "x": 339,
          "y": 159
         },
         {
          "x": 340,
          "y": 101
         },
         {
          "x": 341,
          "y": 47
         },
         {
          "x": 342,
          "y": 7
         },
         {
          "x": 343,
          "y": 0
         },
         {
          "x": 344,
          "y": 0
         },
         {
          "x": 345,
          "y": 0
         },
         {
          "x": 346,
          "y": 11
         },
         {
          "x": 347,
          "y": 36
         },
         {
          "x": 348,
          "y": 68
         },
         {
          "x": 349,
          "y": 107
         },
         {
          "x": 350,
          "y": 149
         },
         {
          "x": 351,
          "y": 187
         },
         {
          "x": 352,
          "y": 219
         },
         {
          "x": 353,
          "y": 245
         },
         {
          "x": 354,
          "y": 255
         },
         {
          "x": 355,
          "y": 255
         },
         {
          "x": 356,
          "y": 255
         },
         {
          "x": 357,
          "y": 247
         },
         {
          "x": 358,
          "y": 207
         },
         {
          "x": 359,
          "y": 154
         },
         {
          "x": 360,
          "y": 96
         },
         {
          "x": 361,
          "y": 46
         },
         {
          "x": 362,
          "y": 12
         },
         {
          "x": 363,
          "y": 0
         },
         {
          "x": 364,
          "y": 0
         },
         {
          "x": 365,
          "y": 0
         },
         {
          "x": 366,
          "y": 2
         },
         {
          "x": 367,
          "y": 3
         },
         {
          "x": 368,
          "y": 1
         },
         {
          "x": 369,
          "y": 0
         },
         {
          "x": 370,
          "y": 1
         },
         {
          "x": 371,
          "y": 1
         },
         {
          "x": 372,
          "y": 0
         },
         {
          "x": 373,
          "y": 0
         },
         {
          "x": 374,
          "y": 0
         },
         {
          "x": 375,
          "y": 0
         },
         {
          "x": 376,
          "y": 0
         },
         {
          "x": 377,
          "y": 0
         },
         {
          "x": 378,
          "y": 0
         },
         {
          "x": 379,
          "y": 2
         },
         {
          "x": 380,
          "y": 4
         },
         {
          "x": 381,
          "y": 3
         },
         {
          "x": 382,
          "y": 0
         },
         {
          "x": 383,
          "y": 0
         },
         {
          "x": 384,
          "y": 0
         },
         {
          "x": 385,
          "y": 0
         },
         {
          "x": 386,
          "y": 8
         },
         {
          "x": 387,
          "y": 33
         },
         {
          "x": 388,
          "y": 68
         },
         {
          "x": 389,
          "y": 108
         },
         {
          "x": 390,
          "y": 148
         },
         {
          "x": 391,
          "y": 187
         },
         {
          "x": 392,
          "y": 219
         },
         {
          "x": 393,
          "y": 245
         },
         {
          "x": 394,
          "y": 255
         },
         {
          "x": 395,
          "y": 255
         },
         {
          "x": 396,
          "y": 255
         },
         {
          "x": 397,
          "y": 247
         },
         {
          "x": 398,
          "y": 207
         },
         {
          "x": 399,
          "y": 153
         },
         {
          "x": 400,
          "y": 96
         },
         {
          "x": 401,
          "y": 45
         },
         {
          "x": 402,
          "y": 11
         },
         {
          "x": 403,
          "y": 0
         },
         {
          "x": 404,
          "y": 0
         },
         {
          "x": 405,
          "y": 0
         },
         {
          "x": 406,
          "y": 3
         },
         {
          "x": 407,
          "y": 4
         },
         {
          "x": 408,
          "y": 1
         },
         {
          "x": 409,
          "y": 0
         },
         {
          "x": 410,
          "y": 0
         },
         {
          "x": 411,
          "y": 1
         },
         {
          "x": 412,
          "y": 0
         },
         {
          "x": 413,
          "y": 0
         },
         {
          "x": 414,
          "y": 0
         },
         {
          "x": 415,
          "y": 0
         },
         {
          "x": 416,
          "y": 1
         },
         {
          "x": 417,
          "y": 1
         },
         {
          "x": 418,
          "y": 1
         },
         {
          "x": 419,
          "y": 3
         },
         {
          "x": 420,
          "y": 4
         },
         {
          "x": 421,
          "y": 3
         },
         {
          "x": 422,
          "y": 0
         },
         {
          "x": 423,
          "y": 0
         },
         {
          "x": 424,
          "y": 0
         },
         {
          "x": 425,
          "y": 0
         },
         {
          "x": 426,
          "y": 9
         },
         {
          "x": 427,
          "y": 34
         },
         {
          "x": 428,
          "y": 69
         },
         {
          "x": 429,
          "y": 108
         },
         {
          "x": 430,
          "y": 148
         },
         {
          "x": 431,
          "y": 187
         },
         {
          "x": 432,
          "y": 222
         },
         {
          "x": 433,
          "y": 247
         },
         {
          "x": 434,
          "y": 255
         },
         {
          "x": 435,
          "y": 255
         },
         {
          "x": 436,
          "y": 255
         },
         {
          "x": 437,
          "y": 255
         },
         {
          "x": 438,
          "y": 252
         },
         {
          "x": 439,
          "y": 249
         },
         {
          "x": 440,
          "y": 249
         },
         {
          "x": 441,
          "y": 252
         },
         {
          "x": 442,
          "y": 255
         },
         {
          "x": 443,
          "y": 255
         },
         {
          "x": 444,
          "y": 255
         },
         {
          "x": 445,
          "y": 255
         },
         {
          "x": 446,
          "y": 247
         },
         {
          "x": 447,
          "y": 223
         },
         {
          "x": 448,
          "y": 188
         },
         {
          "x": 449,
          "y": 148
         },
         {
          "x": 450,
          "y": 108
         },
         {
          "x": 451,
          "y": 69
         },
         {
          "x": 452,
          "y": 36
         },
         {
          "x": 453,
          "y": 11
         },
         {
          "x": 454,
          "y": 0
         },
         {
          "x": 455,
          "y": 0
         },
         {
          "x": 456,
          "y": 0
         },
         {
          "x": 457,
          "y": 8
         },
         {
          "x": 458,
          "y": 48
         },
         {
          "x": 459,
          "y": 102
         },
         {
          "x": 460,
          "y": 159
         },
         {
          "x": 461,
          "y": 210
         },
         {
          "x": 462,
          "y": 244
         },
         {
          "x": 463,
          "y": 255
         },
         {
          "x": 464,
          "y": 255
         },
         {
          "x": 465,
          "y": 255
         },
         {
          "x": 466,
          "y": 253
         },
         {
          "x": 467,
          "y": 252
         },
         {
          "x": 468,
          "y": 254
         },
         {
          "x": 469,
          "y": 255
         },
         {
          "x": 470,
          "y": 254
         },
         {
          "x": 471,
          "y": 254
         },
         {
          "x": 472,
          "y": 255
         },
         {
          "x": 473,
          "y": 255
         },
         {
          "x": 474,
          "y": 255
         },
         {
          "x": 475,
          "y": 255
         },
         {
          "x": 476,
          "y": 255
         },
         {
          "x": 477,
          "y": 255
         },
         {
          "x": 478,
          "y": 255
         },
         {
          "x": 479,
          "y": 253
         },
         {
          "x": 480,
          "y": 251
         },
         {
          "x": 481,
          "y": 252
         },
         {
          "x": 482,
          "y": 255
         },
         {
          "x": 483,
          "y": 255
         },
         {
          "x": 484,
          "y": 255
         },
         {
          "x": 485,
          "y": 255
         },
         {
          "x": 486,
          "y": 247
         },
         {
          "x": 487,
          "y": 223
         },
         {
          "x": 488,
          "y": 188
         },
         {
          "x": 489,
          "y": 148
         },
         {
          "x": 490,
          "y": 108
         },
         {
          "x": 491,
          "y": 69
         },
         {
          "x": 492,
          "y": 36
         },
         {
          "x": 493,
          "y": 11
         },
         {
          "x": 494,
          "y": 0
         },
         {
          "x": 495,
          "y": 0
         },
         {
          "x": 496,
          "y": 0
         },
         {
          "x": 497,
          "y": 8
         },
         {
          "x": 498,
          "y": 48
         },
         {
          "x": 499,
          "y": 100
         },
         {
          "x": 500,
          "y": 155
         },
         {
          "x": 501,
          "y": 207
         },
         {
          "x": 502,
          "y": 247
         },
         {
          "x": 503,
          "y": 255
         },
         {
          "x": 504,
          "y": 255
         },
         {
          "x": 505,
          "y": 255
         },
         {
          "x": 506,
          "y": 245
         },
         {
          "x": 507,
          "y": 219
         },
         {
          "x": 508,
          "y": 187
         },
         {
          "x": 509,
          "y": 148
         },
         {
          "x": 510,
          "y": 108
         },
         {
          "x": 511,
          "y": 68
         },
         {
          "x": 512,
          "y": 33
         },
         {
          "x": 513,
          "y": 8
         },
         {
          "x": 514,
          "y": 0
         },
         {
          "x": 515,
          "y": 0
         },
         {
          "x": 516,
          "y": 0
         },
         {
          "x": 517,
          "y": 0
         },
         {
          "x": 518,
          "y": 3
         },
         {
          "x": 519,
          "y": 4
         },
         {
          "x": 520,
          "y": 2
         },
         {
          "x": 521,
          "y": 0
         },
         {
          "x": 522,
          "y": 0
         },
         {
          "x": 523,
          "y": 0
         },
         {
          "x": 524,
          "y": 0
         },
         {
          "x": 525,
          "y": 0
         },
         {
          "x": 526,
          "y": 0
         },
         {
          "x": 527,
          "y": 1
         },
         {
          "x": 528,
          "y": 2
         },
         {
          "x": 529,
          "y": 2
         },
         {
          "x": 530,
          "y": 1
         },
         {
          "x": 531,
          "y": 2
         },
         {
          "x": 532,
          "y": 4
         },
         {
          "x": 533,
          "y": 3
         },
         {
          "x": 534,
          "y": 0
         },
         {
          "x": 535,
          "y": 0
         },
         {
          "x": 536,
          "y": 0
         },
         {
          "x": 537,
          "y": 11
         },
         {
          "x": 538,
          "y": 46
         },
         {
          "x": 539,
          "y": 98
         },
         {
          "x": 540,
          "y": 157
         },
         {
          "x": 541,
          "y": 209
         },
         {
          "x": 542,
          "y": 244
         },
         {
          "x": 543,
          "y": 255
         },
         {
          "x": 544,
          "y": 255
         },
         {
          "x": 545,
          "y": 255
         },
         {
          "x": 546,
          "y": 252
         },
         {
          "x": 547,
          "y": 251
         },
         {
          "x": 548,
          "y": 253
         },
         {
          "x": 549,
          "y": 255
         },
         {
          "x": 550,
          "y": 255
         },
         {
          "x": 551,
          "y": 253
         },
         {
          "x": 552,
          "y": 251
         },
         {
          "x": 553,
          "y": 252
         },
         {
          "x": 554,
          "y": 255
         },
         {
          "x": 555,
          "y": 255
         },
         {
          "x": 556,
          "y": 255
         },
         {
          "x": 557,
          "y": 245
         },
         {
          "x": 558,
          "y": 211
         },
         {
          "x": 559,
          "y": 160
         },
         {
          "x": 560,
          "y": 101
         },
         {
          "x": 561,
          "y": 47
         },
         {
          "x": 562,
          "y": 7
         },
         {
          "x": 563,
          "y": 0
         },
         {
          "x": 564,
          "y": 0
         },
         {
          "x": 565,
          "y": 0
         },
         {
          "x": 566,
          "y": 11
         },
         {
          "x": 567,
          "y": 37
         },
         {
          "x": 568,
          "y": 69
         },
         {
          "x": 569,
          "y": 108
         },
         {
          "x": 570,
          "y": 148
         },
         {
          "x": 571,
          "y": 188
         },
         {
          "x": 572,
          "y": 223
         },
         {
          "x": 573,
          "y": 247
         },
         {
          "x": 574,
          "y": 255
         },
         {
          "x": 575,
          "y": 255
         },
         {
          "x": 576,
          "y": 255
         },
         {
          "x": 577,
          "y": 255
         },
         {
          "x": 578,
          "y": 252
         },
         {
          "x": 579,
          "y": 251
         },
         {
          "x": 580,
          "y": 253
         },
         {
          "x": 581,
          "y": 255
         },
         {
          "x": 582,
          "y": 255
         },
         {
          "x": 583,
          "y": 255
         },
         {
          "x": 584,
          "y": 255
         },
         {
          "x": 585,
          "y": 255
         },
         {
          "x": 586,
          "y": 255
         },
         {
          "x": 587,
          "y": 255
         },
         {
          "x": 588,
          "y": 254
         },
         {
          "x": 589,
          "y": 254
         },
         {
          "x": 590,
          "y": 255
         },
         {
          "x": 591,
          "y": 254
         },
         {
          "x": 592,
          "y": 252
         },
         {
          "x": 593,
          "y": 253
         },
         {
          "x": 594,
          "y": 255
         },
         {
          "x": 595,
          "y": 255
         },
         {
          "x": 596,
          "y": 255
         },
         {
          "x": 597,
          "y": 243
         },
         {
          "x": 598,
          "y": 209
         },
         {
          "x": 599,
          "y": 159
         },
         {
          "x": 600,
          "y": 101
         },
         {
          "x": 601,
          "y": 48
         },
         {
          "x": 602,
          "y": 8
         },
         {
          "x": 603,
          "y": 0
         },
         {
          "x": 604,
          "y": 0
         },
         {
          "x": 605,
          "y": 0
         },
         {
          "x": 606,
          "y": 11
         },
         {
          "x": 607,
          "y": 36
         },
         {
          "x": 608,
          "y": 68
         },
         {
          "x": 609,
          "y": 107
         },
         {
          "x": 610,
          "y": 149
         },
         {
          "x": 611,
          "y": 187
         },
         {
          "x": 612,
          "y": 219
         },
         {
          "x": 613,
          "y": 245
         },
         {
          "x": 614,
          "y": 255
         },
         {
          "x": 615,
          "y": 255
         },
         {
          "x": 616,
          "y": 255
         },
         {
          "x": 617,
          "y": 247
         },
         {
          "x": 618,
          "y": 207
         },
         {
          "x": 619,
          "y": 153
         },
         {
          "x": 620,
          "y": 96
         },
         {
          "x": 621,
          "y": 45
         },
         {
          "x": 622,
          "y": 11
         },
         {
          "x": 623,
          "y": 0
         },
         {
          "x": 624,
          "y": 0
         },
         {
          "x": 625,
          "y": 0
         },
         {
          "x": 626,
          "y": 3
         },
         {
          "x": 627,
          "y": 4
         },
         {
          "x": 628,
          "y": 1
         },
         {
          "x": 629,
          "y": 0
         },
         {
          "x": 630,
          "y": 1
         },
         {
          "x": 631,
          "y": 1
         },
         {
          "x": 632,
          "y": 1
         },
         {
          "x": 633,
          "y": 1
         },
         {
          "x": 634,
          "y": 1
         },
         {
          "x": 635,
          "y": 1
         },
         {
          "x": 636,
          "y": 0
         },
         {
          "x": 637,
          "y": 0
         },
         {
          "x": 638,
          "y": 0
         },
         {
          "x": 639,
          "y": 2
         },
         {
          "x": 640,
          "y": 4
         },
         {
          "x": 641,
          "y": 3
         },
         {
          "x": 642,
          "y": 0
         },
         {
          "x": 643,
          "y": 0
         },
         {
          "x": 644,
          "y": 0
         },
         {
          "x": 645,
          "y": 0
         },
         {
          "x": 646,
          "y": 8
         },
         {
          "x": 647,
          "y": 33
         },
         {
          "x": 648,
          "y": 68
         },
         {
          "x": 649,
          "y": 108
         },
         {
          "x": 650,
          "y": 148
         },
         {
          "x": 651,
          "y": 188
         },
         {
          "x": 652,
          "y": 222
         },
         {
          "x": 653,
          "y": 247
         },
         {
          "x": 654,
          "y": 255
         },
         {
          "x": 655,
          "y": 255
         },
         {
          "x": 656,
          "y": 255
         },
         {
          "x": 657,
          "y": 255
         },
         {
          "x": 658,
          "y": 251
         },
         {
          "x": 659,
          "y": 250
         },
         {
          "x": 660,
          "y": 253
         },
         {
          "x": 661,
          "y": 255
         },
         {
          "x": 662,
          "y": 255
         },
         {
          "x": 663,
          "y": 255
         },
         {
          "x": 664,
          "y": 255
         },
         {
          "x": 665,
          "y": 255
         },
         {
          "x": 666,
          "y": 255
         },
         {
          "x": 667,
          "y": 255
         },
         {
          "x": 668,
          "y": 254
         },
         {
          "x": 669,
          "y": 254
         },
         {
          "x": 670,
          "y": 255
         },
         {
          "x": 671,
          "y": 254
         },
         {
          "x": 672,
          "y": 252
         },
         {
          "x": 673,
          "y": 252
         },
         {
          "x": 674,
          "y": 255
         },
         {
          "x": 675,
          "y": 255
         },
         {
          "x": 676,
          "y": 255
         },
         {
          "x": 677,
          "y": 245
         },
         {
          "x": 678,
          "y": 211
         },
         {
          "x": 679,
          "y": 160
         },
         {
          "x": 680,
          "y": 102
         },
         {
          "x": 681,
          "y": 48
         },
         {
          "x": 682,
          "y": 7
         },
         {
          "x": 683,
          "y": 0
         },
         {
          "x": 684,
          "y": 0
         },
         {
          "x": 685,
          "y": 0
         },
         {
          "x": 686,
          "y": 11
         },
         {
          "x": 687,
          "y": 37
         },
         {
          "x": 688,
          "y": 70
         },
         {
          "x": 689,
          "y": 109
         },
         {
          "x": 690,
          "y": 149
         },
         {
          "x": 691,
          "y": 189
         },
         {
          "x": 692,
          "y": 222
         },
         {
          "x": 693,
          "y": 246
         },
         {
          "x": 694,
          "y": 255
         },
         {
          "x": 695,
          "y": 255
         },
         {
          "x": 696,
          "y": 255
         },
         {
          "x": 697,
          "y": 255
         },
         {
          "x": 698,
          "y": 252
         },
         {
          "x": 699,
          "y": 249
         },
         {
          "x": 700,
          "y": 249
         },
         {
          "x": 701,
          "y": 252
         },
         {
          "x": 702,
          "y": 255
         },
         {
          "x": 703,
          "y": 255
         },
         {
          "x": 704,
          "y": 255
         },
         {
          "x": 705,
          "y": 255
         },
         {
          "x": 706,
          "y": 247
         },
         {
          "x": 707,
          "y": 223
         },
         {
          "x": 708,
          "y": 188
         },
         {
          "x": 709,
          "y": 148
         },
         {
          "x": 710,
          "y": 108
         },
         {
          "x": 711,
          "y": 69
         },
         {
          "x": 712,
          "y": 37
         },
         {
          "x": 713,
          "y": 11
         },
         {
          "x": 714,
          "y": 0
         },
         {
          "x": 715,
          "y": 0
         },
         {
          "x": 716,
          "y": 0
         },
         {
          "x": 717,
          "y": 7
         },
         {
          "x": 718,
          "y": 47
         },
         {
          "x": 719,
          "y": 101
         },
         {
          "x": 720,
          "y": 160
         },
         {
          "x": 721,
          "y": 211
         },
         {
          "x": 722,
          "y": 245
         },
         {
          "x": 723,
          "y": 255
         },
         {
          "x": 724,
          "y": 255
         },
         {
          "x": 725,
          "y": 255
         },
         {
          "x": 726,
          "y": 252
         },
         {
          "x": 727,
          "y": 251
         },
         {
          "x": 728,
          "y": 253
         },
         {
          "x": 729,
          "y": 255
         },
         {
          "x": 730,
          "y": 255
         },
         {
          "x": 731,
          "y": 253
         },
         {
          "x": 732,
          "y": 251
         },
         {
          "x": 733,
          "y": 252
         },
         {
          "x": 734,
          "y": 255
         },
         {
          "x": 735,
          "y": 255
         },
         {
          "x": 736,
          "y": 255
         },
         {
          "x": 737,
          "y": 244
         },
         {
          "x": 738,
          "y": 210
         },
         {
          "x": 739,
          "y": 159
         },
         {
          "x": 740,
          "y": 102
         },
         {
          "x": 741,
          "y": 48
         },
         {
          "x": 742,
          "y": 8
         },
         {
          "x": 743,
          "y": 0
         },
         {
          "x": 744,
          "y": 0
         },
         {
          "x": 745,
          "y": 0
         },
         {
          "x": 746,
          "y": 11
         },
         {
          "x": 747,
          "y": 37
         },
         {
          "x": 748,
          "y": 70
         },
         {
          "x": 749,
          "y": 109
         },
         {
          "x": 750,
          "y": 149
         },
         {
          "x": 751,
          "y": 189
         },
         {
          "x": 752,
          "y": 223
         },
         {
          "x": 753,
          "y": 247
         },
         {
          "x": 754,
          "y": 255
         },
         {
          "x": 755,
          "y": 255
         },
         {
          "x": 756,
          "y": 255
         },
         {
          "x": 757,
          "y": 255
         },
         {
          "x": 758,
          "y": 252
         },
         {
          "x": 759,
          "y": 249
         },
         {
          "x": 760,
          "y": 249
         },
         {
          "x": 761,
          "y": 252
         },
         {
          "x": 762,
          "y": 255
         },
         {
          "x": 763,
          "y": 255
         },
         {
          "x": 764,
          "y": 255
         },
         {
          "x": 765,
          "y": 255
         },
         {
          "x": 766,
          "y": 247
         },
         {
          "x": 767,
          "y": 222
         },
         {
          "x": 768,
          "y": 187
         },
         {
          "x": 769,
          "y": 148
         },
         {
          "x": 770,
          "y": 108
         },
         {
          "x": 771,
          "y": 68
         },
         {
          "x": 772,
          "y": 33
         },
         {
          "x": 773,
          "y": 8
         },
         {
          "x": 774,
          "y": 0
         },
         {
          "x": 775,
          "y": 0
         },
         {
          "x": 776,
          "y": 0
         },
         {
          "x": 777,
          "y": 0
         },
         {
          "x": 778,
          "y": 3
         },
         {
          "x": 779,
          "y": 6
         },
         {
          "x": 780,
          "y": 6
         },
         {
          "x": 781,
          "y": 3
         },
         {
          "x": 782,
          "y": 0
         },
         {
          "x": 783,
          "y": 0
         },
         {
          "x": 784,
          "y": 0
         },
         {
          "x": 785,
          "y": 0
         },
         {
          "x": 786,
          "y": 8
         },
         {
          "x": 787,
          "y": 33
         },
         {
          "x": 788,
          "y": 68
         },
         {
          "x": 789,
          "y": 108
         },
         {
          "x": 790,
          "y": 148
         },
         {
          "x": 791,
          "y": 187
         },
         {
          "x": 792,
          "y": 222
         },
         {
          "x": 793,
          "y": 247
         },
         {
          "x": 794,
          "y": 255
         },
         {
          "x": 795,
          "y": 255
         },
         {
          "x": 796,
          "y": 255
         },
         {
          "x": 797,
          "y": 255
         },
         {
          "x": 798,
          "y": 252
         },
         {
          "x": 799,
          "y": 249
         },
         {
          "x": 800,
          "y": 249
         },
         {
          "x": 801,
          "y": 252
         },
         {
          "x": 802,
          "y": 255
         },
         {
          "x": 803,
          "y": 255
         },
         {
          "x": 804,
          "y": 255
         },
         {
          "x": 805,
          "y": 255
         },
         {
          "x": 806,
          "y": 247
         },
         {
          "x": 807,
          "y": 222
         },
         {
          "x": 808,
          "y": 187
         },
         {
          "x": 809,
          "y": 148
         },
         {
          "x": 810,
          "y": 108
         },
         {
          "x": 811,
          "y": 68
         },
         {
          "x": 812,
          "y": 33
         },
         {
          "x": 813,
          "y": 8
         },
         {
          "x": 814,
          "y": 0
         },
         {
          "x": 815,
          "y": 0
         },
         {
          "x": 816,
          "y": 0
         },
         {
          "x": 817,
          "y": 0
         },
         {
          "x": 818,
          "y": 3
         },
         {
          "x": 819,
          "y": 6
         },
         {
          "x": 820,
          "y": 6
         },
         {
          "x": 821,
          "y": 3
         },
         {
          "x": 822,
          "y": 0
         },
         {
          "x": 823,
          "y": 0
         },
         {
          "x": 824,
          "y": 0
         },
         {
          "x": 825,
          "y": 0
         },
         {
          "x": 826,
          "y": 8
         },
         {
          "x": 827,
          "y": 33
         },
         {
          "x": 828,
          "y": 68
         },
         {
          "x": 829,
          "y": 108
         },
         {
          "x": 830,
          "y": 148
         },
         {
          "x": 831,
          "y": 187
         },
         {
          "x": 832,
          "y": 222
         },
         {
          "x": 833,
          "y": 247
         },
         {
          "x": 834,
          "y": 255
         },
         {
          "x": 835,
          "y": 255
         },
         {
          "x": 836,
          "y": 255
         },
         {
          "x": 837,
          "y": 255
         },
         {
          "x": 838,
          "y": 252
         },
         {
          "x": 839,
          "y": 249
         },
         {
          "x": 840,
          "y": 249
         },
         {
          "x": 841,
          "y": 252
         },
         {
          "x": 842,
          "y": 255
         },
         {
          "x": 843,
          "y": 255
         },
         {
          "x": 844,
          "y": 255
         },
         {
          "x": 845,
          "y": 255
         },
         {
          "x": 846,
          "y": 247
         },
         {
          "x": 847,
          "y": 222
         },
         {
          "x": 848,
          "y": 187
         },
         {
          "x": 849,
          "y": 148
         },
         {
          "x": 850,
          "y": 108
         },
         {
          "x": 851,
          "y": 69
         },
         {
          "x": 852,
          "y": 34
         },
         {
          "x": 853,
          "y": 9
         },
         {
          "x": 854,
          "y": 0
         },
         {
          "x": 855,
          "y": 0
         },
         {
          "x": 856,
          "y": 0
         },
         {
          "x": 857,
          "y": 0
         },
         {
          "x": 858,
          "y": 3
         },
         {
          "x": 859,
          "y": 4
         },
         {
          "x": 860,
          "y": 3
         },
         {
          "x": 861,
          "y": 1
         },
         {
          "x": 862,
          "y": 1
         },
         {
          "x": 863,
          "y": 1
         },
         {
          "x": 864,
          "y": 0
         },
         {
          "x": 865,
          "y": 0
         },
         {
          "x": 866,
          "y": 0
         },
         {
          "x": 867,
          "y": 0
         },
         {
          "x": 868,
          "y": 1
         },
         {
          "x": 869,
          "y": 0
         },
         {
          "x": 870,
          "y": 0
         },
         {
          "x": 871,
          "y": 1
         },
         {
          "x": 872,
          "y": 4
         },
         {
          "x": 873,
          "y": 3
         },
         {
          "x": 874,
          "y": 0
         },
         {
          "x": 875,
          "y": 0
         },
         {
          "x": 876,
          "y": 0
         },
         {
          "x": 877,
          "y": 11
         },
         {
          "x": 878,
          "y": 45
         },
         {
          "x": 879,
          "y": 96
         },
         {
          "x": 880,
          "y": 153
         },
         {
          "x": 881,
          "y": 207
         },
         {
          "x": 882,
          "y": 247
         },
         {
          "x": 883,
          "y": 255
         },
         {
          "x": 884,
          "y": 255
         },
         {
          "x": 885,
          "y": 255
         },
         {
          "x": 886,
          "y": 245
         },
         {
          "x": 887,
          "y": 219
         },
         {
          "x": 888,
          "y": 187
         },
         {
          "x": 889,
          "y": 149
         },
         {
          "x": 890,
          "y": 107
         },
         {
          "x": 891,
          "y": 68
         },
         {
          "x": 892,
          "y": 36
         },
         {
          "x": 893,
          "y": 11
         },
         {
          "x": 894,
          "y": 0
         },
         {
          "x": 895,
          "y": 0
         },
         {
          "x": 896,
          "y": 0
         },
         {
          "x": 897,
          "y": 8
         },
         {
          "x": 898,
          "y": 48
         },
         {
          "x": 899,
          "y": 99
         },
         {
          "x": 900,
          "y": 155
         },
         {
          "x": 901,
          "y": 206
         },
         {
          "x": 902,
          "y": 246
         },
         {
          "x": 903,
          "y": 255
         },
         {
          "x": 904,
          "y": 255
         },
         {
          "x": 905,
          "y": 255
         },
         {
          "x": 906,
          "y": 245
         },
         {
          "x": 907,
          "y": 219
         },
         {
          "x": 908,
          "y": 187
         },
         {
          "x": 909,
          "y": 148
         },
         {
          "x": 910,
          "y": 107
         },
         {
          "x": 911,
          "y": 68
         },
         {
          "x": 912,
          "y": 33
         },
         {
          "x": 913,
          "y": 8
         },
         {
          "x": 914,
          "y": 0
         },
         {
          "x": 915,
          "y": 0
         },
         {
          "x": 916,
          "y": 0
         },
         {
          "x": 917,
          "y": 0
         },
         {
          "x": 918,
          "y": 3
         },
         {
          "x": 919,
          "y": 4
         },
         {
          "x": 920,
          "y": 2
         },
         {
          "x": 921,
          "y": 0
         },
         {
          "x": 922,
          "y": 0
         },
         {
          "x": 923,
          "y": 0
         },
         {
          "x": 924,
          "y": 0
         },
         {
          "x": 925,
          "y": 0
         },
         {
          "x": 926,
          "y": 0
         },
         {
          "x": 927,
          "y": 0
         },
         {
          "x": 928,
          "y": 1
         },
         {
          "x": 929,
          "y": 1
         },
         {
          "x": 930,
          "y": 0
         },
         {
          "x": 931,
          "y": 1
         },
         {
          "x": 932,
          "y": 3
         },
         {
          "x": 933,
          "y": 2
         },
         {
          "x": 934,
          "y": 0
         },
         {
          "x": 935,
          "y": 0
         },
         {
          "x": 936,
          "y": 0
         },
         {
          "x": 937,
          "y": 11
         },
         {
          "x": 938,
          "y": 45
         },
         {
          "x": 939,
          "y": 96
         },
         {
          "x": 940,
          "y": 153
         },
         {
          "x": 941,
          "y": 207
         },
         {
          "x": 942,
          "y": 247
         },
         {
          "x": 943,
          "y": 255
         },
         {
          "x": 944,
          "y": 255
         },
         {
          "x": 945,
          "y": 255
         },
         {
          "x": 946,
          "y": 245
         },
         {
          "x": 947,
          "y": 219
         },
         {
          "x": 948,
          "y": 187
         },
         {
          "x": 949,
          "y": 149
         },
         {
          "x": 950,
          "y": 107
         },
         {
          "x": 951,
          "y": 68
         },
         {
          "x": 952,
          "y": 36
         },
         {
          "x": 953,
          "y": 11
         },
         {
          "x": 954,
          "y": 0
         },
         {
          "x": 955,
          "y": 0
         },
         {
          "x": 956,
          "y": 0
         },
         {
          "x": 957,
          "y": 8
         },
         {
          "x": 958,
          "y": 48
         },
         {
          "x": 959,
          "y": 100
         },
         {
          "x": 960,
          "y": 155
         },
         {
          "x": 961,
          "y": 207
         },
         {
          "x": 962,
          "y": 247
         },
         {
          "x": 963,
          "y": 255
         },
         {
          "x": 964,
          "y": 255
         },
         {
          "x": 965,
          "y": 255
         },
         {
          "x": 966,
          "y": 245
         },
         {
          "x": 967,
          "y": 219
         },
         {
          "x": 968,
          "y": 187
         },
         {
          "x": 969,
          "y": 148
         },
         {
          "x": 970,
          "y": 108
         },
         {
          "x": 971,
          "y": 68
         },
         {
          "x": 972,
          "y": 33
         },
         {
          "x": 973,
          "y": 8
         },
         {
          "x": 974,
          "y": 0
         },
         {
          "x": 975,
          "y": 0
         },
         {
          "x": 976,
          "y": 0
         },
         {
          "x": 977,
          "y": 0
         },
         {
          "x": 978,
          "y": 3
         },
         {
          "x": 979,
          "y": 4
         },
         {
          "x": 980,
          "y": 2
         },
         {
          "x": 981,
          "y": 0
         },
         {
          "x": 982,
          "y": 0
         },
         {
          "x": 983,
          "y": 0
         },
         {
          "x": 984,
          "y": 0
         },
         {
          "x": 985,
          "y": 0
         },
         {
          "x": 986,
          "y": 0
         },
         {
          "x": 987,
          "y": 0
         },
         {
          "x": 988,
          "y": 1
         },
         {
          "x": 989,
          "y": 1
         },
         {
          "x": 990,
          "y": 0
         },
         {
          "x": 991,
          "y": 1
         },
         {
          "x": 992,
          "y": 3
         },
         {
          "x": 993,
          "y": 2
         },
         {
          "x": 994,
          "y": 0
         },
         {
          "x": 995,
          "y": 0
         },
         {
          "x": 996,
          "y": 0
         },
         {
          "x": 997,
          "y": 12
         },
         {
          "x": 998,
          "y": 47
         },
         {
          "x": 999,
          "y": 98
         },
         {
          "x": 1000,
          "y": 158
         },
         {
          "x": 1001,
          "y": 210
         },
         {
          "x": 1002,
          "y": 244
         },
         {
          "x": 1003,
          "y": 255
         },
         {
          "x": 1004,
          "y": 255
         },
         {
          "x": 1005,
          "y": 255
         },
         {
          "x": 1006,
          "y": 252
         },
         {
          "x": 1007,
          "y": 251
         },
         {
          "x": 1008,
          "y": 253
         },
         {
          "x": 1009,
          "y": 254
         },
         {
          "x": 1010,
          "y": 254
         },
         {
          "x": 1011,
          "y": 253
         },
         {
          "x": 1012,
          "y": 251
         },
         {
          "x": 1013,
          "y": 252
         },
         {
          "x": 1014,
          "y": 255
         },
         {
          "x": 1015,
          "y": 255
         },
         {
          "x": 1016,
          "y": 255
         },
         {
          "x": 1017,
          "y": 244
         },
         {
          "x": 1018,
          "y": 209
         },
         {
          "x": 1019,
          "y": 157
         },
         {
          "x": 1020,
          "y": 98
         },
         {
          "x": 1021,
          "y": 46
         },
         {
          "x": 1022,
          "y": 11
         },
         {
          "x": 1023,
          "y": 0
         },
         {
          "x": 1024,
          "y": 0
         },
         {
          "x": 1025,
          "y": 0
         },
         {
          "x": 1026,
          "y": 3
         },
         {
          "x": 1027,
          "y": 4
         },
         {
          "x": 1028,
          "y": 2
         },
         {
          "x": 1029,
          "y": 1
         },
         {
          "x": 1030,
          "y": 2
         },
         {
          "x": 1031,
          "y": 2
         },
         {
          "x": 1032,
          "y": 1
         },
         {
          "x": 1033,
          "y": 0
         },
         {
          "x": 1034,
          "y": 0
         },
         {
          "x": 1035,
          "y": 0
         },
         {
          "x": 1036,
          "y": 0
         },
         {
          "x": 1037,
          "y": 0
         },
         {
          "x": 1038,
          "y": 0
         },
         {
          "x": 1039,
          "y": 2
         },
         {
          "x": 1040,
          "y": 4
         },
         {
          "x": 1041,
          "y": 3
         },
         {
          "x": 1042,
          "y": 0
         },
         {
          "x": 1043,
          "y": 0
         },
         {
          "x": 1044,
          "y": 0
         },
         {
          "x": 1045,
          "y": 0
         },
         {
          "x": 1046,
          "y": 9
         },
         {
          "x": 1047,
          "y": 34
         },
         {
          "x": 1048,
          "y": 68
         },
         {
          "x": 1049,
          "y": 108
         },
         {
          "x": 1050,
          "y": 148
         },
         {
          "x": 1051,
          "y": 186
         },
         {
          "x": 1052,
          "y": 219
         },
         {
          "x": 1053,
          "y": 245
         },
         {
          "x": 1054,
          "y": 255
         },
         {
          "x": 1055,
          "y": 255
         },
         {
          "x": 1056,
          "y": 255
         },
         {
          "x": 1057,
          "y": 247
         },
         {
          "x": 1058,
          "y": 207
         },
         {
          "x": 1059,
          "y": 153
         },
         {
          "x": 1060,
          "y": 96
         },
         {
          "x": 1061,
          "y": 45
         },
         {
          "x": 1062,
          "y": 11
         },
         {
          "x": 1063,
          "y": 0
         },
         {
          "x": 1064,
          "y": 0
         },
         {
          "x": 1065,
          "y": 0
         },
         {
          "x": 1066,
          "y": 3
         },
         {
          "x": 1067,
          "y": 4
         },
         {
          "x": 1068,
          "y": 2
         },
         {
          "x": 1069,
          "y": 1
         },
         {
          "x": 1070,
          "y": 2
         },
         {
          "x": 1071,
          "y": 2
         },
         {
          "x": 1072,
          "y": 1
         },
         {
          "x": 1073,
          "y": 0
         },
         {
          "x": 1074,
          "y": 0
         },
         {
          "x": 1075,
          "y": 0
         },
         {
          "x": 1076,
          "y": 0
         },
         {
          "x": 1077,
          "y": 0
         },
         {
          "x": 1078,
          "y": 0
         },
         {
          "x": 1079,
          "y": 2
         },
         {
          "x": 1080,
          "y": 4
         },
         {
          "x": 1081,
          "y": 3
         },
         {
          "x": 1082,
          "y": 0
         },
         {
          "x": 1083,
          "y": 0
         },
         {
          "x": 1084,
          "y": 0
         },
         {
          "x": 1085,
          "y": 0
         },
         {
          "x": 1086,
          "y": 8
         },
         {
          "x": 1087,
          "y": 33
         },
         {
          "x": 1088,
          "y": 68
         },
         {
          "x": 1089,
          "y": 108
         },
         {
          "x": 1090,
          "y": 148
         },
         {
          "x": 1091,
          "y": 187
         },
         {
          "x": 1092,
          "y": 219
         },
         {
          "x": 1093,
          "y": 245
         },
         {
          "x": 1094,
          "y": 255
         },
         {
          "x": 1095,
          "y": 255
         },
         {
          "x": 1096,
          "y": 255
         },
         {
          "x": 1097,
          "y": 247
         },
         {
          "x": 1098,
          "y": 207
         },
         {
          "x": 1099,
          "y": 155
         },
         {
          "x": 1100,
          "y": 100
         },
         {
          "x": 1101,
          "y": 48
         },
         {
          "x": 1102,
          "y": 8
         },
         {
          "x": 1103,
          "y": 0
         },
         {
          "x": 1104,
          "y": 0
         },
         {
          "x": 1105,
          "y": 0
         },
         {
          "x": 1106,
          "y": 11
         },
         {
          "x": 1107,
          "y": 36
         },
         {
          "x": 1108,
          "y": 69
         },
         {
          "x": 1109,
          "y": 108
         },
         {
          "x": 1110,
          "y": 148
         },
         {
          "x": 1111,
          "y": 188
         },
         {
          "x": 1112,
          "y": 223
         },
         {
          "x": 1113,
          "y": 247
         },
         {
          "x": 1114,
          "y": 255
         },
         {
          "x": 1115,
          "y": 255
         },
         {
          "x": 1116,
          "y": 255
         },
         {
          "x": 1117,
          "y": 255
         },
         {
          "x": 1118,
          "y": 252
         },
         {
          "x": 1119,
          "y": 249
         },
         {
          "x": 1120,
          "y": 249
         },
         {
          "x": 1121,
          "y": 252
         },
         {
          "x": 1122,
          "y": 255
         },
         {
          "x": 1123,
          "y": 255
         },
         {
          "x": 1124,
          "y": 255
         },
         {
          "x": 1125,
          "y": 255
         },
         {
          "x": 1126,
          "y": 247
         },
         {
          "x": 1127,
          "y": 222
         },
         {
          "x": 1128,
          "y": 187
         },
         {
          "x": 1129,
          "y": 148
         },
         {
          "x": 1130,
          "y": 108
         },
         {
          "x": 1131,
          "y": 68
         },
         {
          "x": 1132,
          "y": 33
         },
         {
          "x": 1133,
          "y": 8
         },
         {
          "x": 1134,
          "y": 0
         },
         {
          "x": 1135,
          "y": 0
         },
         {
          "x": 1136,
          "y": 0
         },
         {
          "x": 1137,
          "y": 0
         },
         {
          "x": 1138,
          "y": 3
         },
         {
          "x": 1139,
          "y": 4
         },
         {
          "x": 1140,
          "y": 2
         },
         {
          "x": 1141,
          "y": 0
         },
         {
          "x": 1142,
          "y": 0
         },
         {
          "x": 1143,
          "y": 0
         },
         {
          "x": 1144,
          "y": 0
         },
         {
          "x": 1145,
          "y": 0
         },
         {
          "x": 1146,
          "y": 0
         },
         {
          "x": 1147,
          "y": 0
         },
         {
          "x": 1148,
          "y": 1
         },
         {
          "x": 1149,
          "y": 1
         },
         {
          "x": 1150,
          "y": 0
         },
         {
          "x": 1151,
          "y": 1
         },
         {
          "x": 1152,
          "y": 3
         },
         {
          "x": 1153,
          "y": 2
         },
         {
          "x": 1154,
          "y": 0
         },
         {
          "x": 1155,
          "y": 0
         },
         {
          "x": 1156,
          "y": 0
         },
         {
          "x": 1157,
          "y": 12
         },
         {
          "x": 1158,
          "y": 47
         },
         {
          "x": 1159,
          "y": 98
         },
         {
          "x": 1160,
          "y": 158
         },
         {
          "x": 1161,
          "y": 210
         },
         {
          "x": 1162,
          "y": 244
         },
         {
          "x": 1163,
          "y": 255
         },
         {
          "x": 1164,
          "y": 255
         },
         {
          "x": 1165,
          "y": 255
         },
         {
          "x": 1166,
          "y": 252
         },
         {
          "x": 1167,
          "y": 251
         },
         {
          "x": 1168,
          "y": 253
         },
         {
          "x": 1169,
          "y": 254
         },
         {
          "x": 1170,
          "y": 254
         },
         {
          "x": 1171,
          "y": 253
         },
         {
          "x": 1172,
          "y": 251
         },
         {
          "x": 1173,
          "y": 252
         },
         {
          "x": 1174,
          "y": 255
         },
         {
          "x": 1175,
          "y": 255
         },
         {
          "x": 1176,
          "y": 255
         },
         {
          "x": 1177,
          "y": 244
         },
         {
          "x": 1178,
          "y": 209
         },
         {
          "x": 1179,
          "y": 157
         },
         {
          "x": 1180,
          "y": 98
         },
         {
          "x": 1181,
          "y": 46
         },
         {
          "x": 1182,
          "y": 11
         },
         {
          "x": 1183,
          "y": 0
         },
         {
          "x": 1184,
          "y": 0
         },
         {
          "x": 1185,
          "y": 0
         },
         {
          "x": 1186,
          "y": 3
         },
         {
          "x": 1187,
          "y": 4
         },
         {
          "x": 1188,
          "y": 2
         },
         {
          "x": 1189,
          "y": 1
         },
         {
          "x": 1190,
          "y": 2
         },
         {
          "x": 1191,
          "y": 2
         },
         {
          "x": 1192,
          "y": 1
         },
         {
          "x": 1193,
          "y": 0
         },
         {
          "x": 1194,
          "y": 0
         },
         {
          "x": 1195,
          "y": 0
         },
         {
          "x": 1196,
          "y": 0
         },
         {
          "x": 1197,
          "y": 0
         },
         {
          "x": 1198,
          "y": 0
         },
         {
          "x": 1199,
          "y": 2
         },
         {
          "x": 1200,
          "y": 4
         },
         {
          "x": 1201,
          "y": 3
         },
         {
          "x": 1202,
          "y": 0
         },
         {
          "x": 1203,
          "y": 0
         },
         {
          "x": 1204,
          "y": 0
         },
         {
          "x": 1205,
          "y": 0
         },
         {
          "x": 1206,
          "y": 9
         },
         {
          "x": 1207,
          "y": 34
         },
         {
          "x": 1208,
          "y": 68
         },
         {
          "x": 1209,
          "y": 108
         },
         {
          "x": 1210,
          "y": 148
         },
         {
          "x": 1211,
          "y": 186
         },
         {
          "x": 1212,
          "y": 219
         },
         {
          "x": 1213,
          "y": 245
         },
         {
          "x": 1214,
          "y": 255
         },
         {
          "x": 1215,
          "y": 255
         },
         {
          "x": 1216,
          "y": 255
         },
         {
          "x": 1217,
          "y": 247
         },
         {
          "x": 1218,
          "y": 207
         },
         {
          "x": 1219,
          "y": 155
         },
         {
          "x": 1220,
          "y": 100
         },
         {
          "x": 1221,
          "y": 48
         },
         {
          "x": 1222,
          "y": 8
         },
         {
          "x": 1223,
          "y": 0
         },
         {
          "x": 1224,
          "y": 0
         },
         {
          "x": 1225,
          "y": 0
         },
         {
          "x": 1226,
          "y": 11
         },
         {
          "x": 1227,
          "y": 37
         },
         {
          "x": 1228,
          "y": 70
         },
         {
          "x": 1229,
          "y": 109
         },
         {
          "x": 1230,
          "y": 149
         },
         {
          "x": 1231,
          "y": 189
         },
         {
          "x": 1232,
          "y": 223
         },
         {
          "x": 1233,
          "y": 247
         },
         {
          "x": 1234,
          "y": 255
         },
         {
          "x": 1235,
          "y": 255
         },
         {
          "x": 1236,
          "y": 255
         },
         {
          "x": 1237,
          "y": 255
         },
         {
          "x": 1238,
          "y": 252
         },
         {
          "x": 1239,
          "y": 251
         },
         {
          "x": 1240,
          "y": 253
         },
         {
          "x": 1241,
          "y": 255
         },
         {
          "x": 1242,
          "y": 255
         },
         {
          "x": 1243,
          "y": 255
         },
         {
          "x": 1244,
          "y": 255
         },
         {
          "x": 1245,
          "y": 255
         },
         {
          "x": 1246,
          "y": 255
         },
         {
          "x": 1247,
          "y": 255
         },
         {
          "x": 1248,
          "y": 254
         },
         {
          "x": 1249,
          "y": 254
         },
         {
          "x": 1250,
          "y": 255
         },
         {
          "x": 1251,
          "y": 254
         },
         {
          "x": 1252,
          "y": 252
         },
         {
          "x": 1253,
          "y": 253
         },
         {
          "x": 1254,
          "y": 255
         },
         {
          "x": 1255,
          "y": 255
         },
         {
          "x": 1256,
          "y": 255
         },
         {
          "x": 1257,
          "y": 244
         },
         {
          "x": 1258,
          "y": 210
         },
         {
          "x": 1259,
          "y": 159
         },
         {
          "x": 1260,
          "y": 102
         },
         {
          "x": 1261,
          "y": 48
         },
         {
          "x": 1262,
          "y": 8
         },
         {
          "x": 1263,
          "y": 0
         },
         {
          "x": 1264,
          "y": 0
         },
         {
          "x": 1265,
          "y": 0
         },
         {
          "x": 1266,
          "y": 10
         },
         {
          "x": 1267,
          "y": 36
         },
         {
          "x": 1268,
          "y": 68
         },
         {
          "x": 1269,
          "y": 107
         },
         {
          "x": 1270,
          "y": 147
         },
         {
          "x": 1271,
          "y": 187
         },
         {
          "x": 1272,
          "y": 222
         },
         {
          "x": 1273,
          "y": 247
         },
         {
          "x": 1274,
          "y": 255
         },
         {
          "x": 1275,
          "y": 255
         },
         {
          "x": 1276,
          "y": 255
         },
         {
          "x": 1277,
          "y": 255
         },
         {
          "x": 1278,
          "y": 252
         },
         {
          "x": 1279,
          "y": 249
         },
         {
          "x": 1280,
          "y": 249
         },
         {
          "x": 1281,
          "y": 252
         },
         {
          "x": 1282,
          "y": 255
         },
         {
          "x": 1283,
          "y": 255
         },
         {
          "x": 1284,
          "y": 255
         },
         {
          "x": 1285,
          "y": 255
         },
         {
          "x": 1286,
          "y": 247
         },
         {
          "x": 1287,
          "y": 222
         },
         {
          "x": 1288,
          "y": 187
         },
         {
          "x": 1289,
          "y": 148
         },
         {
          "x": 1290,
          "y": 108
         },
         {
          "x": 1291,
          "y": 68
         },
         {
          "x": 1292,
          "y": 33
         },
         {
          "x": 1293,
          "y": 8
         },
         {
          "x": 1294,
          "y": 0
         },
         {
          "x": 1295,
          "y": 0
         },
         {
          "x": 1296,
          "y": 0
         },
         {
          "x": 1297,
          "y": 0
         },
         {
          "x": 1298,
          "y": 3
         },
         {
          "x": 1299,
          "y": 6
         },
         {
          "x": 1300,
          "y": 6
         },
         {
          "x": 1301,
          "y": 3
         },
         {
          "x": 1302,
          "y": 0
         },
         {
          "x": 1303,
          "y": 0
         },
         {
          "x": 1304,
          "y": 0
         },
         {
          "x": 1305,
          "y": 0
         },
         {
          "x": 1306,
          "y": 8
         },
         {
          "x": 1307,
          "y": 33
         },
         {
          "x": 1308,
          "y": 68
         },
         {
          "x": 1309,
          "y": 108
         },
         {
          "x": 1310,
          "y": 148
         },
         {
          "x": 1311,
          "y": 187
         },
         {
          "x": 1312,
          "y": 222
         },
         {
          "x": 1313,
          "y": 247
         },
         {
          "x": 1314,
          "y": 255
         },
         {
          "x": 1315,
          "y": 255
         },
         {
          "x": 1316,
          "y": 255
         },
         {
          "x": 1317,
          "y": 255
         },
         {
          "x": 1318,
          "y": 252
         },
         {
          "x": 1319,
          "y": 249
         },
         {
          "x": 1320,
          "y": 249
         },
         {
          "x": 1321,
          "y": 252
         },
         {
          "x": 1322,
          "y": 255
         },
         {
          "x": 1323,
          "y": 255
         },
         {
          "x": 1324,
          "y": 255
         },
         {
          "x": 1325,
          "y": 255
         },
         {
          "x": 1326,
          "y": 247
         },
         {
          "x": 1327,
          "y": 223
         },
         {
          "x": 1328,
          "y": 189
         },
         {
          "x": 1329,
          "y": 149
         },
         {
          "x": 1330,
          "y": 109
         },
         {
          "x": 1331,
          "y": 70
         },
         {
          "x": 1332,
          "y": 37
         },
         {
          "x": 1333,
          "y": 11
         },
         {
          "x": 1334,
          "y": 0
         },
         {
          "x": 1335,
          "y": 0
         },
         {
          "x": 1336,
          "y": 0
         },
         {
          "x": 1337,
          "y": 8
         },
         {
          "x": 1338,
          "y": 48
         },
         {
          "x": 1339,
          "y": 102
         },
         {
          "x": 1340,
          "y": 159
         },
         {
          "x": 1341,
          "y": 210
         },
         {
          "x": 1342,
          "y": 244
         },
         {
          "x": 1343,
          "y": 255
         },
         {
          "x": 1344,
          "y": 255
         },
         {
          "x": 1345,
          "y": 255
         },
         {
          "x": 1346,
          "y": 252
         },
         {
          "x": 1347,
          "y": 251
         },
         {
          "x": 1348,
          "y": 253
         },
         {
          "x": 1349,
          "y": 255
         },
         {
          "x": 1350,
          "y": 255
         },
         {
          "x": 1351,
          "y": 253
         },
         {
          "x": 1352,
          "y": 251
         },
         {
          "x": 1353,
          "y": 252
         },
         {
          "x": 1354,
          "y": 255
         },
         {
          "x": 1355,
          "y": 255
         },
         {
          "x": 1356,
          "y": 255
         },
         {
          "x": 1357,
          "y": 244
         },
         {
          "x": 1358,
          "y": 209
         },
         {
          "x": 1359,
          "y": 157
         },
         {
          "x": 1360,
          "y": 98
         },
         {
          "x": 1361,
          "y": 46
         },
         {
          "x": 1362,
          "y": 11
         },
         {
          "x": 1363,
          "y": 0
         },
         {
          "x": 1364,
          "y": 0
         },
         {
          "x": 1365,
          "y": 0
         },
         {
          "x": 1366,
          "y": 3
         },
         {
          "x": 1367,
          "y": 4
         },
         {
          "x": 1368,
          "y": 2
         },
         {
          "x": 1369,
          "y": 0
         },
         {
          "x": 1370,
          "y": 0
         },
         {
          "x": 1371,
          "y": 2
         },
         {
          "x": 1372,
          "y": 4
         },
         {
          "x": 1373,
          "y": 3
         },
         {
          "x": 1374,
          "y": 0
         },
         {
          "x": 1375,
          "y": 0
         },
         {
          "x": 1376,
          "y": 0
         },
         {
          "x": 1377,
          "y": 11
         },
         {
          "x": 1378,
          "y": 46
         },
         {
          "x": 1379,
          "y": 98
         },
         {
          "x": 1380,
          "y": 157
         },
         {
          "x": 1381,
          "y": 209
         },
         {
          "x": 1382,
          "y": 244
         },
         {
          "x": 1383,
          "y": 255
         },
         {
          "x": 1384,
          "y": 255
         },
         {
          "x": 1385,
          "y": 255
         },
         {
          "x": 1386,
          "y": 252
         },
         {
          "x": 1387,
          "y": 251
         },
         {
          "x": 1388,
          "y": 253
         },
         {
          "x": 1389,
          "y": 254
         },
         {
          "x": 1390,
          "y": 253
         },
         {
          "x": 1391,
          "y": 253
         },
         {
          "x": 1392,
          "y": 254
         },
         {
          "x": 1393,
          "y": 255
         },
         {
          "x": 1394,
          "y": 255
         },
         {
          "x": 1395,
          "y": 255
         },
         {
          "x": 1396,
          "y": 255
         },
         {
          "x": 1397,
          "y": 255
         },
         {
          "x": 1398,
          "y": 255
         },
         {
          "x": 1399,
          "y": 255
         },
         {
          "x": 1400,
          "y": 255
         },
         {
          "x": 1401,
          "y": 255
         },
         {
          "x": 1402,
          "y": 255
         },
         {
          "x": 1403,
          "y": 255
         },
         {
          "x": 1404,
          "y": 255
         },
         {
          "x": 1405,
          "y": 255
         },
         {
          "x": 1406,
          "y": 255
         },
         {
          "x": 1407,
          "y": 255
         },
         {
          "x": 1408,
          "y": 254
         },
         {
          "x": 1409,
          "y": 254
         },
         {
          "x": 1410,
          "y": 255
         },
         {
          "x": 1411,
          "y": 254
         },
         {
          "x": 1412,
          "y": 252
         },
         {
          "x": 1413,
          "y": 253
         },
         {
          "x": 1414,
          "y": 255
         },
         {
          "x": 1415,
          "y": 255
         },
         {
          "x": 1416,
          "y": 255
         },
         {
          "x": 1417,
          "y": 244
         },
         {
          "x": 1418,
          "y": 209
         },
         {
          "x": 1419,
          "y": 157
         },
         {
          "x": 1420,
          "y": 97
         },
         {
          "x": 1421,
          "y": 45
         },
         {
          "x": 1422,
          "y": 10
         },
         {
          "x": 1423,
          "y": 0
         },
         {
          "x": 1424,
          "y": 0
         },
         {
          "x": 1425,
          "y": 0
         },
         {
          "x": 1426,
          "y": 3
         },
         {
          "x": 1427,
          "y": 3
         },
         {
          "x": 1428,
          "y": 1
         },
         {
          "x": 1429,
          "y": 0
         },
         {
          "x": 1430,
          "y": 1
         },
         {
          "x": 1431,
          "y": 1
         },
         {
          "x": 1432,
          "y": 0
         },
         {
          "x": 1433,
          "y": 0
         },
         {
          "x": 1434,
          "y": 0
         },
         {
          "x": 1435,
          "y": 0
         },
         {
          "x": 1436,
          "y": 0
         },
         {
          "x": 1437,
          "y": 0
         },
         {
          "x": 1438,
          "y": 0
         },
         {
          "x": 1439,
          "y": 2
         },
         {
          "x": 1440,
          "y": 4
         },
         {
          "x": 1441,
          "y": 3
         },
         {
          "x": 1442,
          "y": 0
         },
         {
          "x": 1443,
          "y": 0
         },
         {
          "x": 1444,
          "y": 0
         },
         {
          "x": 1445,
          "y": 0
         },
         {
          "x": 1446,
          "y": 8
         },
         {
          "x": 1447,
          "y": 32
         },
         {
          "x": 1448,
          "y": 67
         },
         {
          "x": 1449,
          "y": 107
         },
         {
          "x": 1450,
          "y": 147
         },
         {
          "x": 1451,
          "y": 186
         },
         {
          "x": 1452,
          "y": 219
         },
         {
          "x": 1453,
          "y": 244
         },
         {
          "x": 1454,
          "y": 255
         },
         {
          "x": 1455,
          "y": 255
         },
         {
          "x": 1456,
          "y": 255
         },
         {
          "x": 1457,
          "y": 248
         },
         {
          "x": 1458,
          "y": 207
         },
         {
          "x": 1459,
          "y": 155
         },
         {
          "x": 1460,
          "y": 99
         },
         {
          "x": 1461,
          "y": 47
         },
         {
          "x": 1462,
          "y": 7
         },
         {
          "x": 1463,
          "y": 0
         },
         {
          "x": 1464,
          "y": 0
         },
         {
          "x": 1465,
          "y": 0
         },
         {
          "x": 1466,
          "y": 12
         },
         {
          "x": 1467,
          "y": 37
         },
         {
          "x": 1468,
          "y": 69
         },
         {
          "x": 1469,
          "y": 107
         },
         {
          "x": 1470,
          "y": 149
         },
         {
          "x": 1471,
          "y": 187
         },
         {
          "x": 1472,
          "y": 219
         },
         {
          "x": 1473,
          "y": 244
         },
         {
          "x": 1474,
          "y": 255
         },
         {
          "x": 1475,
          "y": 255
         },
         {
          "x": 1476,
          "y": 255
         },
         {
          "x": 1477,
          "y": 248
         },
         {
          "x": 1478,
          "y": 208
         },
         {
          "x": 1479,
          "y": 156
         },
         {
          "x": 1480,
          "y": 100
         },
         {
          "x": 1481,
          "y": 48
         },
         {
          "x": 1482,
          "y": 7
         },
         {
          "x": 1483,
          "y": 0
         },
         {
          "x": 1484,
          "y": 0
         },
         {
          "x": 1485,
          "y": 0
         },
         {
          "x": 1486,
          "y": 11
         },
         {
          "x": 1487,
          "y": 37
         },
         {
          "x": 1488,
          "y": 70
         },
         {
          "x": 1489,
          "y": 109
         },
         {
          "x": 1490,
          "y": 149
         },
         {
          "x": 1491,
          "y": 189
         },
         {
          "x": 1492,
          "y": 222
         },
         {
          "x": 1493,
          "y": 246
         },
         {
          "x": 1494,
          "y": 255
         },
         {
          "x": 1495,
          "y": 255
         },
         {
          "x": 1496,
          "y": 255
         },
         {
          "x": 1497,
          "y": 255
         },
         {
          "x": 1498,
          "y": 252
         },
         {
          "x": 1499,
          "y": 249
         },
         {
          "x": 1500,
          "y": 249
         },
         {
          "x": 1501,
          "y": 252
         },
         {
          "x": 1502,
          "y": 255
         },
         {
          "x": 1503,
          "y": 255
         },
         {
          "x": 1504,
          "y": 255
         },
         {
          "x": 1505,
          "y": 255
         },
         {
          "x": 1506,
          "y": 247
         },
         {
          "x": 1507,
          "y": 222
         },
         {
          "x": 1508,
          "y": 187
         },
         {
          "x": 1509,
          "y": 148
         },
         {
          "x": 1510,
          "y": 108
         },
         {
          "x": 1511,
          "y": 69
         },
         {
          "x": 1512,
          "y": 34
         },
         {
          "x": 1513,
          "y": 9
         },
         {
          "x": 1514,
          "y": 0
         },
         {
          "x": 1515,
          "y": 0
         },
         {
          "x": 1516,
          "y": 0
         },
         {
          "x": 1517,
          "y": 0
         },
         {
          "x": 1518,
          "y": 3
         },
         {
          "x": 1519,
          "y": 4
         },
         {
          "x": 1520,
          "y": 2
         },
         {
          "x": 1521,
          "y": 0
         },
         {
          "x": 1522,
          "y": 0
         },
         {
          "x": 1523,
          "y": 0
         },
         {
          "x": 1524,
          "y": 0
         },
         {
          "x": 1525,
          "y": 0
         },
         {
          "x": 1526,
          "y": 0
         },
         {
          "x": 1527,
          "y": 1
         },
         {
          "x": 1528,
          "y": 2
         },
         {
          "x": 1529,
          "y": 2
         },
         {
          "x": 1530,
          "y": 1
         },
         {
          "x": 1531,
          "y": 2
         },
         {
          "x": 1532,
          "y": 4
         },
         {
          "x": 1533,
          "y": 3
         },
         {
          "x": 1534,
          "y": 0
         },
         {
          "x": 1535,
          "y": 0
         },
         {
          "x": 1536,
          "y": 0
         },
         {
          "x": 1537,
          "y": 11
         },
         {
          "x": 1538,
          "y": 46
         },
         {
          "x": 1539,
          "y": 98
         },
         {
          "x": 1540,
          "y": 157
         },
         {
          "x": 1541,
          "y": 209
         },
         {
          "x": 1542,
          "y": 244
         },
         {
          "x": 1543,
          "y": 255
         },
         {
          "x": 1544,
          "y": 255
         },
         {
          "x": 1545,
          "y": 255
         },
         {
          "x": 1546,
          "y": 252
         },
         {
          "x": 1547,
          "y": 251
         },
         {
          "x": 1548,
          "y": 253
         },
         {
          "x": 1549,
          "y": 254
         },
         {
          "x": 1550,
          "y": 253
         },
         {
          "x": 1551,
          "y": 253
         },
         {
          "x": 1552,
          "y": 254
         },
         {
          "x": 1553,
          "y": 255
         },
         {
          "x": 1554,
          "y": 255
         },
         {
          "x": 1555,
          "y": 255
         },
         {
          "x": 1556,
          "y": 255
         },
         {
          "x": 1557,
          "y": 255
         },
         {
          "x": 1558,
          "y": 255
         },
         {
          "x": 1559,
          "y": 253
         },
         {
          "x": 1560,
          "y": 251
         },
         {
          "x": 1561,
          "y": 252
         },
         {
          "x": 1562,
          "y": 255
         },
         {
          "x": 1563,
          "y": 255
         },
         {
          "x": 1564,
          "y": 255
         },
         {
          "x": 1565,
          "y": 255
         },
         {
          "x": 1566,
          "y": 247
         },
         {
          "x": 1567,
          "y": 223
         },
         {
          "x": 1568,
          "y": 188
         },
         {
          "x": 1569,
          "y": 148
         },
         {
          "x": 1570,
          "y": 108
         },
         {
          "x": 1571,
          "y": 69
         },
         {
          "x": 1572,
          "y": 36
         },
         {
          "x": 1573,
          "y": 11
         },
         {
          "x": 1574,
          "y": 0
         },
         {
          "x": 1575,
          "y": 0
         },
         {
          "x": 1576,
          "y": 0
         },
         {
          "x": 1577,
          "y": 8
         },
         {
          "x": 1578,
          "y": 48
         },
         {
          "x": 1579,
          "y": 100
         },
         {
          "x": 1580,
          "y": 156
         },
         {
          "x": 1581,
          "y": 207
         },
         {
          "x": 1582,
          "y": 247
         },
         {
          "x": 1583,
          "y": 255
         },
         {
          "x": 1584,
          "y": 255
         },
         {
          "x": 1585,
          "y": 255
         },
         {
          "x": 1586,
          "y": 245
         },
         {
          "x": 1587,
          "y": 220
         },
         {
          "x": 1588,
          "y": 188
         },
         {
          "x": 1589,
          "y": 150
         },
         {
          "x": 1590,
          "y": 108
         },
         {
          "x": 1591,
          "y": 69
         },
         {
          "x": 1592,
          "y": 36
         },
         {
          "x": 1593,
          "y": 11
         },
         {
          "x": 1594,
          "y": 0
         },
         {
          "x": 1595,
          "y": 0
         },
         {
          "x": 1596,
          "y": 0
         },
         {
          "x": 1597,
          "y": 8
         },
         {
          "x": 1598,
          "y": 48
         },
         {
          "x": 1599,
          "y": 102
         },
         {
          "x": 1600,
          "y": 159
         },
         {
          "x": 1601,
          "y": 210
         },
         {
          "x": 1602,
          "y": 244
         },
         {
          "x": 1603,
          "y": 255
         },
         {
          "x": 1604,
          "y": 255
         },
         {
          "x": 1605,
          "y": 255
         },
         {
          "x": 1606,
          "y": 253
         },
         {
          "x": 1607,
          "y": 252
         },
         {
          "x": 1608,
          "y": 254
         },
         {
          "x": 1609,
          "y": 255
         },
         {
          "x": 1610,
          "y": 254
         },
         {
          "x": 1611,
          "y": 250
         },
         {
          "x": 1612,
          "y": 247
         },
         {
          "x": 1613,
          "y": 250
         },
         {
          "x": 1614,
          "y": 255
         },
         {
          "x": 1615,
          "y": 255
         },
         {
          "x": 1616,
          "y": 255
         },
         {
          "x": 1617,
          "y": 255
         },
         {
          "x": 1618,
          "y": 231
         },
         {
          "x": 1619,
          "y": 165
         },
         {
          "x": 1620,
          "y": 89
         },
         {
          "x": 1621,
          "y": 23
         },
         {
          "x": 1622,
          "y": 0
         },
         {
          "x": 1623,
          "y": 0
         },
         {
          "x": 1624,
          "y": 0
         },
         {
          "x": 1625,
          "y": 0
         },
         {
          "x": 1626,
          "y": 5
         },
         {
          "x": 1627,
          "y": 8
         },
         {
          "x": 1628,
          "y": 4
         },
         {
          "x": 1629,
          "y": 0
         },
         {
          "x": 1630,
          "y": 0
         },
         {
          "x": 1631,
          "y": 0
         },
         {
          "x": 1632,
          "y": 0
         },
         {
          "x": 1633,
          "y": 0
         },
         {
          "x": 1634,
          "y": 0
         },
         {
          "x": 1635,
          "y": 0
         },
         {
          "x": 1636,
          "y": 0
         },
         {
          "x": 1637,
          "y": 0
         },
         {
          "x": 1638,
          "y": 0
         },
         {
          "x": 1639,
          "y": 0
         },
         {
          "x": 1640,
          "y": 0
         },
         {
          "x": 1641,
          "y": 0
         },
         {
          "x": 1642,
          "y": 0
         },
         {
          "x": 1643,
          "y": 0
         },
         {
          "x": 1644,
          "y": 0
         },
         {
          "x": 1645,
          "y": 0
         },
         {
          "x": 1646,
          "y": 0
         },
         {
          "x": 1647,
          "y": 0
         },
         {
          "x": 1648,
          "y": 0
         },
         {
          "x": 1649,
          "y": 0
         },
         {
          "x": 1650,
          "y": 0
         },
         {
          "x": 1651,
          "y": 0
         },
         {
          "x": 1652,
          "y": 0
         },
         {
          "x": 1653,
          "y": 0
         },
         {
          "x": 1654,
          "y": 0
         },
         {
          "x": 1655,
          "y": 0
         },
         {
          "x": 1656,
          "y": 0
         },
         {
          "x": 1657,
          "y": 0
         },
         {
          "x": 1658,
          "y": 0
         },
         {
          "x": 1659,
          "y": 0
         },
         {
          "x": 1660,
          "y": 0
         },
         {
          "x": 1661,
          "y": 0
         },
         {
          "x": 1662,
          "y": 0
         },
         {
          "x": 1663,
          "y": 0
         },
         {
          "x": 1664,
          "y": 0
         },
         {
          "x": 1665,
          "y": 0
         },
         {
          "x": 1666,
          "y": 0
         },
         {
          "x": 1667,
          "y": 0
         },
         {
          "x": 1668,
          "y": 0
         },
         {
          "x": 1669,
          "y": 0
         },
         {
          "x": 1670,
          "y": 0
         },
         {
          "x": 1671,
          "y": 0
         },
         {
          "x": 1672,
          "y": 0
         },
         {
          "x": 1673,
          "y": 0
         },
         {
          "x": 1674,
          "y": 0
         },
         {
          "x": 1675,
          "y": 0
         },
         {
          "x": 1676,
          "y": 0
         },
         {
          "x": 1677,
          "y": 0
         },
         {
          "x": 1678,
          "y": 0
         },
         {
          "x": 1679,
          "y": 0
         }
        ]
       },
       "encoding": {
        "size": {
         "value": 1
        },
        "x": {
         "field": "x",
         "type": "quantitative"
        },
        "y": {
         "field": "y",
         "type": "quantitative"
        }
       },
       "mark": "line"
      },
      "image/png": "[encoded data removed]",
      "text/plain": [
       "<VegaLite 2 object>\n",
       "\n",
       "If you see this message, it means the renderer has not been properly enabled\n",
       "for the frontend that you are using. For more information, see\n",
       "https://altair-viz.github.io/user_guide/troubleshooting.html\n"
      ]
     },
     "execution_count": 3,
     "metadata": {},
     "output_type": "execute_result"
    }
   ],
   "source": [
    "image = Image.open('barcode.jpeg')\n",
    "width, height = image.size\n",
    "new_width = width * 4\n",
    "image = image.resize((new_width, height), Image.ANTIALIAS)\n",
    "\n",
    "line = image.crop((0, height//2, new_width, height//2+1)).convert('L')\n",
    "data = 255 - np.asarray(line, dtype='int32')[0]\n",
    "\n",
    "df = pd.DataFrame({'x': np.arange(len(data)), 'y': data})\n",
    "alt.Chart(df).mark_line().encode(\n",
    "    x='x',\n",
    "    y='y',\n",
    "    size=alt.value(1)\n",
    ").configure_view(\n",
    "    width=700,\n",
    "    height=100,\n",
    ")"
   ]
  },
  {
   "cell_type": "code",
   "execution_count": 8,
   "metadata": {},
   "outputs": [
    {
     "data": {
      "application/vnd.vegalite.v2+json": {
       "$schema": "https://vega.github.io/schema/vega-lite/v2.6.0.json",
       "config": {
        "view": {
         "height": 100,
         "width": 700
        }
       },
       "data": {
        "name": "data-7d4bce42fda5f1d3c45e730931688f62"
       },
       "datasets": {
        "data-7d4bce42fda5f1d3c45e730931688f62": [
         {
          "x": 0,
          "y": 1
         },
         {
          "x": 1,
          "y": 1
         },
         {
          "x": 2,
          "y": 1
         },
         {
          "x": 3,
          "y": 1
         },
         {
          "x": 4,
          "y": 1
         },
         {
          "x": 5,
          "y": 1
         },
         {
          "x": 6,
          "y": 1
         },
         {
          "x": 7,
          "y": 1
         },
         {
          "x": 8,
          "y": 1
         },
         {
          "x": 9,
          "y": 1
         },
         {
          "x": 10,
          "y": 1
         },
         {
          "x": 11,
          "y": 1
         },
         {
          "x": 12,
          "y": 1
         },
         {
          "x": 13,
          "y": 1
         },
         {
          "x": 14,
          "y": 1
         },
         {
          "x": 15,
          "y": 1
         },
         {
          "x": 16,
          "y": 1
         },
         {
          "x": 17,
          "y": 1
         },
         {
          "x": 18,
          "y": 1
         },
         {
          "x": 19,
          "y": 1
         },
         {
          "x": 20,
          "y": 0
         },
         {
          "x": 21,
          "y": 0
         },
         {
          "x": 22,
          "y": 0
         },
         {
          "x": 23,
          "y": 0
         },
         {
          "x": 24,
          "y": 0
         },
         {
          "x": 25,
          "y": 0
         },
         {
          "x": 26,
          "y": 0
         },
         {
          "x": 27,
          "y": 0
         },
         {
          "x": 28,
          "y": 0
         },
         {
          "x": 29,
          "y": 0
         },
         {
          "x": 30,
          "y": 1
         },
         {
          "x": 31,
          "y": 1
         },
         {
          "x": 32,
          "y": 1
         },
         {
          "x": 33,
          "y": 1
         },
         {
          "x": 34,
          "y": 1
         },
         {
          "x": 35,
          "y": 1
         },
         {
          "x": 36,
          "y": 1
         },
         {
          "x": 37,
          "y": 1
         },
         {
          "x": 38,
          "y": 1
         },
         {
          "x": 39,
          "y": 1
         },
         {
          "x": 40,
          "y": 0
         },
         {
          "x": 41,
          "y": 0
         },
         {
          "x": 42,
          "y": 0
         },
         {
          "x": 43,
          "y": 0
         },
         {
          "x": 44,
          "y": 0
         },
         {
          "x": 45,
          "y": 0
         },
         {
          "x": 46,
          "y": 0
         },
         {
          "x": 47,
          "y": 0
         },
         {
          "x": 48,
          "y": 0
         },
         {
          "x": 49,
          "y": 0
         },
         {
          "x": 50,
          "y": 0
         },
         {
          "x": 51,
          "y": 0
         },
         {
          "x": 52,
          "y": 0
         },
         {
          "x": 53,
          "y": 0
         },
         {
          "x": 54,
          "y": 0
         },
         {
          "x": 55,
          "y": 0
         },
         {
          "x": 56,
          "y": 0
         },
         {
          "x": 57,
          "y": 0
         },
         {
          "x": 58,
          "y": 0
         },
         {
          "x": 59,
          "y": 0
         },
         {
          "x": 60,
          "y": 1
         },
         {
          "x": 61,
          "y": 1
         },
         {
          "x": 62,
          "y": 1
         },
         {
          "x": 63,
          "y": 1
         },
         {
          "x": 64,
          "y": 1
         },
         {
          "x": 65,
          "y": 1
         },
         {
          "x": 66,
          "y": 1
         },
         {
          "x": 67,
          "y": 1
         },
         {
          "x": 68,
          "y": 1
         },
         {
          "x": 69,
          "y": 1
         },
         {
          "x": 70,
          "y": 0
         },
         {
          "x": 71,
          "y": 0
         },
         {
          "x": 72,
          "y": 0
         },
         {
          "x": 73,
          "y": 0
         },
         {
          "x": 74,
          "y": 0
         },
         {
          "x": 75,
          "y": 0
         },
         {
          "x": 76,
          "y": 0
         },
         {
          "x": 77,
          "y": 0
         },
         {
          "x": 78,
          "y": 0
         },
         {
          "x": 79,
          "y": 0
         },
         {
          "x": 80,
          "y": 0
         },
         {
          "x": 81,
          "y": 0
         },
         {
          "x": 82,
          "y": 0
         },
         {
          "x": 83,
          "y": 0
         },
         {
          "x": 84,
          "y": 0
         },
         {
          "x": 85,
          "y": 0
         },
         {
          "x": 86,
          "y": 0
         },
         {
          "x": 87,
          "y": 0
         },
         {
          "x": 88,
          "y": 0
         },
         {
          "x": 89,
          "y": 0
         },
         {
          "x": 90,
          "y": 0
         },
         {
          "x": 91,
          "y": 0
         },
         {
          "x": 92,
          "y": 0
         },
         {
          "x": 93,
          "y": 0
         },
         {
          "x": 94,
          "y": 0
         },
         {
          "x": 95,
          "y": 0
         },
         {
          "x": 96,
          "y": 0
         },
         {
          "x": 97,
          "y": 0
         },
         {
          "x": 98,
          "y": 0
         },
         {
          "x": 99,
          "y": 0
         },
         {
          "x": 100,
          "y": 0
         },
         {
          "x": 101,
          "y": 0
         },
         {
          "x": 102,
          "y": 0
         },
         {
          "x": 103,
          "y": 0
         },
         {
          "x": 104,
          "y": 0
         },
         {
          "x": 105,
          "y": 0
         },
         {
          "x": 106,
          "y": 0
         },
         {
          "x": 107,
          "y": 0
         },
         {
          "x": 108,
          "y": 0
         },
         {
          "x": 109,
          "y": 0
         },
         {
          "x": 110,
          "y": 1
         },
         {
          "x": 111,
          "y": 1
         },
         {
          "x": 112,
          "y": 1
         },
         {
          "x": 113,
          "y": 1
         },
         {
          "x": 114,
          "y": 1
         },
         {
          "x": 115,
          "y": 1
         },
         {
          "x": 116,
          "y": 1
         },
         {
          "x": 117,
          "y": 1
         },
         {
          "x": 118,
          "y": 1
         },
         {
          "x": 119,
          "y": 1
         },
         {
          "x": 120,
          "y": 1
         },
         {
          "x": 121,
          "y": 1
         },
         {
          "x": 122,
          "y": 1
         },
         {
          "x": 123,
          "y": 1
         },
         {
          "x": 124,
          "y": 1
         },
         {
          "x": 125,
          "y": 1
         },
         {
          "x": 126,
          "y": 1
         },
         {
          "x": 127,
          "y": 1
         },
         {
          "x": 128,
          "y": 1
         },
         {
          "x": 129,
          "y": 1
         },
         {
          "x": 130,
          "y": 0
         },
         {
          "x": 131,
          "y": 0
         },
         {
          "x": 132,
          "y": 0
         },
         {
          "x": 133,
          "y": 0
         },
         {
          "x": 134,
          "y": 0
         },
         {
          "x": 135,
          "y": 0
         },
         {
          "x": 136,
          "y": 0
         },
         {
          "x": 137,
          "y": 0
         },
         {
          "x": 138,
          "y": 0
         },
         {
          "x": 139,
          "y": 0
         },
         {
          "x": 140,
          "y": 0
         },
         {
          "x": 141,
          "y": 0
         },
         {
          "x": 142,
          "y": 0
         },
         {
          "x": 143,
          "y": 0
         },
         {
          "x": 144,
          "y": 0
         },
         {
          "x": 145,
          "y": 0
         },
         {
          "x": 146,
          "y": 0
         },
         {
          "x": 147,
          "y": 0
         },
         {
          "x": 148,
          "y": 0
         },
         {
          "x": 149,
          "y": 0
         },
         {
          "x": 150,
          "y": 0
         },
         {
          "x": 151,
          "y": 0
         },
         {
          "x": 152,
          "y": 0
         },
         {
          "x": 153,
          "y": 0
         },
         {
          "x": 154,
          "y": 0
         },
         {
          "x": 155,
          "y": 0
         },
         {
          "x": 156,
          "y": 0
         },
         {
          "x": 157,
          "y": 0
         },
         {
          "x": 158,
          "y": 0
         },
         {
          "x": 159,
          "y": 0
         },
         {
          "x": 160,
          "y": 1
         },
         {
          "x": 161,
          "y": 1
         },
         {
          "x": 162,
          "y": 1
         },
         {
          "x": 163,
          "y": 1
         },
         {
          "x": 164,
          "y": 1
         },
         {
          "x": 165,
          "y": 1
         },
         {
          "x": 166,
          "y": 1
         },
         {
          "x": 167,
          "y": 1
         },
         {
          "x": 168,
          "y": 1
         },
         {
          "x": 169,
          "y": 1
         },
         {
          "x": 170,
          "y": 0
         },
         {
          "x": 171,
          "y": 0
         },
         {
          "x": 172,
          "y": 0
         },
         {
          "x": 173,
          "y": 0
         },
         {
          "x": 174,
          "y": 0
         },
         {
          "x": 175,
          "y": 0
         },
         {
          "x": 176,
          "y": 0
         },
         {
          "x": 177,
          "y": 0
         },
         {
          "x": 178,
          "y": 0
         },
         {
          "x": 179,
          "y": 0
         },
         {
          "x": 180,
          "y": 1
         },
         {
          "x": 181,
          "y": 1
         },
         {
          "x": 182,
          "y": 1
         },
         {
          "x": 183,
          "y": 1
         },
         {
          "x": 184,
          "y": 1
         },
         {
          "x": 185,
          "y": 1
         },
         {
          "x": 186,
          "y": 1
         },
         {
          "x": 187,
          "y": 1
         },
         {
          "x": 188,
          "y": 1
         },
         {
          "x": 189,
          "y": 1
         },
         {
          "x": 190,
          "y": 0
         },
         {
          "x": 191,
          "y": 0
         },
         {
          "x": 192,
          "y": 0
         },
         {
          "x": 193,
          "y": 0
         },
         {
          "x": 194,
          "y": 0
         },
         {
          "x": 195,
          "y": 0
         },
         {
          "x": 196,
          "y": 0
         },
         {
          "x": 197,
          "y": 0
         },
         {
          "x": 198,
          "y": 0
         },
         {
          "x": 199,
          "y": 0
         },
         {
          "x": 200,
          "y": 0
         },
         {
          "x": 201,
          "y": 0
         },
         {
          "x": 202,
          "y": 0
         },
         {
          "x": 203,
          "y": 0
         },
         {
          "x": 204,
          "y": 0
         },
         {
          "x": 205,
          "y": 0
         },
         {
          "x": 206,
          "y": 0
         },
         {
          "x": 207,
          "y": 0
         },
         {
          "x": 208,
          "y": 0
         },
         {
          "x": 209,
          "y": 0
         },
         {
          "x": 210,
          "y": 0
         },
         {
          "x": 211,
          "y": 0
         },
         {
          "x": 212,
          "y": 0
         },
         {
          "x": 213,
          "y": 0
         },
         {
          "x": 214,
          "y": 0
         },
         {
          "x": 215,
          "y": 0
         },
         {
          "x": 216,
          "y": 0
         },
         {
          "x": 217,
          "y": 0
         },
         {
          "x": 218,
          "y": 0
         },
         {
          "x": 219,
          "y": 0
         },
         {
          "x": 220,
          "y": 1
         },
         {
          "x": 221,
          "y": 1
         },
         {
          "x": 222,
          "y": 1
         },
         {
          "x": 223,
          "y": 1
         },
         {
          "x": 224,
          "y": 1
         },
         {
          "x": 225,
          "y": 1
         },
         {
          "x": 226,
          "y": 1
         },
         {
          "x": 227,
          "y": 1
         },
         {
          "x": 228,
          "y": 1
         },
         {
          "x": 229,
          "y": 1
         },
         {
          "x": 230,
          "y": 0
         },
         {
          "x": 231,
          "y": 0
         },
         {
          "x": 232,
          "y": 0
         },
         {
          "x": 233,
          "y": 0
         },
         {
          "x": 234,
          "y": 0
         },
         {
          "x": 235,
          "y": 0
         },
         {
          "x": 236,
          "y": 0
         },
         {
          "x": 237,
          "y": 0
         },
         {
          "x": 238,
          "y": 0
         },
         {
          "x": 239,
          "y": 0
         },
         {
          "x": 240,
          "y": 0
         },
         {
          "x": 241,
          "y": 0
         },
         {
          "x": 242,
          "y": 0
         },
         {
          "x": 243,
          "y": 0
         },
         {
          "x": 244,
          "y": 0
         },
         {
          "x": 245,
          "y": 0
         },
         {
          "x": 246,
          "y": 0
         },
         {
          "x": 247,
          "y": 0
         },
         {
          "x": 248,
          "y": 0
         },
         {
          "x": 249,
          "y": 0
         },
         {
          "x": 250,
          "y": 0
         },
         {
          "x": 251,
          "y": 0
         },
         {
          "x": 252,
          "y": 0
         },
         {
          "x": 253,
          "y": 0
         },
         {
          "x": 254,
          "y": 0
         },
         {
          "x": 255,
          "y": 0
         },
         {
          "x": 256,
          "y": 0
         },
         {
          "x": 257,
          "y": 0
         },
         {
          "x": 258,
          "y": 0
         },
         {
          "x": 259,
          "y": 0
         },
         {
          "x": 260,
          "y": 1
         },
         {
          "x": 261,
          "y": 1
         },
         {
          "x": 262,
          "y": 1
         },
         {
          "x": 263,
          "y": 1
         },
         {
          "x": 264,
          "y": 1
         },
         {
          "x": 265,
          "y": 1
         },
         {
          "x": 266,
          "y": 1
         },
         {
          "x": 267,
          "y": 1
         },
         {
          "x": 268,
          "y": 1
         },
         {
          "x": 269,
          "y": 1
         },
         {
          "x": 270,
          "y": 1
         },
         {
          "x": 271,
          "y": 1
         },
         {
          "x": 272,
          "y": 1
         },
         {
          "x": 273,
          "y": 1
         },
         {
          "x": 274,
          "y": 1
         },
         {
          "x": 275,
          "y": 1
         },
         {
          "x": 276,
          "y": 1
         },
         {
          "x": 277,
          "y": 1
         },
         {
          "x": 278,
          "y": 1
         },
         {
          "x": 279,
          "y": 1
         },
         {
          "x": 280,
          "y": 0
         },
         {
          "x": 281,
          "y": 0
         },
         {
          "x": 282,
          "y": 0
         },
         {
          "x": 283,
          "y": 0
         },
         {
          "x": 284,
          "y": 0
         },
         {
          "x": 285,
          "y": 0
         },
         {
          "x": 286,
          "y": 0
         },
         {
          "x": 287,
          "y": 0
         },
         {
          "x": 288,
          "y": 0
         },
         {
          "x": 289,
          "y": 0
         },
         {
          "x": 290,
          "y": 1
         },
         {
          "x": 291,
          "y": 1
         },
         {
          "x": 292,
          "y": 1
         },
         {
          "x": 293,
          "y": 1
         },
         {
          "x": 294,
          "y": 1
         },
         {
          "x": 295,
          "y": 1
         },
         {
          "x": 296,
          "y": 1
         },
         {
          "x": 297,
          "y": 1
         },
         {
          "x": 298,
          "y": 1
         },
         {
          "x": 299,
          "y": 1
         },
         {
          "x": 300,
          "y": 0
         },
         {
          "x": 301,
          "y": 0
         },
         {
          "x": 302,
          "y": 0
         },
         {
          "x": 303,
          "y": 0
         },
         {
          "x": 304,
          "y": 0
         },
         {
          "x": 305,
          "y": 0
         },
         {
          "x": 306,
          "y": 0
         },
         {
          "x": 307,
          "y": 0
         },
         {
          "x": 308,
          "y": 0
         },
         {
          "x": 309,
          "y": 0
         },
         {
          "x": 310,
          "y": 0
         },
         {
          "x": 311,
          "y": 0
         },
         {
          "x": 312,
          "y": 0
         },
         {
          "x": 313,
          "y": 0
         },
         {
          "x": 314,
          "y": 0
         },
         {
          "x": 315,
          "y": 0
         },
         {
          "x": 316,
          "y": 0
         },
         {
          "x": 317,
          "y": 0
         },
         {
          "x": 318,
          "y": 0
         },
         {
          "x": 319,
          "y": 0
         },
         {
          "x": 320,
          "y": 0
         },
         {
          "x": 321,
          "y": 0
         },
         {
          "x": 322,
          "y": 0
         },
         {
          "x": 323,
          "y": 0
         },
         {
          "x": 324,
          "y": 0
         },
         {
          "x": 325,
          "y": 0
         },
         {
          "x": 326,
          "y": 0
         },
         {
          "x": 327,
          "y": 0
         },
         {
          "x": 328,
          "y": 0
         },
         {
          "x": 329,
          "y": 0
         },
         {
          "x": 330,
          "y": 1
         },
         {
          "x": 331,
          "y": 1
         },
         {
          "x": 332,
          "y": 1
         },
         {
          "x": 333,
          "y": 1
         },
         {
          "x": 334,
          "y": 1
         },
         {
          "x": 335,
          "y": 1
         },
         {
          "x": 336,
          "y": 1
         },
         {
          "x": 337,
          "y": 1
         },
         {
          "x": 338,
          "y": 1
         },
         {
          "x": 339,
          "y": 1
         },
         {
          "x": 340,
          "y": 0
         },
         {
          "x": 341,
          "y": 0
         },
         {
          "x": 342,
          "y": 0
         },
         {
          "x": 343,
          "y": 0
         },
         {
          "x": 344,
          "y": 0
         },
         {
          "x": 345,
          "y": 0
         },
         {
          "x": 346,
          "y": 0
         },
         {
          "x": 347,
          "y": 0
         },
         {
          "x": 348,
          "y": 0
         },
         {
          "x": 349,
          "y": 0
         },
         {
          "x": 350,
          "y": 0
         },
         {
          "x": 351,
          "y": 0
         },
         {
          "x": 352,
          "y": 0
         },
         {
          "x": 353,
          "y": 0
         },
         {
          "x": 354,
          "y": 0
         },
         {
          "x": 355,
          "y": 0
         },
         {
          "x": 356,
          "y": 0
         },
         {
          "x": 357,
          "y": 0
         },
         {
          "x": 358,
          "y": 0
         },
         {
          "x": 359,
          "y": 0
         },
         {
          "x": 360,
          "y": 0
         },
         {
          "x": 361,
          "y": 0
         },
         {
          "x": 362,
          "y": 0
         },
         {
          "x": 363,
          "y": 0
         },
         {
          "x": 364,
          "y": 0
         },
         {
          "x": 365,
          "y": 0
         },
         {
          "x": 366,
          "y": 0
         },
         {
          "x": 367,
          "y": 0
         },
         {
          "x": 368,
          "y": 0
         },
         {
          "x": 369,
          "y": 0
         },
         {
          "x": 370,
          "y": 1
         },
         {
          "x": 371,
          "y": 1
         },
         {
          "x": 372,
          "y": 1
         },
         {
          "x": 373,
          "y": 1
         },
         {
          "x": 374,
          "y": 1
         },
         {
          "x": 375,
          "y": 1
         },
         {
          "x": 376,
          "y": 1
         },
         {
          "x": 377,
          "y": 1
         },
         {
          "x": 378,
          "y": 1
         },
         {
          "x": 379,
          "y": 1
         },
         {
          "x": 380,
          "y": 1
         },
         {
          "x": 381,
          "y": 1
         },
         {
          "x": 382,
          "y": 1
         },
         {
          "x": 383,
          "y": 1
         },
         {
          "x": 384,
          "y": 1
         },
         {
          "x": 385,
          "y": 1
         },
         {
          "x": 386,
          "y": 1
         },
         {
          "x": 387,
          "y": 1
         },
         {
          "x": 388,
          "y": 1
         },
         {
          "x": 389,
          "y": 1
         },
         {
          "x": 390,
          "y": 0
         },
         {
          "x": 391,
          "y": 0
         },
         {
          "x": 392,
          "y": 0
         },
         {
          "x": 393,
          "y": 0
         },
         {
          "x": 394,
          "y": 0
         },
         {
          "x": 395,
          "y": 0
         },
         {
          "x": 396,
          "y": 0
         },
         {
          "x": 397,
          "y": 0
         },
         {
          "x": 398,
          "y": 0
         },
         {
          "x": 399,
          "y": 0
         },
         {
          "x": 400,
          "y": 1
         },
         {
          "x": 401,
          "y": 1
         },
         {
          "x": 402,
          "y": 1
         },
         {
          "x": 403,
          "y": 1
         },
         {
          "x": 404,
          "y": 1
         },
         {
          "x": 405,
          "y": 1
         },
         {
          "x": 406,
          "y": 1
         },
         {
          "x": 407,
          "y": 1
         },
         {
          "x": 408,
          "y": 1
         },
         {
          "x": 409,
          "y": 1
         },
         {
          "x": 410,
          "y": 1
         },
         {
          "x": 411,
          "y": 1
         },
         {
          "x": 412,
          "y": 1
         },
         {
          "x": 413,
          "y": 1
         },
         {
          "x": 414,
          "y": 1
         },
         {
          "x": 415,
          "y": 1
         },
         {
          "x": 416,
          "y": 1
         },
         {
          "x": 417,
          "y": 1
         },
         {
          "x": 418,
          "y": 1
         },
         {
          "x": 419,
          "y": 1
         },
         {
          "x": 420,
          "y": 1
         },
         {
          "x": 421,
          "y": 1
         },
         {
          "x": 422,
          "y": 1
         },
         {
          "x": 423,
          "y": 1
         },
         {
          "x": 424,
          "y": 1
         },
         {
          "x": 425,
          "y": 1
         },
         {
          "x": 426,
          "y": 1
         },
         {
          "x": 427,
          "y": 1
         },
         {
          "x": 428,
          "y": 1
         },
         {
          "x": 429,
          "y": 1
         },
         {
          "x": 430,
          "y": 0
         },
         {
          "x": 431,
          "y": 0
         },
         {
          "x": 432,
          "y": 0
         },
         {
          "x": 433,
          "y": 0
         },
         {
          "x": 434,
          "y": 0
         },
         {
          "x": 435,
          "y": 0
         },
         {
          "x": 436,
          "y": 0
         },
         {
          "x": 437,
          "y": 0
         },
         {
          "x": 438,
          "y": 0
         },
         {
          "x": 439,
          "y": 0
         },
         {
          "x": 440,
          "y": 1
         },
         {
          "x": 441,
          "y": 1
         },
         {
          "x": 442,
          "y": 1
         },
         {
          "x": 443,
          "y": 1
         },
         {
          "x": 444,
          "y": 1
         },
         {
          "x": 445,
          "y": 1
         },
         {
          "x": 446,
          "y": 1
         },
         {
          "x": 447,
          "y": 1
         },
         {
          "x": 448,
          "y": 1
         },
         {
          "x": 449,
          "y": 1
         },
         {
          "x": 450,
          "y": 0
         },
         {
          "x": 451,
          "y": 0
         },
         {
          "x": 452,
          "y": 0
         },
         {
          "x": 453,
          "y": 0
         },
         {
          "x": 454,
          "y": 0
         },
         {
          "x": 455,
          "y": 0
         },
         {
          "x": 456,
          "y": 0
         },
         {
          "x": 457,
          "y": 0
         },
         {
          "x": 458,
          "y": 0
         },
         {
          "x": 459,
          "y": 0
         },
         {
          "x": 460,
          "y": 0
         },
         {
          "x": 461,
          "y": 0
         },
         {
          "x": 462,
          "y": 0
         },
         {
          "x": 463,
          "y": 0
         },
         {
          "x": 464,
          "y": 0
         },
         {
          "x": 465,
          "y": 0
         },
         {
          "x": 466,
          "y": 0
         },
         {
          "x": 467,
          "y": 0
         },
         {
          "x": 468,
          "y": 0
         },
         {
          "x": 469,
          "y": 0
         },
         {
          "x": 470,
          "y": 0
         },
         {
          "x": 471,
          "y": 0
         },
         {
          "x": 472,
          "y": 0
         },
         {
          "x": 473,
          "y": 0
         },
         {
          "x": 474,
          "y": 0
         },
         {
          "x": 475,
          "y": 0
         },
         {
          "x": 476,
          "y": 0
         },
         {
          "x": 477,
          "y": 0
         },
         {
          "x": 478,
          "y": 0
         },
         {
          "x": 479,
          "y": 0
         },
         {
          "x": 480,
          "y": 1
         },
         {
          "x": 481,
          "y": 1
         },
         {
          "x": 482,
          "y": 1
         },
         {
          "x": 483,
          "y": 1
         },
         {
          "x": 484,
          "y": 1
         },
         {
          "x": 485,
          "y": 1
         },
         {
          "x": 486,
          "y": 1
         },
         {
          "x": 487,
          "y": 1
         },
         {
          "x": 488,
          "y": 1
         },
         {
          "x": 489,
          "y": 1
         },
         {
          "x": 490,
          "y": 1
         },
         {
          "x": 491,
          "y": 1
         },
         {
          "x": 492,
          "y": 1
         },
         {
          "x": 493,
          "y": 1
         },
         {
          "x": 494,
          "y": 1
         },
         {
          "x": 495,
          "y": 1
         },
         {
          "x": 496,
          "y": 1
         },
         {
          "x": 497,
          "y": 1
         },
         {
          "x": 498,
          "y": 1
         },
         {
          "x": 499,
          "y": 1
         },
         {
          "x": 500,
          "y": 0
         },
         {
          "x": 501,
          "y": 0
         },
         {
          "x": 502,
          "y": 0
         },
         {
          "x": 503,
          "y": 0
         },
         {
          "x": 504,
          "y": 0
         },
         {
          "x": 505,
          "y": 0
         },
         {
          "x": 506,
          "y": 0
         },
         {
          "x": 507,
          "y": 0
         },
         {
          "x": 508,
          "y": 0
         },
         {
          "x": 509,
          "y": 0
         },
         {
          "x": 510,
          "y": 1
         },
         {
          "x": 511,
          "y": 1
         },
         {
          "x": 512,
          "y": 1
         },
         {
          "x": 513,
          "y": 1
         },
         {
          "x": 514,
          "y": 1
         },
         {
          "x": 515,
          "y": 1
         },
         {
          "x": 516,
          "y": 1
         },
         {
          "x": 517,
          "y": 1
         },
         {
          "x": 518,
          "y": 1
         },
         {
          "x": 519,
          "y": 1
         },
         {
          "x": 520,
          "y": 1
         },
         {
          "x": 521,
          "y": 1
         },
         {
          "x": 522,
          "y": 1
         },
         {
          "x": 523,
          "y": 1
         },
         {
          "x": 524,
          "y": 1
         },
         {
          "x": 525,
          "y": 1
         },
         {
          "x": 526,
          "y": 1
         },
         {
          "x": 527,
          "y": 1
         },
         {
          "x": 528,
          "y": 1
         },
         {
          "x": 529,
          "y": 1
         },
         {
          "x": 530,
          "y": 1
         },
         {
          "x": 531,
          "y": 1
         },
         {
          "x": 532,
          "y": 1
         },
         {
          "x": 533,
          "y": 1
         },
         {
          "x": 534,
          "y": 1
         },
         {
          "x": 535,
          "y": 1
         },
         {
          "x": 536,
          "y": 1
         },
         {
          "x": 537,
          "y": 1
         },
         {
          "x": 538,
          "y": 1
         },
         {
          "x": 539,
          "y": 1
         },
         {
          "x": 540,
          "y": 0
         },
         {
          "x": 541,
          "y": 0
         },
         {
          "x": 542,
          "y": 0
         },
         {
          "x": 543,
          "y": 0
         },
         {
          "x": 544,
          "y": 0
         },
         {
          "x": 545,
          "y": 0
         },
         {
          "x": 546,
          "y": 0
         },
         {
          "x": 547,
          "y": 0
         },
         {
          "x": 548,
          "y": 0
         },
         {
          "x": 549,
          "y": 0
         },
         {
          "x": 550,
          "y": 1
         },
         {
          "x": 551,
          "y": 1
         },
         {
          "x": 552,
          "y": 1
         },
         {
          "x": 553,
          "y": 1
         },
         {
          "x": 554,
          "y": 1
         },
         {
          "x": 555,
          "y": 1
         },
         {
          "x": 556,
          "y": 1
         },
         {
          "x": 557,
          "y": 1
         },
         {
          "x": 558,
          "y": 1
         },
         {
          "x": 559,
          "y": 1
         },
         {
          "x": 560,
          "y": 0
         },
         {
          "x": 561,
          "y": 0
         },
         {
          "x": 562,
          "y": 0
         },
         {
          "x": 563,
          "y": 0
         },
         {
          "x": 564,
          "y": 0
         },
         {
          "x": 565,
          "y": 0
         },
         {
          "x": 566,
          "y": 0
         },
         {
          "x": 567,
          "y": 0
         },
         {
          "x": 568,
          "y": 0
         },
         {
          "x": 569,
          "y": 0
         },
         {
          "x": 570,
          "y": 0
         },
         {
          "x": 571,
          "y": 0
         },
         {
          "x": 572,
          "y": 0
         },
         {
          "x": 573,
          "y": 0
         },
         {
          "x": 574,
          "y": 0
         },
         {
          "x": 575,
          "y": 0
         },
         {
          "x": 576,
          "y": 0
         },
         {
          "x": 577,
          "y": 0
         },
         {
          "x": 578,
          "y": 0
         },
         {
          "x": 579,
          "y": 0
         },
         {
          "x": 580,
          "y": 0
         },
         {
          "x": 581,
          "y": 0
         },
         {
          "x": 582,
          "y": 0
         },
         {
          "x": 583,
          "y": 0
         },
         {
          "x": 584,
          "y": 0
         },
         {
          "x": 585,
          "y": 0
         },
         {
          "x": 586,
          "y": 0
         },
         {
          "x": 587,
          "y": 0
         },
         {
          "x": 588,
          "y": 0
         },
         {
          "x": 589,
          "y": 0
         },
         {
          "x": 590,
          "y": 1
         },
         {
          "x": 591,
          "y": 1
         },
         {
          "x": 592,
          "y": 1
         },
         {
          "x": 593,
          "y": 1
         },
         {
          "x": 594,
          "y": 1
         },
         {
          "x": 595,
          "y": 1
         },
         {
          "x": 596,
          "y": 1
         },
         {
          "x": 597,
          "y": 1
         },
         {
          "x": 598,
          "y": 1
         },
         {
          "x": 599,
          "y": 1
         },
         {
          "x": 600,
          "y": 1
         },
         {
          "x": 601,
          "y": 1
         },
         {
          "x": 602,
          "y": 1
         },
         {
          "x": 603,
          "y": 1
         },
         {
          "x": 604,
          "y": 1
         },
         {
          "x": 605,
          "y": 1
         },
         {
          "x": 606,
          "y": 1
         },
         {
          "x": 607,
          "y": 1
         },
         {
          "x": 608,
          "y": 1
         },
         {
          "x": 609,
          "y": 1
         },
         {
          "x": 610,
          "y": 1
         },
         {
          "x": 611,
          "y": 1
         },
         {
          "x": 612,
          "y": 1
         },
         {
          "x": 613,
          "y": 1
         },
         {
          "x": 614,
          "y": 1
         },
         {
          "x": 615,
          "y": 1
         },
         {
          "x": 616,
          "y": 1
         },
         {
          "x": 617,
          "y": 1
         },
         {
          "x": 618,
          "y": 1
         },
         {
          "x": 619,
          "y": 1
         },
         {
          "x": 620,
          "y": 0
         },
         {
          "x": 621,
          "y": 0
         },
         {
          "x": 622,
          "y": 0
         },
         {
          "x": 623,
          "y": 0
         },
         {
          "x": 624,
          "y": 0
         },
         {
          "x": 625,
          "y": 0
         },
         {
          "x": 626,
          "y": 0
         },
         {
          "x": 627,
          "y": 0
         },
         {
          "x": 628,
          "y": 0
         },
         {
          "x": 629,
          "y": 0
         },
         {
          "x": 630,
          "y": 1
         },
         {
          "x": 631,
          "y": 1
         },
         {
          "x": 632,
          "y": 1
         },
         {
          "x": 633,
          "y": 1
         },
         {
          "x": 634,
          "y": 1
         },
         {
          "x": 635,
          "y": 1
         },
         {
          "x": 636,
          "y": 1
         },
         {
          "x": 637,
          "y": 1
         },
         {
          "x": 638,
          "y": 1
         },
         {
          "x": 639,
          "y": 1
         },
         {
          "x": 640,
          "y": 1
         },
         {
          "x": 641,
          "y": 1
         },
         {
          "x": 642,
          "y": 1
         },
         {
          "x": 643,
          "y": 1
         },
         {
          "x": 644,
          "y": 1
         },
         {
          "x": 645,
          "y": 1
         },
         {
          "x": 646,
          "y": 1
         },
         {
          "x": 647,
          "y": 1
         },
         {
          "x": 648,
          "y": 1
         },
         {
          "x": 649,
          "y": 1
         },
         {
          "x": 650,
          "y": 0
         },
         {
          "x": 651,
          "y": 0
         },
         {
          "x": 652,
          "y": 0
         },
         {
          "x": 653,
          "y": 0
         },
         {
          "x": 654,
          "y": 0
         },
         {
          "x": 655,
          "y": 0
         },
         {
          "x": 656,
          "y": 0
         },
         {
          "x": 657,
          "y": 0
         },
         {
          "x": 658,
          "y": 0
         },
         {
          "x": 659,
          "y": 0
         },
         {
          "x": 660,
          "y": 1
         },
         {
          "x": 661,
          "y": 1
         },
         {
          "x": 662,
          "y": 1
         },
         {
          "x": 663,
          "y": 1
         },
         {
          "x": 664,
          "y": 1
         },
         {
          "x": 665,
          "y": 1
         },
         {
          "x": 666,
          "y": 1
         },
         {
          "x": 667,
          "y": 1
         },
         {
          "x": 668,
          "y": 1
         },
         {
          "x": 669,
          "y": 1
         },
         {
          "x": 670,
          "y": 1
         },
         {
          "x": 671,
          "y": 1
         },
         {
          "x": 672,
          "y": 1
         },
         {
          "x": 673,
          "y": 1
         },
         {
          "x": 674,
          "y": 1
         },
         {
          "x": 675,
          "y": 1
         },
         {
          "x": 676,
          "y": 1
         },
         {
          "x": 677,
          "y": 1
         },
         {
          "x": 678,
          "y": 1
         },
         {
          "x": 679,
          "y": 1
         },
         {
          "x": 680,
          "y": 0
         },
         {
          "x": 681,
          "y": 0
         },
         {
          "x": 682,
          "y": 0
         },
         {
          "x": 683,
          "y": 0
         },
         {
          "x": 684,
          "y": 0
         },
         {
          "x": 685,
          "y": 0
         },
         {
          "x": 686,
          "y": 0
         },
         {
          "x": 687,
          "y": 0
         },
         {
          "x": 688,
          "y": 0
         },
         {
          "x": 689,
          "y": 0
         },
         {
          "x": 690,
          "y": 1
         },
         {
          "x": 691,
          "y": 1
         },
         {
          "x": 692,
          "y": 1
         },
         {
          "x": 693,
          "y": 1
         },
         {
          "x": 694,
          "y": 1
         },
         {
          "x": 695,
          "y": 1
         },
         {
          "x": 696,
          "y": 1
         },
         {
          "x": 697,
          "y": 1
         },
         {
          "x": 698,
          "y": 1
         },
         {
          "x": 699,
          "y": 1
         },
         {
          "x": 700,
          "y": 1
         },
         {
          "x": 701,
          "y": 1
         },
         {
          "x": 702,
          "y": 1
         },
         {
          "x": 703,
          "y": 1
         },
         {
          "x": 704,
          "y": 1
         },
         {
          "x": 705,
          "y": 1
         },
         {
          "x": 706,
          "y": 1
         },
         {
          "x": 707,
          "y": 1
         },
         {
          "x": 708,
          "y": 1
         },
         {
          "x": 709,
          "y": 1
         },
         {
          "x": 710,
          "y": 0
         },
         {
          "x": 711,
          "y": 0
         },
         {
          "x": 712,
          "y": 0
         },
         {
          "x": 713,
          "y": 0
         },
         {
          "x": 714,
          "y": 0
         },
         {
          "x": 715,
          "y": 0
         },
         {
          "x": 716,
          "y": 0
         },
         {
          "x": 717,
          "y": 0
         },
         {
          "x": 718,
          "y": 0
         },
         {
          "x": 719,
          "y": 0
         },
         {
          "x": 720,
          "y": 0
         },
         {
          "x": 721,
          "y": 0
         },
         {
          "x": 722,
          "y": 0
         },
         {
          "x": 723,
          "y": 0
         },
         {
          "x": 724,
          "y": 0
         },
         {
          "x": 725,
          "y": 0
         },
         {
          "x": 726,
          "y": 0
         },
         {
          "x": 727,
          "y": 0
         },
         {
          "x": 728,
          "y": 0
         },
         {
          "x": 729,
          "y": 0
         },
         {
          "x": 730,
          "y": 1
         },
         {
          "x": 731,
          "y": 1
         },
         {
          "x": 732,
          "y": 1
         },
         {
          "x": 733,
          "y": 1
         },
         {
          "x": 734,
          "y": 1
         },
         {
          "x": 735,
          "y": 1
         },
         {
          "x": 736,
          "y": 1
         },
         {
          "x": 737,
          "y": 1
         },
         {
          "x": 738,
          "y": 1
         },
         {
          "x": 739,
          "y": 1
         },
         {
          "x": 740,
          "y": 1
         },
         {
          "x": 741,
          "y": 1
         },
         {
          "x": 742,
          "y": 1
         },
         {
          "x": 743,
          "y": 1
         },
         {
          "x": 744,
          "y": 1
         },
         {
          "x": 745,
          "y": 1
         },
         {
          "x": 746,
          "y": 1
         },
         {
          "x": 747,
          "y": 1
         },
         {
          "x": 748,
          "y": 1
         },
         {
          "x": 749,
          "y": 1
         },
         {
          "x": 750,
          "y": 0
         },
         {
          "x": 751,
          "y": 0
         },
         {
          "x": 752,
          "y": 0
         },
         {
          "x": 753,
          "y": 0
         },
         {
          "x": 754,
          "y": 0
         },
         {
          "x": 755,
          "y": 0
         },
         {
          "x": 756,
          "y": 0
         },
         {
          "x": 757,
          "y": 0
         },
         {
          "x": 758,
          "y": 0
         },
         {
          "x": 759,
          "y": 0
         },
         {
          "x": 760,
          "y": 0
         },
         {
          "x": 761,
          "y": 0
         },
         {
          "x": 762,
          "y": 0
         },
         {
          "x": 763,
          "y": 0
         },
         {
          "x": 764,
          "y": 0
         },
         {
          "x": 765,
          "y": 0
         },
         {
          "x": 766,
          "y": 0
         },
         {
          "x": 767,
          "y": 0
         },
         {
          "x": 768,
          "y": 0
         },
         {
          "x": 769,
          "y": 0
         },
         {
          "x": 770,
          "y": 1
         },
         {
          "x": 771,
          "y": 1
         },
         {
          "x": 772,
          "y": 1
         },
         {
          "x": 773,
          "y": 1
         },
         {
          "x": 774,
          "y": 1
         },
         {
          "x": 775,
          "y": 1
         },
         {
          "x": 776,
          "y": 1
         },
         {
          "x": 777,
          "y": 1
         },
         {
          "x": 778,
          "y": 1
         },
         {
          "x": 779,
          "y": 1
         },
         {
          "x": 780,
          "y": 1
         },
         {
          "x": 781,
          "y": 1
         },
         {
          "x": 782,
          "y": 1
         },
         {
          "x": 783,
          "y": 1
         },
         {
          "x": 784,
          "y": 1
         },
         {
          "x": 785,
          "y": 1
         },
         {
          "x": 786,
          "y": 1
         },
         {
          "x": 787,
          "y": 1
         },
         {
          "x": 788,
          "y": 1
         },
         {
          "x": 789,
          "y": 1
         },
         {
          "x": 790,
          "y": 0
         },
         {
          "x": 791,
          "y": 0
         },
         {
          "x": 792,
          "y": 0
         },
         {
          "x": 793,
          "y": 0
         },
         {
          "x": 794,
          "y": 0
         },
         {
          "x": 795,
          "y": 0
         },
         {
          "x": 796,
          "y": 0
         },
         {
          "x": 797,
          "y": 0
         },
         {
          "x": 798,
          "y": 0
         },
         {
          "x": 799,
          "y": 0
         },
         {
          "x": 800,
          "y": 0
         },
         {
          "x": 801,
          "y": 0
         },
         {
          "x": 802,
          "y": 0
         },
         {
          "x": 803,
          "y": 0
         },
         {
          "x": 804,
          "y": 0
         },
         {
          "x": 805,
          "y": 0
         },
         {
          "x": 806,
          "y": 0
         },
         {
          "x": 807,
          "y": 0
         },
         {
          "x": 808,
          "y": 0
         },
         {
          "x": 809,
          "y": 0
         },
         {
          "x": 810,
          "y": 0
         },
         {
          "x": 811,
          "y": 0
         },
         {
          "x": 812,
          "y": 0
         },
         {
          "x": 813,
          "y": 0
         },
         {
          "x": 814,
          "y": 0
         },
         {
          "x": 815,
          "y": 0
         },
         {
          "x": 816,
          "y": 0
         },
         {
          "x": 817,
          "y": 0
         },
         {
          "x": 818,
          "y": 0
         },
         {
          "x": 819,
          "y": 0
         },
         {
          "x": 820,
          "y": 1
         },
         {
          "x": 821,
          "y": 1
         },
         {
          "x": 822,
          "y": 1
         },
         {
          "x": 823,
          "y": 1
         },
         {
          "x": 824,
          "y": 1
         },
         {
          "x": 825,
          "y": 1
         },
         {
          "x": 826,
          "y": 1
         },
         {
          "x": 827,
          "y": 1
         },
         {
          "x": 828,
          "y": 1
         },
         {
          "x": 829,
          "y": 1
         },
         {
          "x": 830,
          "y": 0
         },
         {
          "x": 831,
          "y": 0
         },
         {
          "x": 832,
          "y": 0
         },
         {
          "x": 833,
          "y": 0
         },
         {
          "x": 834,
          "y": 0
         },
         {
          "x": 835,
          "y": 0
         },
         {
          "x": 836,
          "y": 0
         },
         {
          "x": 837,
          "y": 0
         },
         {
          "x": 838,
          "y": 0
         },
         {
          "x": 839,
          "y": 0
         },
         {
          "x": 840,
          "y": 1
         },
         {
          "x": 841,
          "y": 1
         },
         {
          "x": 842,
          "y": 1
         },
         {
          "x": 843,
          "y": 1
         },
         {
          "x": 844,
          "y": 1
         },
         {
          "x": 845,
          "y": 1
         },
         {
          "x": 846,
          "y": 1
         },
         {
          "x": 847,
          "y": 1
         },
         {
          "x": 848,
          "y": 1
         },
         {
          "x": 849,
          "y": 1
         },
         {
          "x": 850,
          "y": 0
         },
         {
          "x": 851,
          "y": 0
         },
         {
          "x": 852,
          "y": 0
         },
         {
          "x": 853,
          "y": 0
         },
         {
          "x": 854,
          "y": 0
         },
         {
          "x": 855,
          "y": 0
         },
         {
          "x": 856,
          "y": 0
         },
         {
          "x": 857,
          "y": 0
         },
         {
          "x": 858,
          "y": 0
         },
         {
          "x": 859,
          "y": 0
         },
         {
          "x": 860,
          "y": 0
         },
         {
          "x": 861,
          "y": 0
         },
         {
          "x": 862,
          "y": 0
         },
         {
          "x": 863,
          "y": 0
         },
         {
          "x": 864,
          "y": 0
         },
         {
          "x": 865,
          "y": 0
         },
         {
          "x": 866,
          "y": 0
         },
         {
          "x": 867,
          "y": 0
         },
         {
          "x": 868,
          "y": 0
         },
         {
          "x": 869,
          "y": 0
         },
         {
          "x": 870,
          "y": 0
         },
         {
          "x": 871,
          "y": 0
         },
         {
          "x": 872,
          "y": 0
         },
         {
          "x": 873,
          "y": 0
         },
         {
          "x": 874,
          "y": 0
         },
         {
          "x": 875,
          "y": 0
         },
         {
          "x": 876,
          "y": 0
         },
         {
          "x": 877,
          "y": 0
         },
         {
          "x": 878,
          "y": 0
         },
         {
          "x": 879,
          "y": 0
         },
         {
          "x": 880,
          "y": 1
         },
         {
          "x": 881,
          "y": 1
         },
         {
          "x": 882,
          "y": 1
         },
         {
          "x": 883,
          "y": 1
         },
         {
          "x": 884,
          "y": 1
         },
         {
          "x": 885,
          "y": 1
         },
         {
          "x": 886,
          "y": 1
         },
         {
          "x": 887,
          "y": 1
         },
         {
          "x": 888,
          "y": 1
         },
         {
          "x": 889,
          "y": 1
         },
         {
          "x": 890,
          "y": 0
         },
         {
          "x": 891,
          "y": 0
         },
         {
          "x": 892,
          "y": 0
         },
         {
          "x": 893,
          "y": 0
         },
         {
          "x": 894,
          "y": 0
         },
         {
          "x": 895,
          "y": 0
         },
         {
          "x": 896,
          "y": 0
         },
         {
          "x": 897,
          "y": 0
         },
         {
          "x": 898,
          "y": 0
         },
         {
          "x": 899,
          "y": 0
         },
         {
          "x": 900,
          "y": 1
         },
         {
          "x": 901,
          "y": 1
         },
         {
          "x": 902,
          "y": 1
         },
         {
          "x": 903,
          "y": 1
         },
         {
          "x": 904,
          "y": 1
         },
         {
          "x": 905,
          "y": 1
         },
         {
          "x": 906,
          "y": 1
         },
         {
          "x": 907,
          "y": 1
         },
         {
          "x": 908,
          "y": 1
         },
         {
          "x": 909,
          "y": 1
         },
         {
          "x": 910,
          "y": 0
         },
         {
          "x": 911,
          "y": 0
         },
         {
          "x": 912,
          "y": 0
         },
         {
          "x": 913,
          "y": 0
         },
         {
          "x": 914,
          "y": 0
         },
         {
          "x": 915,
          "y": 0
         },
         {
          "x": 916,
          "y": 0
         },
         {
          "x": 917,
          "y": 0
         },
         {
          "x": 918,
          "y": 0
         },
         {
          "x": 919,
          "y": 0
         },
         {
          "x": 920,
          "y": 0
         },
         {
          "x": 921,
          "y": 0
         },
         {
          "x": 922,
          "y": 0
         },
         {
          "x": 923,
          "y": 0
         },
         {
          "x": 924,
          "y": 0
         },
         {
          "x": 925,
          "y": 0
         },
         {
          "x": 926,
          "y": 0
         },
         {
          "x": 927,
          "y": 0
         },
         {
          "x": 928,
          "y": 0
         },
         {
          "x": 929,
          "y": 0
         },
         {
          "x": 930,
          "y": 0
         },
         {
          "x": 931,
          "y": 0
         },
         {
          "x": 932,
          "y": 0
         },
         {
          "x": 933,
          "y": 0
         },
         {
          "x": 934,
          "y": 0
         },
         {
          "x": 935,
          "y": 0
         },
         {
          "x": 936,
          "y": 0
         },
         {
          "x": 937,
          "y": 0
         },
         {
          "x": 938,
          "y": 0
         },
         {
          "x": 939,
          "y": 0
         },
         {
          "x": 940,
          "y": 1
         },
         {
          "x": 941,
          "y": 1
         },
         {
          "x": 942,
          "y": 1
         },
         {
          "x": 943,
          "y": 1
         },
         {
          "x": 944,
          "y": 1
         },
         {
          "x": 945,
          "y": 1
         },
         {
          "x": 946,
          "y": 1
         },
         {
          "x": 947,
          "y": 1
         },
         {
          "x": 948,
          "y": 1
         },
         {
          "x": 949,
          "y": 1
         },
         {
          "x": 950,
          "y": 1
         },
         {
          "x": 951,
          "y": 1
         },
         {
          "x": 952,
          "y": 1
         },
         {
          "x": 953,
          "y": 1
         },
         {
          "x": 954,
          "y": 1
         },
         {
          "x": 955,
          "y": 1
         },
         {
          "x": 956,
          "y": 1
         },
         {
          "x": 957,
          "y": 1
         },
         {
          "x": 958,
          "y": 1
         },
         {
          "x": 959,
          "y": 1
         },
         {
          "x": 960,
          "y": 0
         },
         {
          "x": 961,
          "y": 0
         },
         {
          "x": 962,
          "y": 0
         },
         {
          "x": 963,
          "y": 0
         },
         {
          "x": 964,
          "y": 0
         },
         {
          "x": 965,
          "y": 0
         },
         {
          "x": 966,
          "y": 0
         },
         {
          "x": 967,
          "y": 0
         },
         {
          "x": 968,
          "y": 0
         },
         {
          "x": 969,
          "y": 0
         },
         {
          "x": 970,
          "y": 0
         },
         {
          "x": 971,
          "y": 0
         },
         {
          "x": 972,
          "y": 0
         },
         {
          "x": 973,
          "y": 0
         },
         {
          "x": 974,
          "y": 0
         },
         {
          "x": 975,
          "y": 0
         },
         {
          "x": 976,
          "y": 0
         },
         {
          "x": 977,
          "y": 0
         },
         {
          "x": 978,
          "y": 0
         },
         {
          "x": 979,
          "y": 0
         },
         {
          "x": 980,
          "y": 0
         },
         {
          "x": 981,
          "y": 0
         },
         {
          "x": 982,
          "y": 0
         },
         {
          "x": 983,
          "y": 0
         },
         {
          "x": 984,
          "y": 0
         },
         {
          "x": 985,
          "y": 0
         },
         {
          "x": 986,
          "y": 0
         },
         {
          "x": 987,
          "y": 0
         },
         {
          "x": 988,
          "y": 0
         },
         {
          "x": 989,
          "y": 0
         },
         {
          "x": 990,
          "y": 1
         },
         {
          "x": 991,
          "y": 1
         },
         {
          "x": 992,
          "y": 1
         },
         {
          "x": 993,
          "y": 1
         },
         {
          "x": 994,
          "y": 1
         },
         {
          "x": 995,
          "y": 1
         },
         {
          "x": 996,
          "y": 1
         },
         {
          "x": 997,
          "y": 1
         },
         {
          "x": 998,
          "y": 1
         },
         {
          "x": 999,
          "y": 1
         },
         {
          "x": 1000,
          "y": 0
         },
         {
          "x": 1001,
          "y": 0
         },
         {
          "x": 1002,
          "y": 0
         },
         {
          "x": 1003,
          "y": 0
         },
         {
          "x": 1004,
          "y": 0
         },
         {
          "x": 1005,
          "y": 0
         },
         {
          "x": 1006,
          "y": 0
         },
         {
          "x": 1007,
          "y": 0
         },
         {
          "x": 1008,
          "y": 0
         },
         {
          "x": 1009,
          "y": 0
         },
         {
          "x": 1010,
          "y": 0
         },
         {
          "x": 1011,
          "y": 0
         },
         {
          "x": 1012,
          "y": 0
         },
         {
          "x": 1013,
          "y": 0
         },
         {
          "x": 1014,
          "y": 0
         },
         {
          "x": 1015,
          "y": 0
         },
         {
          "x": 1016,
          "y": 0
         },
         {
          "x": 1017,
          "y": 0
         },
         {
          "x": 1018,
          "y": 0
         },
         {
          "x": 1019,
          "y": 0
         },
         {
          "x": 1020,
          "y": 0
         },
         {
          "x": 1021,
          "y": 0
         },
         {
          "x": 1022,
          "y": 0
         },
         {
          "x": 1023,
          "y": 0
         },
         {
          "x": 1024,
          "y": 0
         },
         {
          "x": 1025,
          "y": 0
         },
         {
          "x": 1026,
          "y": 0
         },
         {
          "x": 1027,
          "y": 0
         },
         {
          "x": 1028,
          "y": 0
         },
         {
          "x": 1029,
          "y": 0
         },
         {
          "x": 1030,
          "y": 1
         },
         {
          "x": 1031,
          "y": 1
         },
         {
          "x": 1032,
          "y": 1
         },
         {
          "x": 1033,
          "y": 1
         },
         {
          "x": 1034,
          "y": 1
         },
         {
          "x": 1035,
          "y": 1
         },
         {
          "x": 1036,
          "y": 1
         },
         {
          "x": 1037,
          "y": 1
         },
         {
          "x": 1038,
          "y": 1
         },
         {
          "x": 1039,
          "y": 1
         },
         {
          "x": 1040,
          "y": 0
         },
         {
          "x": 1041,
          "y": 0
         },
         {
          "x": 1042,
          "y": 0
         },
         {
          "x": 1043,
          "y": 0
         },
         {
          "x": 1044,
          "y": 0
         },
         {
          "x": 1045,
          "y": 0
         },
         {
          "x": 1046,
          "y": 0
         },
         {
          "x": 1047,
          "y": 0
         },
         {
          "x": 1048,
          "y": 0
         },
         {
          "x": 1049,
          "y": 0
         },
         {
          "x": 1050,
          "y": 1
         },
         {
          "x": 1051,
          "y": 1
         },
         {
          "x": 1052,
          "y": 1
         },
         {
          "x": 1053,
          "y": 1
         },
         {
          "x": 1054,
          "y": 1
         },
         {
          "x": 1055,
          "y": 1
         },
         {
          "x": 1056,
          "y": 1
         },
         {
          "x": 1057,
          "y": 1
         },
         {
          "x": 1058,
          "y": 1
         },
         {
          "x": 1059,
          "y": 1
         },
         {
          "x": 1060,
          "y": 1
         },
         {
          "x": 1061,
          "y": 1
         },
         {
          "x": 1062,
          "y": 1
         },
         {
          "x": 1063,
          "y": 1
         },
         {
          "x": 1064,
          "y": 1
         },
         {
          "x": 1065,
          "y": 1
         },
         {
          "x": 1066,
          "y": 1
         },
         {
          "x": 1067,
          "y": 1
         },
         {
          "x": 1068,
          "y": 1
         },
         {
          "x": 1069,
          "y": 1
         },
         {
          "x": 1070,
          "y": 0
         },
         {
          "x": 1071,
          "y": 0
         },
         {
          "x": 1072,
          "y": 0
         },
         {
          "x": 1073,
          "y": 0
         },
         {
          "x": 1074,
          "y": 0
         },
         {
          "x": 1075,
          "y": 0
         },
         {
          "x": 1076,
          "y": 0
         },
         {
          "x": 1077,
          "y": 0
         },
         {
          "x": 1078,
          "y": 0
         },
         {
          "x": 1079,
          "y": 0
         },
         {
          "x": 1080,
          "y": 0
         },
         {
          "x": 1081,
          "y": 0
         },
         {
          "x": 1082,
          "y": 0
         },
         {
          "x": 1083,
          "y": 0
         },
         {
          "x": 1084,
          "y": 0
         },
         {
          "x": 1085,
          "y": 0
         },
         {
          "x": 1086,
          "y": 0
         },
         {
          "x": 1087,
          "y": 0
         },
         {
          "x": 1088,
          "y": 0
         },
         {
          "x": 1089,
          "y": 0
         },
         {
          "x": 1090,
          "y": 0
         },
         {
          "x": 1091,
          "y": 0
         },
         {
          "x": 1092,
          "y": 0
         },
         {
          "x": 1093,
          "y": 0
         },
         {
          "x": 1094,
          "y": 0
         },
         {
          "x": 1095,
          "y": 0
         },
         {
          "x": 1096,
          "y": 0
         },
         {
          "x": 1097,
          "y": 0
         },
         {
          "x": 1098,
          "y": 0
         },
         {
          "x": 1099,
          "y": 0
         },
         {
          "x": 1100,
          "y": 1
         },
         {
          "x": 1101,
          "y": 1
         },
         {
          "x": 1102,
          "y": 1
         },
         {
          "x": 1103,
          "y": 1
         },
         {
          "x": 1104,
          "y": 1
         },
         {
          "x": 1105,
          "y": 1
         },
         {
          "x": 1106,
          "y": 1
         },
         {
          "x": 1107,
          "y": 1
         },
         {
          "x": 1108,
          "y": 1
         },
         {
          "x": 1109,
          "y": 1
         },
         {
          "x": 1110,
          "y": 1
         },
         {
          "x": 1111,
          "y": 1
         },
         {
          "x": 1112,
          "y": 1
         },
         {
          "x": 1113,
          "y": 1
         },
         {
          "x": 1114,
          "y": 1
         },
         {
          "x": 1115,
          "y": 1
         },
         {
          "x": 1116,
          "y": 1
         },
         {
          "x": 1117,
          "y": 1
         },
         {
          "x": 1118,
          "y": 1
         },
         {
          "x": 1119,
          "y": 1
         },
         {
          "x": 1120,
          "y": 0
         },
         {
          "x": 1121,
          "y": 0
         },
         {
          "x": 1122,
          "y": 0
         },
         {
          "x": 1123,
          "y": 0
         },
         {
          "x": 1124,
          "y": 0
         },
         {
          "x": 1125,
          "y": 0
         },
         {
          "x": 1126,
          "y": 0
         },
         {
          "x": 1127,
          "y": 0
         },
         {
          "x": 1128,
          "y": 0
         },
         {
          "x": 1129,
          "y": 0
         },
         {
          "x": 1130,
          "y": 0
         },
         {
          "x": 1131,
          "y": 0
         },
         {
          "x": 1132,
          "y": 0
         },
         {
          "x": 1133,
          "y": 0
         },
         {
          "x": 1134,
          "y": 0
         },
         {
          "x": 1135,
          "y": 0
         },
         {
          "x": 1136,
          "y": 0
         },
         {
          "x": 1137,
          "y": 0
         },
         {
          "x": 1138,
          "y": 0
         },
         {
          "x": 1139,
          "y": 0
         },
         {
          "x": 1140,
          "y": 0
         },
         {
          "x": 1141,
          "y": 0
         },
         {
          "x": 1142,
          "y": 0
         },
         {
          "x": 1143,
          "y": 0
         },
         {
          "x": 1144,
          "y": 0
         },
         {
          "x": 1145,
          "y": 0
         },
         {
          "x": 1146,
          "y": 0
         },
         {
          "x": 1147,
          "y": 0
         },
         {
          "x": 1148,
          "y": 0
         },
         {
          "x": 1149,
          "y": 0
         },
         {
          "x": 1150,
          "y": 1
         },
         {
          "x": 1151,
          "y": 1
         },
         {
          "x": 1152,
          "y": 1
         },
         {
          "x": 1153,
          "y": 1
         },
         {
          "x": 1154,
          "y": 1
         },
         {
          "x": 1155,
          "y": 1
         },
         {
          "x": 1156,
          "y": 1
         },
         {
          "x": 1157,
          "y": 1
         },
         {
          "x": 1158,
          "y": 1
         },
         {
          "x": 1159,
          "y": 1
         },
         {
          "x": 1160,
          "y": 0
         },
         {
          "x": 1161,
          "y": 0
         },
         {
          "x": 1162,
          "y": 0
         },
         {
          "x": 1163,
          "y": 0
         },
         {
          "x": 1164,
          "y": 0
         },
         {
          "x": 1165,
          "y": 0
         },
         {
          "x": 1166,
          "y": 0
         },
         {
          "x": 1167,
          "y": 0
         },
         {
          "x": 1168,
          "y": 0
         },
         {
          "x": 1169,
          "y": 0
         },
         {
          "x": 1170,
          "y": 1
         },
         {
          "x": 1171,
          "y": 1
         },
         {
          "x": 1172,
          "y": 1
         },
         {
          "x": 1173,
          "y": 1
         },
         {
          "x": 1174,
          "y": 1
         },
         {
          "x": 1175,
          "y": 1
         },
         {
          "x": 1176,
          "y": 1
         },
         {
          "x": 1177,
          "y": 1
         },
         {
          "x": 1178,
          "y": 1
         },
         {
          "x": 1179,
          "y": 1
         },
         {
          "x": 1180,
          "y": 1
         },
         {
          "x": 1181,
          "y": 1
         },
         {
          "x": 1182,
          "y": 1
         },
         {
          "x": 1183,
          "y": 1
         },
         {
          "x": 1184,
          "y": 1
         },
         {
          "x": 1185,
          "y": 1
         },
         {
          "x": 1186,
          "y": 1
         },
         {
          "x": 1187,
          "y": 1
         },
         {
          "x": 1188,
          "y": 1
         },
         {
          "x": 1189,
          "y": 1
         },
         {
          "x": 1190,
          "y": 1
         },
         {
          "x": 1191,
          "y": 1
         },
         {
          "x": 1192,
          "y": 1
         },
         {
          "x": 1193,
          "y": 1
         },
         {
          "x": 1194,
          "y": 1
         },
         {
          "x": 1195,
          "y": 1
         },
         {
          "x": 1196,
          "y": 1
         },
         {
          "x": 1197,
          "y": 1
         },
         {
          "x": 1198,
          "y": 1
         },
         {
          "x": 1199,
          "y": 1
         },
         {
          "x": 1200,
          "y": 0
         },
         {
          "x": 1201,
          "y": 0
         },
         {
          "x": 1202,
          "y": 0
         },
         {
          "x": 1203,
          "y": 0
         },
         {
          "x": 1204,
          "y": 0
         },
         {
          "x": 1205,
          "y": 0
         },
         {
          "x": 1206,
          "y": 0
         },
         {
          "x": 1207,
          "y": 0
         },
         {
          "x": 1208,
          "y": 0
         },
         {
          "x": 1209,
          "y": 0
         },
         {
          "x": 1210,
          "y": 1
         },
         {
          "x": 1211,
          "y": 1
         },
         {
          "x": 1212,
          "y": 1
         },
         {
          "x": 1213,
          "y": 1
         },
         {
          "x": 1214,
          "y": 1
         },
         {
          "x": 1215,
          "y": 1
         },
         {
          "x": 1216,
          "y": 1
         },
         {
          "x": 1217,
          "y": 1
         },
         {
          "x": 1218,
          "y": 1
         },
         {
          "x": 1219,
          "y": 1
         },
         {
          "x": 1220,
          "y": 1
         },
         {
          "x": 1221,
          "y": 1
         },
         {
          "x": 1222,
          "y": 1
         },
         {
          "x": 1223,
          "y": 1
         },
         {
          "x": 1224,
          "y": 1
         },
         {
          "x": 1225,
          "y": 1
         },
         {
          "x": 1226,
          "y": 1
         },
         {
          "x": 1227,
          "y": 1
         },
         {
          "x": 1228,
          "y": 1
         },
         {
          "x": 1229,
          "y": 1
         },
         {
          "x": 1230,
          "y": 0
         },
         {
          "x": 1231,
          "y": 0
         },
         {
          "x": 1232,
          "y": 0
         },
         {
          "x": 1233,
          "y": 0
         },
         {
          "x": 1234,
          "y": 0
         },
         {
          "x": 1235,
          "y": 0
         },
         {
          "x": 1236,
          "y": 0
         },
         {
          "x": 1237,
          "y": 0
         },
         {
          "x": 1238,
          "y": 0
         },
         {
          "x": 1239,
          "y": 0
         },
         {
          "x": 1240,
          "y": 0
         },
         {
          "x": 1241,
          "y": 0
         },
         {
          "x": 1242,
          "y": 0
         },
         {
          "x": 1243,
          "y": 0
         },
         {
          "x": 1244,
          "y": 0
         },
         {
          "x": 1245,
          "y": 0
         },
         {
          "x": 1246,
          "y": 0
         },
         {
          "x": 1247,
          "y": 0
         },
         {
          "x": 1248,
          "y": 0
         },
         {
          "x": 1249,
          "y": 0
         },
         {
          "x": 1250,
          "y": 1
         },
         {
          "x": 1251,
          "y": 1
         },
         {
          "x": 1252,
          "y": 1
         },
         {
          "x": 1253,
          "y": 1
         },
         {
          "x": 1254,
          "y": 1
         },
         {
          "x": 1255,
          "y": 1
         },
         {
          "x": 1256,
          "y": 1
         },
         {
          "x": 1257,
          "y": 1
         },
         {
          "x": 1258,
          "y": 1
         },
         {
          "x": 1259,
          "y": 1
         },
         {
          "x": 1260,
          "y": 1
         },
         {
          "x": 1261,
          "y": 1
         },
         {
          "x": 1262,
          "y": 1
         },
         {
          "x": 1263,
          "y": 1
         },
         {
          "x": 1264,
          "y": 1
         },
         {
          "x": 1265,
          "y": 1
         },
         {
          "x": 1266,
          "y": 1
         },
         {
          "x": 1267,
          "y": 1
         },
         {
          "x": 1268,
          "y": 1
         },
         {
          "x": 1269,
          "y": 1
         },
         {
          "x": 1270,
          "y": 0
         },
         {
          "x": 1271,
          "y": 0
         },
         {
          "x": 1272,
          "y": 0
         },
         {
          "x": 1273,
          "y": 0
         },
         {
          "x": 1274,
          "y": 0
         },
         {
          "x": 1275,
          "y": 0
         },
         {
          "x": 1276,
          "y": 0
         },
         {
          "x": 1277,
          "y": 0
         },
         {
          "x": 1278,
          "y": 0
         },
         {
          "x": 1279,
          "y": 0
         },
         {
          "x": 1280,
          "y": 1
         },
         {
          "x": 1281,
          "y": 1
         },
         {
          "x": 1282,
          "y": 1
         },
         {
          "x": 1283,
          "y": 1
         },
         {
          "x": 1284,
          "y": 1
         },
         {
          "x": 1285,
          "y": 1
         },
         {
          "x": 1286,
          "y": 1
         },
         {
          "x": 1287,
          "y": 1
         },
         {
          "x": 1288,
          "y": 1
         },
         {
          "x": 1289,
          "y": 1
         },
         {
          "x": 1290,
          "y": 1
         },
         {
          "x": 1291,
          "y": 1
         },
         {
          "x": 1292,
          "y": 1
         },
         {
          "x": 1293,
          "y": 1
         },
         {
          "x": 1294,
          "y": 1
         },
         {
          "x": 1295,
          "y": 1
         },
         {
          "x": 1296,
          "y": 1
         },
         {
          "x": 1297,
          "y": 1
         },
         {
          "x": 1298,
          "y": 1
         },
         {
          "x": 1299,
          "y": 1
         },
         {
          "x": 1300,
          "y": 0
         },
         {
          "x": 1301,
          "y": 0
         },
         {
          "x": 1302,
          "y": 0
         },
         {
          "x": 1303,
          "y": 0
         },
         {
          "x": 1304,
          "y": 0
         },
         {
          "x": 1305,
          "y": 0
         },
         {
          "x": 1306,
          "y": 0
         },
         {
          "x": 1307,
          "y": 0
         },
         {
          "x": 1308,
          "y": 0
         },
         {
          "x": 1309,
          "y": 0
         },
         {
          "x": 1310,
          "y": 0
         },
         {
          "x": 1311,
          "y": 0
         },
         {
          "x": 1312,
          "y": 0
         },
         {
          "x": 1313,
          "y": 0
         },
         {
          "x": 1314,
          "y": 0
         },
         {
          "x": 1315,
          "y": 0
         },
         {
          "x": 1316,
          "y": 0
         },
         {
          "x": 1317,
          "y": 0
         },
         {
          "x": 1318,
          "y": 0
         },
         {
          "x": 1319,
          "y": 0
         },
         {
          "x": 1320,
          "y": 1
         },
         {
          "x": 1321,
          "y": 1
         },
         {
          "x": 1322,
          "y": 1
         },
         {
          "x": 1323,
          "y": 1
         },
         {
          "x": 1324,
          "y": 1
         },
         {
          "x": 1325,
          "y": 1
         },
         {
          "x": 1326,
          "y": 1
         },
         {
          "x": 1327,
          "y": 1
         },
         {
          "x": 1328,
          "y": 1
         },
         {
          "x": 1329,
          "y": 1
         },
         {
          "x": 1330,
          "y": 1
         },
         {
          "x": 1331,
          "y": 1
         },
         {
          "x": 1332,
          "y": 1
         },
         {
          "x": 1333,
          "y": 1
         },
         {
          "x": 1334,
          "y": 1
         },
         {
          "x": 1335,
          "y": 1
         },
         {
          "x": 1336,
          "y": 1
         },
         {
          "x": 1337,
          "y": 1
         },
         {
          "x": 1338,
          "y": 1
         },
         {
          "x": 1339,
          "y": 1
         },
         {
          "x": 1340,
          "y": 1
         },
         {
          "x": 1341,
          "y": 1
         },
         {
          "x": 1342,
          "y": 1
         },
         {
          "x": 1343,
          "y": 1
         },
         {
          "x": 1344,
          "y": 1
         },
         {
          "x": 1345,
          "y": 1
         },
         {
          "x": 1346,
          "y": 1
         },
         {
          "x": 1347,
          "y": 1
         },
         {
          "x": 1348,
          "y": 1
         },
         {
          "x": 1349,
          "y": 1
         },
         {
          "x": 1350,
          "y": 1
         },
         {
          "x": 1351,
          "y": 1
         },
         {
          "x": 1352,
          "y": 1
         },
         {
          "x": 1353,
          "y": 1
         },
         {
          "x": 1354,
          "y": 1
         },
         {
          "x": 1355,
          "y": 1
         },
         {
          "x": 1356,
          "y": 1
         },
         {
          "x": 1357,
          "y": 1
         },
         {
          "x": 1358,
          "y": 1
         },
         {
          "x": 1359,
          "y": 1
         },
         {
          "x": 1360,
          "y": 0
         },
         {
          "x": 1361,
          "y": 0
         },
         {
          "x": 1362,
          "y": 0
         },
         {
          "x": 1363,
          "y": 0
         },
         {
          "x": 1364,
          "y": 0
         },
         {
          "x": 1365,
          "y": 0
         },
         {
          "x": 1366,
          "y": 0
         },
         {
          "x": 1367,
          "y": 0
         },
         {
          "x": 1368,
          "y": 0
         },
         {
          "x": 1369,
          "y": 0
         },
         {
          "x": 1370,
          "y": 0
         },
         {
          "x": 1371,
          "y": 0
         },
         {
          "x": 1372,
          "y": 0
         },
         {
          "x": 1373,
          "y": 0
         },
         {
          "x": 1374,
          "y": 0
         },
         {
          "x": 1375,
          "y": 0
         },
         {
          "x": 1376,
          "y": 0
         },
         {
          "x": 1377,
          "y": 0
         },
         {
          "x": 1378,
          "y": 0
         },
         {
          "x": 1379,
          "y": 0
         },
         {
          "x": 1380,
          "y": 0
         },
         {
          "x": 1381,
          "y": 0
         },
         {
          "x": 1382,
          "y": 0
         },
         {
          "x": 1383,
          "y": 0
         },
         {
          "x": 1384,
          "y": 0
         },
         {
          "x": 1385,
          "y": 0
         },
         {
          "x": 1386,
          "y": 0
         },
         {
          "x": 1387,
          "y": 0
         },
         {
          "x": 1388,
          "y": 0
         },
         {
          "x": 1389,
          "y": 0
         },
         {
          "x": 1390,
          "y": 1
         },
         {
          "x": 1391,
          "y": 1
         },
         {
          "x": 1392,
          "y": 1
         },
         {
          "x": 1393,
          "y": 1
         },
         {
          "x": 1394,
          "y": 1
         },
         {
          "x": 1395,
          "y": 1
         },
         {
          "x": 1396,
          "y": 1
         },
         {
          "x": 1397,
          "y": 1
         },
         {
          "x": 1398,
          "y": 1
         },
         {
          "x": 1399,
          "y": 1
         },
         {
          "x": 1400,
          "y": 0
         },
         {
          "x": 1401,
          "y": 0
         },
         {
          "x": 1402,
          "y": 0
         },
         {
          "x": 1403,
          "y": 0
         },
         {
          "x": 1404,
          "y": 0
         },
         {
          "x": 1405,
          "y": 0
         },
         {
          "x": 1406,
          "y": 0
         },
         {
          "x": 1407,
          "y": 0
         },
         {
          "x": 1408,
          "y": 0
         },
         {
          "x": 1409,
          "y": 0
         },
         {
          "x": 1410,
          "y": 1
         },
         {
          "x": 1411,
          "y": 1
         },
         {
          "x": 1412,
          "y": 1
         },
         {
          "x": 1413,
          "y": 1
         },
         {
          "x": 1414,
          "y": 1
         },
         {
          "x": 1415,
          "y": 1
         },
         {
          "x": 1416,
          "y": 1
         },
         {
          "x": 1417,
          "y": 1
         },
         {
          "x": 1418,
          "y": 1
         },
         {
          "x": 1419,
          "y": 1
         },
         {
          "x": 1420,
          "y": 0
         },
         {
          "x": 1421,
          "y": 0
         },
         {
          "x": 1422,
          "y": 0
         },
         {
          "x": 1423,
          "y": 0
         },
         {
          "x": 1424,
          "y": 0
         },
         {
          "x": 1425,
          "y": 0
         },
         {
          "x": 1426,
          "y": 0
         },
         {
          "x": 1427,
          "y": 0
         },
         {
          "x": 1428,
          "y": 0
         },
         {
          "x": 1429,
          "y": 0
         },
         {
          "x": 1430,
          "y": 1
         },
         {
          "x": 1431,
          "y": 1
         },
         {
          "x": 1432,
          "y": 1
         },
         {
          "x": 1433,
          "y": 1
         },
         {
          "x": 1434,
          "y": 1
         },
         {
          "x": 1435,
          "y": 1
         },
         {
          "x": 1436,
          "y": 1
         },
         {
          "x": 1437,
          "y": 1
         },
         {
          "x": 1438,
          "y": 1
         },
         {
          "x": 1439,
          "y": 1
         },
         {
          "x": 1440,
          "y": 1
         },
         {
          "x": 1441,
          "y": 1
         },
         {
          "x": 1442,
          "y": 1
         },
         {
          "x": 1443,
          "y": 1
         },
         {
          "x": 1444,
          "y": 1
         },
         {
          "x": 1445,
          "y": 1
         },
         {
          "x": 1446,
          "y": 1
         },
         {
          "x": 1447,
          "y": 1
         },
         {
          "x": 1448,
          "y": 1
         },
         {
          "x": 1449,
          "y": 1
         },
         {
          "x": 1450,
          "y": 0
         },
         {
          "x": 1451,
          "y": 0
         },
         {
          "x": 1452,
          "y": 0
         },
         {
          "x": 1453,
          "y": 0
         },
         {
          "x": 1454,
          "y": 0
         },
         {
          "x": 1455,
          "y": 0
         },
         {
          "x": 1456,
          "y": 0
         },
         {
          "x": 1457,
          "y": 0
         },
         {
          "x": 1458,
          "y": 0
         },
         {
          "x": 1459,
          "y": 0
         },
         {
          "x": 1460,
          "y": 0
         },
         {
          "x": 1461,
          "y": 0
         },
         {
          "x": 1462,
          "y": 0
         },
         {
          "x": 1463,
          "y": 0
         },
         {
          "x": 1464,
          "y": 0
         },
         {
          "x": 1465,
          "y": 0
         },
         {
          "x": 1466,
          "y": 0
         },
         {
          "x": 1467,
          "y": 0
         },
         {
          "x": 1468,
          "y": 0
         },
         {
          "x": 1469,
          "y": 0
         },
         {
          "x": 1470,
          "y": 0
         },
         {
          "x": 1471,
          "y": 0
         },
         {
          "x": 1472,
          "y": 0
         },
         {
          "x": 1473,
          "y": 0
         },
         {
          "x": 1474,
          "y": 0
         },
         {
          "x": 1475,
          "y": 0
         },
         {
          "x": 1476,
          "y": 0
         },
         {
          "x": 1477,
          "y": 0
         },
         {
          "x": 1478,
          "y": 0
         },
         {
          "x": 1479,
          "y": 0
         },
         {
          "x": 1480,
          "y": 1
         },
         {
          "x": 1481,
          "y": 1
         },
         {
          "x": 1482,
          "y": 1
         },
         {
          "x": 1483,
          "y": 1
         },
         {
          "x": 1484,
          "y": 1
         },
         {
          "x": 1485,
          "y": 1
         },
         {
          "x": 1486,
          "y": 1
         },
         {
          "x": 1487,
          "y": 1
         },
         {
          "x": 1488,
          "y": 1
         },
         {
          "x": 1489,
          "y": 1
         },
         {
          "x": 1490,
          "y": 1
         },
         {
          "x": 1491,
          "y": 1
         },
         {
          "x": 1492,
          "y": 1
         },
         {
          "x": 1493,
          "y": 1
         },
         {
          "x": 1494,
          "y": 1
         },
         {
          "x": 1495,
          "y": 1
         },
         {
          "x": 1496,
          "y": 1
         },
         {
          "x": 1497,
          "y": 1
         },
         {
          "x": 1498,
          "y": 1
         },
         {
          "x": 1499,
          "y": 1
         },
         {
          "x": 1500,
          "y": 1
         },
         {
          "x": 1501,
          "y": 1
         },
         {
          "x": 1502,
          "y": 1
         },
         {
          "x": 1503,
          "y": 1
         },
         {
          "x": 1504,
          "y": 1
         },
         {
          "x": 1505,
          "y": 1
         },
         {
          "x": 1506,
          "y": 1
         },
         {
          "x": 1507,
          "y": 1
         },
         {
          "x": 1508,
          "y": 1
         },
         {
          "x": 1509,
          "y": 1
         },
         {
          "x": 1510,
          "y": 0
         },
         {
          "x": 1511,
          "y": 0
         },
         {
          "x": 1512,
          "y": 0
         },
         {
          "x": 1513,
          "y": 0
         },
         {
          "x": 1514,
          "y": 0
         },
         {
          "x": 1515,
          "y": 0
         },
         {
          "x": 1516,
          "y": 0
         },
         {
          "x": 1517,
          "y": 0
         },
         {
          "x": 1518,
          "y": 0
         },
         {
          "x": 1519,
          "y": 0
         },
         {
          "x": 1520,
          "y": 1
         },
         {
          "x": 1521,
          "y": 1
         },
         {
          "x": 1522,
          "y": 1
         },
         {
          "x": 1523,
          "y": 1
         },
         {
          "x": 1524,
          "y": 1
         },
         {
          "x": 1525,
          "y": 1
         },
         {
          "x": 1526,
          "y": 1
         },
         {
          "x": 1527,
          "y": 1
         },
         {
          "x": 1528,
          "y": 1
         },
         {
          "x": 1529,
          "y": 1
         },
         {
          "x": 1530,
          "y": 0
         },
         {
          "x": 1531,
          "y": 0
         },
         {
          "x": 1532,
          "y": 0
         },
         {
          "x": 1533,
          "y": 0
         },
         {
          "x": 1534,
          "y": 0
         },
         {
          "x": 1535,
          "y": 0
         },
         {
          "x": 1536,
          "y": 0
         },
         {
          "x": 1537,
          "y": 0
         },
         {
          "x": 1538,
          "y": 0
         },
         {
          "x": 1539,
          "y": 0
         },
         {
          "x": 1540,
          "y": 1
         },
         {
          "x": 1541,
          "y": 1
         },
         {
          "x": 1542,
          "y": 1
         },
         {
          "x": 1543,
          "y": 1
         },
         {
          "x": 1544,
          "y": 1
         },
         {
          "x": 1545,
          "y": 1
         },
         {
          "x": 1546,
          "y": 1
         },
         {
          "x": 1547,
          "y": 1
         },
         {
          "x": 1548,
          "y": 1
         },
         {
          "x": 1549,
          "y": 1
         },
         {
          "x": 1550,
          "y": 1
         },
         {
          "x": 1551,
          "y": 1
         },
         {
          "x": 1552,
          "y": 1
         },
         {
          "x": 1553,
          "y": 1
         },
         {
          "x": 1554,
          "y": 1
         },
         {
          "x": 1555,
          "y": 1
         },
         {
          "x": 1556,
          "y": 1
         },
         {
          "x": 1557,
          "y": 1
         },
         {
          "x": 1558,
          "y": 1
         },
         {
          "x": 1559,
          "y": 1
         }
        ]
       },
       "encoding": {
        "size": {
         "value": 1
        },
        "x": {
         "field": "x",
         "type": "quantitative"
        },
        "y": {
         "field": "y",
         "type": "quantitative"
        }
       },
       "mark": "area"
      },
      "image/png": "[encoded data removed]",
      "text/plain": [
       "<VegaLite 2 object>\n",
       "\n",
       "If you see this message, it means the renderer has not been properly enabled\n",
       "for the frontend that you are using. For more information, see\n",
       "https://altair-viz.github.io/user_guide/troubleshooting.html\n"
      ]
     },
     "execution_count": 8,
     "metadata": {},
     "output_type": "execute_result"
    }
   ],
   "source": [
    "avg = np.average(df['y'])\n",
    "bits = df['y'].apply(lambda x: 1 if x >= avg else 0).reset_index(drop=True)\n",
    "\n",
    "start = 0\n",
    "end = len(bits) - 1\n",
    "while bits.iloc[start] == 0:\n",
    "    start = start + 1\n",
    "while bits[end] == 0:\n",
    "    end = end - 1\n",
    "bits = bits.iloc[start:end+1].reset_index(drop=True)\n",
    "\n",
    "df =pd.DataFrame({'x': np.arange(len(bits)), 'y': bits})\n",
    "alt.Chart(df).mark_area().encode(\n",
    "    x='x',\n",
    "    y='y',\n",
    "    size=alt.value(1)\n",
    ").configure_view(\n",
    "    width=700,\n",
    "    height=100,\n",
    ")"
   ]
  },
  {
   "cell_type": "code",
   "execution_count": 5,
   "metadata": {},
   "outputs": [
    {
     "name": "stdout",
     "output_type": "stream",
     "text": [
      "10100010\n",
      "01000110\n",
      "11011101\n",
      "10110110\n",
      "00101000\n",
      "00010001\n",
      "00010111\n",
      "11001111\n",
      "10001110\n"
     ]
    }
   ],
   "source": [
    "zero = False\n",
    "for idx in range(len(bits)):\n",
    "    if bits.iloc[idx] == 0:\n",
    "        zero = True\n",
    "    if zero and bits.iloc[idx] == 1:\n",
    "        break    \n",
    "bit_width = int(idx / 3)\n",
    "\n",
    "count = []\n",
    "value = -1\n",
    "value_count = 0\n",
    "for item in bits:\n",
    "    if item != value:\n",
    "        if value in (0, 1):\n",
    "            count.append((value, value_count))\n",
    "        value = item\n",
    "        value_count = 1\n",
    "    else:\n",
    "        value_count = value_count + 1\n",
    "else:\n",
    "    count.append((value, value_count))\n",
    "\n",
    "code = ''.join(str(value)*(value_count//bit_width) for value, value_count in count)\n",
    "\n",
    "step = 16\n",
    "end = step\n",
    "while end < len(code):\n",
    "    print(code[end:end+8])\n",
    "    end = end + step"
   ]
  }
 ],
 "metadata": {
  "kernelspec": {
   "display_name": "Python 3",
   "language": "python",
   "name": "python3"
  },
  "language_info": {
   "codemirror_mode": {
    "name": "ipython",
    "version": 3
   },
   "file_extension": ".py",
   "mimetype": "text/x-python",
   "name": "python",
   "nbconvert_exporter": "python",
   "pygments_lexer": "ipython3",
   "version": "3.7.3"
  }
 },
 "nbformat": 4,
 "nbformat_minor": 2
}
