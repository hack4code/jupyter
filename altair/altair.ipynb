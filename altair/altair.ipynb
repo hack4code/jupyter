{
 "cells": [
  {
   "cell_type": "code",
   "execution_count": 23,
   "metadata": {},
   "outputs": [],
   "source": [
    "import warnings\n",
    "warnings.simplefilter(action='ignore', category=FutureWarning)\n",
    "\n",
    "import numpy as np\n",
    "import pandas as pd\n",
    "import altair as alt\n",
    "from vega_datasets import data"
   ]
  },
  {
   "cell_type": "code",
   "execution_count": 25,
   "metadata": {},
   "outputs": [
    {
     "data": {
      "application/vnd.vegalite.v2+json": {
       "$schema": "https://vega.github.io/schema/vega-lite/v2.6.0.json",
       "config": {
        "view": {
         "height": 300,
         "width": 400
        }
       },
       "data": {
        "name": "data-a264acbd6e539a8b3afc0cb5f240fb57"
       },
       "datasets": {
        "data-a264acbd6e539a8b3afc0cb5f240fb57": [
         {
          "petalLength": 1.4,
          "petalWidth": 0.2,
          "sepalLength": 5.1,
          "sepalWidth": 3.5,
          "species": "setosa"
         },
         {
          "petalLength": 1.4,
          "petalWidth": 0.2,
          "sepalLength": 4.9,
          "sepalWidth": 3,
          "species": "setosa"
         },
         {
          "petalLength": 1.3,
          "petalWidth": 0.2,
          "sepalLength": 4.7,
          "sepalWidth": 3.2,
          "species": "setosa"
         },
         {
          "petalLength": 1.5,
          "petalWidth": 0.2,
          "sepalLength": 4.6,
          "sepalWidth": 3.1,
          "species": "setosa"
         },
         {
          "petalLength": 1.4,
          "petalWidth": 0.2,
          "sepalLength": 5,
          "sepalWidth": 3.6,
          "species": "setosa"
         },
         {
          "petalLength": 1.7000000000000002,
          "petalWidth": 0.4,
          "sepalLength": 5.4,
          "sepalWidth": 3.9,
          "species": "setosa"
         },
         {
          "petalLength": 1.4,
          "petalWidth": 0.30000000000000004,
          "sepalLength": 4.6,
          "sepalWidth": 3.4,
          "species": "setosa"
         },
         {
          "petalLength": 1.5,
          "petalWidth": 0.2,
          "sepalLength": 5,
          "sepalWidth": 3.4,
          "species": "setosa"
         },
         {
          "petalLength": 1.4,
          "petalWidth": 0.2,
          "sepalLength": 4.4,
          "sepalWidth": 2.9,
          "species": "setosa"
         },
         {
          "petalLength": 1.5,
          "petalWidth": 0.1,
          "sepalLength": 4.9,
          "sepalWidth": 3.1,
          "species": "setosa"
         },
         {
          "petalLength": 1.5,
          "petalWidth": 0.2,
          "sepalLength": 5.4,
          "sepalWidth": 3.7,
          "species": "setosa"
         },
         {
          "petalLength": 1.6,
          "petalWidth": 0.2,
          "sepalLength": 4.8,
          "sepalWidth": 3.4,
          "species": "setosa"
         },
         {
          "petalLength": 1.4,
          "petalWidth": 0.1,
          "sepalLength": 4.8,
          "sepalWidth": 3,
          "species": "setosa"
         },
         {
          "petalLength": 1.1,
          "petalWidth": 0.1,
          "sepalLength": 4.3,
          "sepalWidth": 3,
          "species": "setosa"
         },
         {
          "petalLength": 1.2,
          "petalWidth": 0.2,
          "sepalLength": 5.8,
          "sepalWidth": 4,
          "species": "setosa"
         },
         {
          "petalLength": 1.5,
          "petalWidth": 0.4,
          "sepalLength": 5.7,
          "sepalWidth": 4.4,
          "species": "setosa"
         },
         {
          "petalLength": 1.3,
          "petalWidth": 0.4,
          "sepalLength": 5.4,
          "sepalWidth": 3.9,
          "species": "setosa"
         },
         {
          "petalLength": 1.4,
          "petalWidth": 0.30000000000000004,
          "sepalLength": 5.1,
          "sepalWidth": 3.5,
          "species": "setosa"
         },
         {
          "petalLength": 1.7000000000000002,
          "petalWidth": 0.30000000000000004,
          "sepalLength": 5.7,
          "sepalWidth": 3.8,
          "species": "setosa"
         },
         {
          "petalLength": 1.5,
          "petalWidth": 0.30000000000000004,
          "sepalLength": 5.1,
          "sepalWidth": 3.8,
          "species": "setosa"
         },
         {
          "petalLength": 1.7000000000000002,
          "petalWidth": 0.2,
          "sepalLength": 5.4,
          "sepalWidth": 3.4,
          "species": "setosa"
         },
         {
          "petalLength": 1.5,
          "petalWidth": 0.4,
          "sepalLength": 5.1,
          "sepalWidth": 3.7,
          "species": "setosa"
         },
         {
          "petalLength": 1,
          "petalWidth": 0.2,
          "sepalLength": 4.6,
          "sepalWidth": 3.6,
          "species": "setosa"
         },
         {
          "petalLength": 1.7000000000000002,
          "petalWidth": 0.5,
          "sepalLength": 5.1,
          "sepalWidth": 3.3,
          "species": "setosa"
         },
         {
          "petalLength": 1.9,
          "petalWidth": 0.2,
          "sepalLength": 4.8,
          "sepalWidth": 3.4,
          "species": "setosa"
         },
         {
          "petalLength": 1.6,
          "petalWidth": 0.2,
          "sepalLength": 5,
          "sepalWidth": 3,
          "species": "setosa"
         },
         {
          "petalLength": 1.6,
          "petalWidth": 0.4,
          "sepalLength": 5,
          "sepalWidth": 3.4,
          "species": "setosa"
         },
         {
          "petalLength": 1.5,
          "petalWidth": 0.2,
          "sepalLength": 5.2,
          "sepalWidth": 3.5,
          "species": "setosa"
         },
         {
          "petalLength": 1.4,
          "petalWidth": 0.2,
          "sepalLength": 5.2,
          "sepalWidth": 3.4,
          "species": "setosa"
         },
         {
          "petalLength": 1.6,
          "petalWidth": 0.2,
          "sepalLength": 4.7,
          "sepalWidth": 3.2,
          "species": "setosa"
         },
         {
          "petalLength": 1.6,
          "petalWidth": 0.2,
          "sepalLength": 4.8,
          "sepalWidth": 3.1,
          "species": "setosa"
         },
         {
          "petalLength": 1.5,
          "petalWidth": 0.4,
          "sepalLength": 5.4,
          "sepalWidth": 3.4,
          "species": "setosa"
         },
         {
          "petalLength": 1.5,
          "petalWidth": 0.1,
          "sepalLength": 5.2,
          "sepalWidth": 4.1,
          "species": "setosa"
         },
         {
          "petalLength": 1.4,
          "petalWidth": 0.2,
          "sepalLength": 5.5,
          "sepalWidth": 4.2,
          "species": "setosa"
         },
         {
          "petalLength": 1.5,
          "petalWidth": 0.2,
          "sepalLength": 4.9,
          "sepalWidth": 3.1,
          "species": "setosa"
         },
         {
          "petalLength": 1.2,
          "petalWidth": 0.2,
          "sepalLength": 5,
          "sepalWidth": 3.2,
          "species": "setosa"
         },
         {
          "petalLength": 1.3,
          "petalWidth": 0.2,
          "sepalLength": 5.5,
          "sepalWidth": 3.5,
          "species": "setosa"
         },
         {
          "petalLength": 1.4,
          "petalWidth": 0.1,
          "sepalLength": 4.9,
          "sepalWidth": 3.6,
          "species": "setosa"
         },
         {
          "petalLength": 1.3,
          "petalWidth": 0.2,
          "sepalLength": 4.4,
          "sepalWidth": 3,
          "species": "setosa"
         },
         {
          "petalLength": 1.5,
          "petalWidth": 0.2,
          "sepalLength": 5.1,
          "sepalWidth": 3.4,
          "species": "setosa"
         },
         {
          "petalLength": 1.3,
          "petalWidth": 0.30000000000000004,
          "sepalLength": 5,
          "sepalWidth": 3.5,
          "species": "setosa"
         },
         {
          "petalLength": 1.3,
          "petalWidth": 0.30000000000000004,
          "sepalLength": 4.5,
          "sepalWidth": 2.3,
          "species": "setosa"
         },
         {
          "petalLength": 1.3,
          "petalWidth": 0.2,
          "sepalLength": 4.4,
          "sepalWidth": 3.2,
          "species": "setosa"
         },
         {
          "petalLength": 1.6,
          "petalWidth": 0.6000000000000001,
          "sepalLength": 5,
          "sepalWidth": 3.5,
          "species": "setosa"
         },
         {
          "petalLength": 1.9,
          "petalWidth": 0.4,
          "sepalLength": 5.1,
          "sepalWidth": 3.8,
          "species": "setosa"
         },
         {
          "petalLength": 1.4,
          "petalWidth": 0.30000000000000004,
          "sepalLength": 4.8,
          "sepalWidth": 3,
          "species": "setosa"
         },
         {
          "petalLength": 1.6,
          "petalWidth": 0.2,
          "sepalLength": 5.1,
          "sepalWidth": 3.8,
          "species": "setosa"
         },
         {
          "petalLength": 1.4,
          "petalWidth": 0.2,
          "sepalLength": 4.6,
          "sepalWidth": 3.2,
          "species": "setosa"
         },
         {
          "petalLength": 1.5,
          "petalWidth": 0.2,
          "sepalLength": 5.3,
          "sepalWidth": 3.7,
          "species": "setosa"
         },
         {
          "petalLength": 1.4,
          "petalWidth": 0.2,
          "sepalLength": 5,
          "sepalWidth": 3.3,
          "species": "setosa"
         },
         {
          "petalLength": 4.7,
          "petalWidth": 1.4,
          "sepalLength": 7,
          "sepalWidth": 3.2,
          "species": "versicolor"
         },
         {
          "petalLength": 4.5,
          "petalWidth": 1.5,
          "sepalLength": 6.4,
          "sepalWidth": 3.2,
          "species": "versicolor"
         },
         {
          "petalLength": 4.9,
          "petalWidth": 1.5,
          "sepalLength": 6.9,
          "sepalWidth": 3.1,
          "species": "versicolor"
         },
         {
          "petalLength": 4,
          "petalWidth": 1.3,
          "sepalLength": 5.5,
          "sepalWidth": 2.3,
          "species": "versicolor"
         },
         {
          "petalLength": 4.6,
          "petalWidth": 1.5,
          "sepalLength": 6.5,
          "sepalWidth": 2.8,
          "species": "versicolor"
         },
         {
          "petalLength": 4.5,
          "petalWidth": 1.3,
          "sepalLength": 5.7,
          "sepalWidth": 2.8,
          "species": "versicolor"
         },
         {
          "petalLength": 4.7,
          "petalWidth": 1.6,
          "sepalLength": 6.3,
          "sepalWidth": 3.3,
          "species": "versicolor"
         },
         {
          "petalLength": 3.3,
          "petalWidth": 1,
          "sepalLength": 4.9,
          "sepalWidth": 2.4,
          "species": "versicolor"
         },
         {
          "petalLength": 4.6,
          "petalWidth": 1.3,
          "sepalLength": 6.6,
          "sepalWidth": 2.9,
          "species": "versicolor"
         },
         {
          "petalLength": 3.9,
          "petalWidth": 1.4,
          "sepalLength": 5.2,
          "sepalWidth": 2.7,
          "species": "versicolor"
         },
         {
          "petalLength": 3.5,
          "petalWidth": 1,
          "sepalLength": 5,
          "sepalWidth": 2,
          "species": "versicolor"
         },
         {
          "petalLength": 4.2,
          "petalWidth": 1.5,
          "sepalLength": 5.9,
          "sepalWidth": 3,
          "species": "versicolor"
         },
         {
          "petalLength": 4,
          "petalWidth": 1,
          "sepalLength": 6,
          "sepalWidth": 2.2,
          "species": "versicolor"
         },
         {
          "petalLength": 4.7,
          "petalWidth": 1.4,
          "sepalLength": 6.1,
          "sepalWidth": 2.9,
          "species": "versicolor"
         },
         {
          "petalLength": 3.6,
          "petalWidth": 1.3,
          "sepalLength": 5.6,
          "sepalWidth": 2.9,
          "species": "versicolor"
         },
         {
          "petalLength": 4.4,
          "petalWidth": 1.4,
          "sepalLength": 6.7,
          "sepalWidth": 3.1,
          "species": "versicolor"
         },
         {
          "petalLength": 4.5,
          "petalWidth": 1.5,
          "sepalLength": 5.6,
          "sepalWidth": 3,
          "species": "versicolor"
         },
         {
          "petalLength": 4.1,
          "petalWidth": 1,
          "sepalLength": 5.8,
          "sepalWidth": 2.7,
          "species": "versicolor"
         },
         {
          "petalLength": 4.5,
          "petalWidth": 1.5,
          "sepalLength": 6.2,
          "sepalWidth": 2.2,
          "species": "versicolor"
         },
         {
          "petalLength": 3.9,
          "petalWidth": 1.1,
          "sepalLength": 5.6,
          "sepalWidth": 2.5,
          "species": "versicolor"
         },
         {
          "petalLength": 4.8,
          "petalWidth": 1.8,
          "sepalLength": 5.9,
          "sepalWidth": 3.2,
          "species": "versicolor"
         },
         {
          "petalLength": 4,
          "petalWidth": 1.3,
          "sepalLength": 6.1,
          "sepalWidth": 2.8,
          "species": "versicolor"
         },
         {
          "petalLength": 4.9,
          "petalWidth": 1.5,
          "sepalLength": 6.3,
          "sepalWidth": 2.5,
          "species": "versicolor"
         },
         {
          "petalLength": 4.7,
          "petalWidth": 1.2,
          "sepalLength": 6.1,
          "sepalWidth": 2.8,
          "species": "versicolor"
         },
         {
          "petalLength": 4.3,
          "petalWidth": 1.3,
          "sepalLength": 6.4,
          "sepalWidth": 2.9,
          "species": "versicolor"
         },
         {
          "petalLength": 4.4,
          "petalWidth": 1.4,
          "sepalLength": 6.6,
          "sepalWidth": 3,
          "species": "versicolor"
         },
         {
          "petalLength": 4.8,
          "petalWidth": 1.4,
          "sepalLength": 6.8,
          "sepalWidth": 2.8,
          "species": "versicolor"
         },
         {
          "petalLength": 5,
          "petalWidth": 1.7000000000000002,
          "sepalLength": 6.7,
          "sepalWidth": 3,
          "species": "versicolor"
         },
         {
          "petalLength": 4.5,
          "petalWidth": 1.5,
          "sepalLength": 6,
          "sepalWidth": 2.9,
          "species": "versicolor"
         },
         {
          "petalLength": 3.5,
          "petalWidth": 1,
          "sepalLength": 5.7,
          "sepalWidth": 2.6,
          "species": "versicolor"
         },
         {
          "petalLength": 3.8,
          "petalWidth": 1.1,
          "sepalLength": 5.5,
          "sepalWidth": 2.4,
          "species": "versicolor"
         },
         {
          "petalLength": 3.7,
          "petalWidth": 1,
          "sepalLength": 5.5,
          "sepalWidth": 2.4,
          "species": "versicolor"
         },
         {
          "petalLength": 3.9,
          "petalWidth": 1.2,
          "sepalLength": 5.8,
          "sepalWidth": 2.7,
          "species": "versicolor"
         },
         {
          "petalLength": 5.1,
          "petalWidth": 1.6,
          "sepalLength": 6,
          "sepalWidth": 2.7,
          "species": "versicolor"
         },
         {
          "petalLength": 4.5,
          "petalWidth": 1.5,
          "sepalLength": 5.4,
          "sepalWidth": 3,
          "species": "versicolor"
         },
         {
          "petalLength": 4.5,
          "petalWidth": 1.6,
          "sepalLength": 6,
          "sepalWidth": 3.4,
          "species": "versicolor"
         },
         {
          "petalLength": 4.7,
          "petalWidth": 1.5,
          "sepalLength": 6.7,
          "sepalWidth": 3.1,
          "species": "versicolor"
         },
         {
          "petalLength": 4.4,
          "petalWidth": 1.3,
          "sepalLength": 6.3,
          "sepalWidth": 2.3,
          "species": "versicolor"
         },
         {
          "petalLength": 4.1,
          "petalWidth": 1.3,
          "sepalLength": 5.6,
          "sepalWidth": 3,
          "species": "versicolor"
         },
         {
          "petalLength": 4,
          "petalWidth": 1.3,
          "sepalLength": 5.5,
          "sepalWidth": 2.5,
          "species": "versicolor"
         },
         {
          "petalLength": 4.4,
          "petalWidth": 1.2,
          "sepalLength": 5.5,
          "sepalWidth": 2.6,
          "species": "versicolor"
         },
         {
          "petalLength": 4.6,
          "petalWidth": 1.4,
          "sepalLength": 6.1,
          "sepalWidth": 3,
          "species": "versicolor"
         },
         {
          "petalLength": 4,
          "petalWidth": 1.2,
          "sepalLength": 5.8,
          "sepalWidth": 2.6,
          "species": "versicolor"
         },
         {
          "petalLength": 3.3,
          "petalWidth": 1,
          "sepalLength": 5,
          "sepalWidth": 2.3,
          "species": "versicolor"
         },
         {
          "petalLength": 4.2,
          "petalWidth": 1.3,
          "sepalLength": 5.6,
          "sepalWidth": 2.7,
          "species": "versicolor"
         },
         {
          "petalLength": 4.2,
          "petalWidth": 1.2,
          "sepalLength": 5.7,
          "sepalWidth": 3,
          "species": "versicolor"
         },
         {
          "petalLength": 4.2,
          "petalWidth": 1.3,
          "sepalLength": 5.7,
          "sepalWidth": 2.9,
          "species": "versicolor"
         },
         {
          "petalLength": 4.3,
          "petalWidth": 1.3,
          "sepalLength": 6.2,
          "sepalWidth": 2.9,
          "species": "versicolor"
         },
         {
          "petalLength": 3,
          "petalWidth": 1.1,
          "sepalLength": 5.1,
          "sepalWidth": 2.5,
          "species": "versicolor"
         },
         {
          "petalLength": 4.1,
          "petalWidth": 1.3,
          "sepalLength": 5.7,
          "sepalWidth": 2.8,
          "species": "versicolor"
         },
         {
          "petalLength": 6,
          "petalWidth": 2.5,
          "sepalLength": 6.3,
          "sepalWidth": 3.3,
          "species": "virginica"
         },
         {
          "petalLength": 5.1,
          "petalWidth": 1.9,
          "sepalLength": 5.8,
          "sepalWidth": 2.7,
          "species": "virginica"
         },
         {
          "petalLength": 5.9,
          "petalWidth": 2.1,
          "sepalLength": 7.1,
          "sepalWidth": 3,
          "species": "virginica"
         },
         {
          "petalLength": 5.6,
          "petalWidth": 1.8,
          "sepalLength": 6.3,
          "sepalWidth": 2.9,
          "species": "virginica"
         },
         {
          "petalLength": 5.8,
          "petalWidth": 2.2,
          "sepalLength": 6.5,
          "sepalWidth": 3,
          "species": "virginica"
         },
         {
          "petalLength": 6.6,
          "petalWidth": 2.1,
          "sepalLength": 7.6,
          "sepalWidth": 3,
          "species": "virginica"
         },
         {
          "petalLength": 4.5,
          "petalWidth": 1.7000000000000002,
          "sepalLength": 4.9,
          "sepalWidth": 2.5,
          "species": "virginica"
         },
         {
          "petalLength": 6.3,
          "petalWidth": 1.8,
          "sepalLength": 7.3,
          "sepalWidth": 2.9,
          "species": "virginica"
         },
         {
          "petalLength": 5.8,
          "petalWidth": 1.8,
          "sepalLength": 6.7,
          "sepalWidth": 2.5,
          "species": "virginica"
         },
         {
          "petalLength": 6.1,
          "petalWidth": 2.5,
          "sepalLength": 7.2,
          "sepalWidth": 3.6,
          "species": "virginica"
         },
         {
          "petalLength": 5.1,
          "petalWidth": 2,
          "sepalLength": 6.5,
          "sepalWidth": 3.2,
          "species": "virginica"
         },
         {
          "petalLength": 5.3,
          "petalWidth": 1.9,
          "sepalLength": 6.4,
          "sepalWidth": 2.7,
          "species": "virginica"
         },
         {
          "petalLength": 5.5,
          "petalWidth": 2.1,
          "sepalLength": 6.8,
          "sepalWidth": 3,
          "species": "virginica"
         },
         {
          "petalLength": 5,
          "petalWidth": 2,
          "sepalLength": 5.7,
          "sepalWidth": 2.5,
          "species": "virginica"
         },
         {
          "petalLength": 5.1,
          "petalWidth": 2.4,
          "sepalLength": 5.8,
          "sepalWidth": 2.8,
          "species": "virginica"
         },
         {
          "petalLength": 5.3,
          "petalWidth": 2.3,
          "sepalLength": 6.4,
          "sepalWidth": 3.2,
          "species": "virginica"
         },
         {
          "petalLength": 5.5,
          "petalWidth": 1.8,
          "sepalLength": 6.5,
          "sepalWidth": 3,
          "species": "virginica"
         },
         {
          "petalLength": 6.7,
          "petalWidth": 2.2,
          "sepalLength": 7.7,
          "sepalWidth": 3.8,
          "species": "virginica"
         },
         {
          "petalLength": 6.9,
          "petalWidth": 2.3,
          "sepalLength": 7.7,
          "sepalWidth": 2.6,
          "species": "virginica"
         },
         {
          "petalLength": 5,
          "petalWidth": 1.5,
          "sepalLength": 6,
          "sepalWidth": 2.2,
          "species": "virginica"
         },
         {
          "petalLength": 5.7,
          "petalWidth": 2.3,
          "sepalLength": 6.9,
          "sepalWidth": 3.2,
          "species": "virginica"
         },
         {
          "petalLength": 4.9,
          "petalWidth": 2,
          "sepalLength": 5.6,
          "sepalWidth": 2.8,
          "species": "virginica"
         },
         {
          "petalLength": 6.7,
          "petalWidth": 2,
          "sepalLength": 7.7,
          "sepalWidth": 2.8,
          "species": "virginica"
         },
         {
          "petalLength": 4.9,
          "petalWidth": 1.8,
          "sepalLength": 6.3,
          "sepalWidth": 2.7,
          "species": "virginica"
         },
         {
          "petalLength": 5.7,
          "petalWidth": 2.1,
          "sepalLength": 6.7,
          "sepalWidth": 3.3,
          "species": "virginica"
         },
         {
          "petalLength": 6,
          "petalWidth": 1.8,
          "sepalLength": 7.2,
          "sepalWidth": 3.2,
          "species": "virginica"
         },
         {
          "petalLength": 4.8,
          "petalWidth": 1.8,
          "sepalLength": 6.2,
          "sepalWidth": 2.8,
          "species": "virginica"
         },
         {
          "petalLength": 4.9,
          "petalWidth": 1.8,
          "sepalLength": 6.1,
          "sepalWidth": 3,
          "species": "virginica"
         },
         {
          "petalLength": 5.6,
          "petalWidth": 2.1,
          "sepalLength": 6.4,
          "sepalWidth": 2.8,
          "species": "virginica"
         },
         {
          "petalLength": 5.8,
          "petalWidth": 1.6,
          "sepalLength": 7.2,
          "sepalWidth": 3,
          "species": "virginica"
         },
         {
          "petalLength": 6.1,
          "petalWidth": 1.9,
          "sepalLength": 7.4,
          "sepalWidth": 2.8,
          "species": "virginica"
         },
         {
          "petalLength": 6.4,
          "petalWidth": 2,
          "sepalLength": 7.9,
          "sepalWidth": 3.8,
          "species": "virginica"
         },
         {
          "petalLength": 5.6,
          "petalWidth": 2.2,
          "sepalLength": 6.4,
          "sepalWidth": 2.8,
          "species": "virginica"
         },
         {
          "petalLength": 5.1,
          "petalWidth": 1.5,
          "sepalLength": 6.3,
          "sepalWidth": 2.8,
          "species": "virginica"
         },
         {
          "petalLength": 5.6,
          "petalWidth": 1.4,
          "sepalLength": 6.1,
          "sepalWidth": 2.6,
          "species": "virginica"
         },
         {
          "petalLength": 6.1,
          "petalWidth": 2.3,
          "sepalLength": 7.7,
          "sepalWidth": 3,
          "species": "virginica"
         },
         {
          "petalLength": 5.6,
          "petalWidth": 2.4,
          "sepalLength": 6.3,
          "sepalWidth": 3.4,
          "species": "virginica"
         },
         {
          "petalLength": 5.5,
          "petalWidth": 1.8,
          "sepalLength": 6.4,
          "sepalWidth": 3.1,
          "species": "virginica"
         },
         {
          "petalLength": 4.8,
          "petalWidth": 1.8,
          "sepalLength": 6,
          "sepalWidth": 3,
          "species": "virginica"
         },
         {
          "petalLength": 5.4,
          "petalWidth": 2.1,
          "sepalLength": 6.9,
          "sepalWidth": 3.1,
          "species": "virginica"
         },
         {
          "petalLength": 5.6,
          "petalWidth": 2.4,
          "sepalLength": 6.7,
          "sepalWidth": 3.1,
          "species": "virginica"
         },
         {
          "petalLength": 5.1,
          "petalWidth": 2.3,
          "sepalLength": 6.9,
          "sepalWidth": 3.1,
          "species": "virginica"
         },
         {
          "petalLength": 5.1,
          "petalWidth": 1.9,
          "sepalLength": 5.8,
          "sepalWidth": 2.7,
          "species": "virginica"
         },
         {
          "petalLength": 5.9,
          "petalWidth": 2.3,
          "sepalLength": 6.8,
          "sepalWidth": 3.2,
          "species": "virginica"
         },
         {
          "petalLength": 5.7,
          "petalWidth": 2.5,
          "sepalLength": 6.7,
          "sepalWidth": 3.3,
          "species": "virginica"
         },
         {
          "petalLength": 5.2,
          "petalWidth": 2.3,
          "sepalLength": 6.7,
          "sepalWidth": 3,
          "species": "virginica"
         },
         {
          "petalLength": 5,
          "petalWidth": 1.9,
          "sepalLength": 6.3,
          "sepalWidth": 2.5,
          "species": "virginica"
         },
         {
          "petalLength": 5.2,
          "petalWidth": 2,
          "sepalLength": 6.5,
          "sepalWidth": 3,
          "species": "virginica"
         },
         {
          "petalLength": 5.4,
          "petalWidth": 2.3,
          "sepalLength": 6.2,
          "sepalWidth": 3.4,
          "species": "virginica"
         },
         {
          "petalLength": 5.1,
          "petalWidth": 1.8,
          "sepalLength": 5.9,
          "sepalWidth": 3,
          "species": "virginica"
         }
        ]
       },
       "encoding": {
        "color": {
         "field": "species",
         "type": "nominal"
        },
        "x": {
         "field": "petalLength",
         "type": "quantitative"
        },
        "y": {
         "field": "petalWidth",
         "type": "quantitative"
        }
       },
       "mark": "point"
      },
      "image/png": "[encoded data removed]",
      "text/plain": [
       "<VegaLite 2 object>\n",
       "\n",
       "If you see this message, it means the renderer has not been properly enabled\n",
       "for the frontend that you are using. For more information, see\n",
       "https://altair-viz.github.io/user_guide/troubleshooting.html\n"
      ]
     },
     "execution_count": 25,
     "metadata": {},
     "output_type": "execute_result"
    }
   ],
   "source": [
    "iris = data.iris()\n",
    "\n",
    "alt.Chart(iris).mark_point().encode(\n",
    "    x='petalLength',\n",
    "    y='petalWidth',\n",
    "    color='species'\n",
    ")"
   ]
  },
  {
   "cell_type": "code",
   "execution_count": 26,
   "metadata": {},
   "outputs": [
    {
     "data": {
      "application/vnd.vegalite.v2+json": {
       "$schema": "https://vega.github.io/schema/vega-lite/v2.6.0.json",
       "config": {
        "view": {
         "height": 300,
         "width": 400
        }
       },
       "data": {
        "format": {
         "type": "json"
        },
        "url": "https://vega.github.io/vega-datasets/data/movies.json"
       },
       "encoding": {
        "x": {
         "bin": true,
         "field": "IMDB_Rating",
         "type": "quantitative"
        },
        "y": {
         "aggregate": "count",
         "type": "quantitative"
        }
       },
       "mark": "bar"
      },
      "image/png": "[encoded data removed]",
      "text/plain": [
       "<VegaLite 2 object>\n",
       "\n",
       "If you see this message, it means the renderer has not been properly enabled\n",
       "for the frontend that you are using. For more information, see\n",
       "https://altair-viz.github.io/user_guide/troubleshooting.html\n"
      ]
     },
     "execution_count": 26,
     "metadata": {},
     "output_type": "execute_result"
    }
   ],
   "source": [
    "source = data.movies.url\n",
    "\n",
    "alt.Chart(source).mark_bar().encode(\n",
    "    alt.X('IMDB_Rating:Q', bin=True),\n",
    "    y='count()'\n",
    ")"
   ]
  },
  {
   "cell_type": "code",
   "execution_count": 27,
   "metadata": {},
   "outputs": [
    {
     "data": {
      "application/vnd.vegalite.v2+json": {
       "$schema": "https://vega.github.io/schema/vega-lite/v2.6.0.json",
       "config": {
        "view": {
         "height": 300,
         "width": 400
        }
       },
       "data": {
        "name": "data-c4762b0d2655f0a437465623446ce69a"
       },
       "datasets": {
        "data-c4762b0d2655f0a437465623446ce69a": [
         {
          "f(x)": 0.8414709848078965,
          "x": 1
         },
         {
          "f(x)": 0.45464871341284085,
          "x": 2
         },
         {
          "f(x)": 0.0470400026866224,
          "x": 3
         },
         {
          "f(x)": -0.18920062382698205,
          "x": 4
         },
         {
          "f(x)": -0.1917848549326277,
          "x": 5
         },
         {
          "f(x)": -0.04656924969982098,
          "x": 6
         },
         {
          "f(x)": 0.09385522838839844,
          "x": 7
         },
         {
          "f(x)": 0.12366978082792272,
          "x": 8
         },
         {
          "f(x)": 0.04579094280463962,
          "x": 9
         },
         {
          "f(x)": -0.054402111088936986,
          "x": 10
         },
         {
          "f(x)": -0.0909082005955185,
          "x": 11
         },
         {
          "f(x)": -0.04471440983336958,
          "x": 12
         },
         {
          "f(x)": 0.03232054129435699,
          "x": 13
         },
         {
          "f(x)": 0.07075766826391931,
          "x": 14
         },
         {
          "f(x)": 0.04335252267714113,
          "x": 15
         },
         {
          "f(x)": -0.01799395729156658,
          "x": 16
         },
         {
          "f(x)": -0.05655279363997393,
          "x": 17
         },
         {
          "f(x)": -0.041721513709537555,
          "x": 18
         },
         {
          "f(x)": 0.007888274192786966,
          "x": 19
         },
         {
          "f(x)": 0.045647262536381385,
          "x": 20
         },
         {
          "f(x)": 0.03984074469219314,
          "x": 21
         },
         {
          "f(x)": -0.00040233224047290345,
          "x": 22
         },
         {
          "f(x)": -0.036792191485876986,
          "x": 23
         },
         {
          "f(x)": -0.037732431750276,
          "x": 24
         },
         {
          "f(x)": -0.005294070003910922,
          "x": 25
         },
         {
          "f(x)": 0.029329171172292414,
          "x": 26
         },
         {
          "f(x)": 0.03542133068164826,
          "x": 27
         },
         {
          "f(x)": 0.009675206725281037,
          "x": 28
         },
         {
          "f(x)": -0.022883927041826468,
          "x": 29
         },
         {
          "f(x)": -0.03293438746976206,
          "x": 30
         },
         {
          "f(x)": -0.013033472429776292,
          "x": 31
         },
         {
          "f(x)": 0.01723208378880283,
          "x": 32
         },
         {
          "f(x)": 0.030300359397189915,
          "x": 33
         },
         {
          "f(x)": 0.015561255474118348,
          "x": 34
         },
         {
          "f(x)": -0.012233790557032886,
          "x": 35
         },
         {
          "f(x)": -0.027549412595642104,
          "x": 36
         },
         {
          "f(x)": -0.017392922523162147,
          "x": 37
         },
         {
          "f(x)": 0.007799173123931193,
          "x": 38
         },
         {
          "f(x)": 0.024712702212412507,
          "x": 39
         },
         {
          "f(x)": 0.01862782901198372,
          "x": 40
         },
         {
          "f(x)": -0.003868845580602658,
          "x": 41
         },
         {
          "f(x)": -0.0218219416170389,
          "x": 42
         },
         {
          "f(x)": -0.019343598665781357,
          "x": 43
         },
         {
          "f(x)": 0.0004023164796684904,
          "x": 44
         },
         {
          "f(x)": 0.0189089672118693,
          "x": 45
         },
         {
          "f(x)": 0.01960409451410455,
          "x": 46
         },
         {
          "f(x)": 0.0026292153775579574,
          "x": 47
         },
         {
          "f(x)": -0.01600530544424306,
          "x": 48
         },
         {
          "f(x)": -0.01946433985223412,
          "x": 49
         },
         {
          "f(x)": -0.005247497074078575,
          "x": 50
         },
         {
          "f(x)": 0.013141748545948524,
          "x": 51
         },
         {
          "f(x)": 0.018973607539240104,
          "x": 52
         },
         {
          "f(x)": 0.007470285852487438,
          "x": 53
         },
         {
          "f(x)": -0.010347945349104003,
          "x": 54
         },
         {
          "f(x)": -0.018177366788338544,
          "x": 55
         },
         {
          "f(x)": -0.009313410751551997,
          "x": 56
         },
         {
          "f(x)": 0.007652013249961841,
          "x": 57
         },
         {
          "f(x)": 0.01711849393249202,
          "x": 58
         },
         {
          "f(x)": 0.01079216961252776,
          "x": 59
         },
         {
          "f(x)": -0.005080177018370278,
          "x": 60
         },
         {
          "f(x)": -0.015837996229645785,
          "x": 61
         },
         {
          "f(x)": -0.011922269300793919,
          "x": 62
         },
         {
          "f(x)": 0.002656439687346142,
          "x": 63
         },
         {
          "f(x)": 0.014375406846824855,
          "x": 64
         },
         {
          "f(x)": 0.012720441222924669,
          "x": 65
         },
         {
          "f(x)": -0.00040229021248434536,
          "x": 66
         },
         {
          "f(x)": -0.012768954910079436,
          "x": 67
         },
         {
          "f(x)": -0.013204818833666048,
          "x": 68
         },
         {
          "f(x)": -0.0016635480258432932,
          "x": 69
         },
         {
          "f(x)": 0.011055581165112701,
          "x": 70
         },
         {
          "f(x)": 0.01339513596132922,
          "x": 71
         },
         {
          "f(x)": 0.0035253244828060593,
          "x": 72
         },
         {
          "f(x)": -0.009270848724483666,
          "x": 73
         },
         {
          "f(x)": -0.013312787303624965,
          "x": 74
         },
         {
          "f(x)": -0.005170421805459072,
          "x": 75
         },
         {
          "f(x)": 0.007448784696028689,
          "x": 76
         },
         {
          "f(x)": 0.012980781280269237,
          "x": 77
         },
         {
          "f(x)": 0.00658946738445558,
          "x": 78
         },
         {
          "f(x)": -0.005621679350727954,
          "x": 79
         },
         {
          "f(x)": -0.01242360817404219,
          "x": 80
         },
         {
          "f(x)": -0.007776394991042642,
          "x": 81
         },
         {
          "f(x)": 0.0038198632004034774,
          "x": 82
         },
         {
          "f(x)": 0.011667041700002233,
          "x": 83
         },
         {
          "f(x)": 0.008728456191348715,
          "x": 84
         },
         {
          "f(x)": -0.0020714778817480834,
          "x": 85
         },
         {
          "f(x)": -0.010737888918651857,
          "x": 86
         },
         {
          "f(x)": -0.00944618203023934,
          "x": 87
         },
         {
          "f(x)": 0.0004022534401552351,
          "x": 88
         },
         {
          "f(x)": 0.009663701188903969,
          "x": 89
         },
         {
          "f(x)": 0.00993329626222842,
          "x": 90
         },
         {
          "f(x)": 0.001164697931331394,
          "x": 91
         },
         {
          "f(x)": -0.00847245727843266,
          "x": 92
         },
         {
          "f(x)": -0.010196582164192981,
          "x": 93
         },
         {
          "f(x)": -0.002609063675187812,
          "x": 94
         },
         {
          "f(x)": 0.007192228576169695,
          "x": 95
         },
         {
          "f(x)": 0.010245705681607759,
          "x": 96
         },
         {
          "f(x)": 0.003913481845644553,
          "x": 97
         },
         {
          "f(x)": -0.005850835428473703,
          "x": 98
         },
         {
          "f(x)": -0.010092998325114684,
          "x": 99
         }
        ]
       },
       "encoding": {
        "x": {
         "field": "x",
         "type": "quantitative"
        },
        "y": {
         "field": "f(x)",
         "type": "quantitative"
        }
       },
       "mark": "line"
      },
      "image/png": "[encoded data removed]",
      "text/plain": [
       "<VegaLite 2 object>\n",
       "\n",
       "If you see this message, it means the renderer has not been properly enabled\n",
       "for the frontend that you are using. For more information, see\n",
       "https://altair-viz.github.io/user_guide/troubleshooting.html\n"
      ]
     },
     "execution_count": 27,
     "metadata": {},
     "output_type": "execute_result"
    }
   ],
   "source": [
    "x = np.arange(1, 100)\n",
    "\n",
    "source = pd.DataFrame(\n",
    "    {\n",
    "        'x': x,\n",
    "        'f(x)': np.sin(x)/x,\n",
    "    }\n",
    ")\n",
    "alt.Chart(source).mark_line().encode(\n",
    "    x='x',\n",
    "    y='f(x)'\n",
    ")"
   ]
  },
  {
   "cell_type": "code",
   "execution_count": 28,
   "metadata": {},
   "outputs": [
    {
     "data": {
      "application/vnd.vegalite.v2+json": {
       "$schema": "https://vega.github.io/schema/vega-lite/v2.6.0.json",
       "config": {
        "view": {
         "height": 300,
         "width": 400
        }
       },
       "data": {
        "name": "data-f02450ab61490a1363517a0190416235"
       },
       "datasets": {
        "data-f02450ab61490a1363517a0190416235": [
         {
          "Acceleration": 12,
          "Cylinders": 8,
          "Displacement": 307,
          "Horsepower": 130,
          "Miles_per_Gallon": 18,
          "Name": "chevrolet chevelle malibu",
          "Origin": "USA",
          "Weight_in_lbs": 3504,
          "Year": "1970-01-01T00:00:00"
         },
         {
          "Acceleration": 11.5,
          "Cylinders": 8,
          "Displacement": 350,
          "Horsepower": 165,
          "Miles_per_Gallon": 15,
          "Name": "buick skylark 320",
          "Origin": "USA",
          "Weight_in_lbs": 3693,
          "Year": "1970-01-01T00:00:00"
         },
         {
          "Acceleration": 11,
          "Cylinders": 8,
          "Displacement": 318,
          "Horsepower": 150,
          "Miles_per_Gallon": 18,
          "Name": "plymouth satellite",
          "Origin": "USA",
          "Weight_in_lbs": 3436,
          "Year": "1970-01-01T00:00:00"
         },
         {
          "Acceleration": 12,
          "Cylinders": 8,
          "Displacement": 304,
          "Horsepower": 150,
          "Miles_per_Gallon": 16,
          "Name": "amc rebel sst",
          "Origin": "USA",
          "Weight_in_lbs": 3433,
          "Year": "1970-01-01T00:00:00"
         },
         {
          "Acceleration": 10.5,
          "Cylinders": 8,
          "Displacement": 302,
          "Horsepower": 140,
          "Miles_per_Gallon": 17,
          "Name": "ford torino",
          "Origin": "USA",
          "Weight_in_lbs": 3449,
          "Year": "1970-01-01T00:00:00"
         },
         {
          "Acceleration": 10,
          "Cylinders": 8,
          "Displacement": 429,
          "Horsepower": 198,
          "Miles_per_Gallon": 15,
          "Name": "ford galaxie 500",
          "Origin": "USA",
          "Weight_in_lbs": 4341,
          "Year": "1970-01-01T00:00:00"
         },
         {
          "Acceleration": 9,
          "Cylinders": 8,
          "Displacement": 454,
          "Horsepower": 220,
          "Miles_per_Gallon": 14,
          "Name": "chevrolet impala",
          "Origin": "USA",
          "Weight_in_lbs": 4354,
          "Year": "1970-01-01T00:00:00"
         },
         {
          "Acceleration": 8.5,
          "Cylinders": 8,
          "Displacement": 440,
          "Horsepower": 215,
          "Miles_per_Gallon": 14,
          "Name": "plymouth fury iii",
          "Origin": "USA",
          "Weight_in_lbs": 4312,
          "Year": "1970-01-01T00:00:00"
         },
         {
          "Acceleration": 10,
          "Cylinders": 8,
          "Displacement": 455,
          "Horsepower": 225,
          "Miles_per_Gallon": 14,
          "Name": "pontiac catalina",
          "Origin": "USA",
          "Weight_in_lbs": 4425,
          "Year": "1970-01-01T00:00:00"
         },
         {
          "Acceleration": 8.5,
          "Cylinders": 8,
          "Displacement": 390,
          "Horsepower": 190,
          "Miles_per_Gallon": 15,
          "Name": "amc ambassador dpl",
          "Origin": "USA",
          "Weight_in_lbs": 3850,
          "Year": "1970-01-01T00:00:00"
         },
         {
          "Acceleration": 17.5,
          "Cylinders": 4,
          "Displacement": 133,
          "Horsepower": 115,
          "Miles_per_Gallon": null,
          "Name": "citroen ds-21 pallas",
          "Origin": "Europe",
          "Weight_in_lbs": 3090,
          "Year": "1970-01-01T00:00:00"
         },
         {
          "Acceleration": 11.5,
          "Cylinders": 8,
          "Displacement": 350,
          "Horsepower": 165,
          "Miles_per_Gallon": null,
          "Name": "chevrolet chevelle concours (sw)",
          "Origin": "USA",
          "Weight_in_lbs": 4142,
          "Year": "1970-01-01T00:00:00"
         },
         {
          "Acceleration": 11,
          "Cylinders": 8,
          "Displacement": 351,
          "Horsepower": 153,
          "Miles_per_Gallon": null,
          "Name": "ford torino (sw)",
          "Origin": "USA",
          "Weight_in_lbs": 4034,
          "Year": "1970-01-01T00:00:00"
         },
         {
          "Acceleration": 10.5,
          "Cylinders": 8,
          "Displacement": 383,
          "Horsepower": 175,
          "Miles_per_Gallon": null,
          "Name": "plymouth satellite (sw)",
          "Origin": "USA",
          "Weight_in_lbs": 4166,
          "Year": "1970-01-01T00:00:00"
         },
         {
          "Acceleration": 11,
          "Cylinders": 8,
          "Displacement": 360,
          "Horsepower": 175,
          "Miles_per_Gallon": null,
          "Name": "amc rebel sst (sw)",
          "Origin": "USA",
          "Weight_in_lbs": 3850,
          "Year": "1970-01-01T00:00:00"
         },
         {
          "Acceleration": 10,
          "Cylinders": 8,
          "Displacement": 383,
          "Horsepower": 170,
          "Miles_per_Gallon": 15,
          "Name": "dodge challenger se",
          "Origin": "USA",
          "Weight_in_lbs": 3563,
          "Year": "1970-01-01T00:00:00"
         },
         {
          "Acceleration": 8,
          "Cylinders": 8,
          "Displacement": 340,
          "Horsepower": 160,
          "Miles_per_Gallon": 14,
          "Name": "plymouth 'cuda 340",
          "Origin": "USA",
          "Weight_in_lbs": 3609,
          "Year": "1970-01-01T00:00:00"
         },
         {
          "Acceleration": 8,
          "Cylinders": 8,
          "Displacement": 302,
          "Horsepower": 140,
          "Miles_per_Gallon": null,
          "Name": "ford mustang boss 302",
          "Origin": "USA",
          "Weight_in_lbs": 3353,
          "Year": "1970-01-01T00:00:00"
         },
         {
          "Acceleration": 9.5,
          "Cylinders": 8,
          "Displacement": 400,
          "Horsepower": 150,
          "Miles_per_Gallon": 15,
          "Name": "chevrolet monte carlo",
          "Origin": "USA",
          "Weight_in_lbs": 3761,
          "Year": "1970-01-01T00:00:00"
         },
         {
          "Acceleration": 10,
          "Cylinders": 8,
          "Displacement": 455,
          "Horsepower": 225,
          "Miles_per_Gallon": 14,
          "Name": "buick estate wagon (sw)",
          "Origin": "USA",
          "Weight_in_lbs": 3086,
          "Year": "1970-01-01T00:00:00"
         },
         {
          "Acceleration": 15,
          "Cylinders": 4,
          "Displacement": 113,
          "Horsepower": 95,
          "Miles_per_Gallon": 24,
          "Name": "toyota corona mark ii",
          "Origin": "Japan",
          "Weight_in_lbs": 2372,
          "Year": "1970-01-01T00:00:00"
         },
         {
          "Acceleration": 15.5,
          "Cylinders": 6,
          "Displacement": 198,
          "Horsepower": 95,
          "Miles_per_Gallon": 22,
          "Name": "plymouth duster",
          "Origin": "USA",
          "Weight_in_lbs": 2833,
          "Year": "1970-01-01T00:00:00"
         },
         {
          "Acceleration": 15.5,
          "Cylinders": 6,
          "Displacement": 199,
          "Horsepower": 97,
          "Miles_per_Gallon": 18,
          "Name": "amc hornet",
          "Origin": "USA",
          "Weight_in_lbs": 2774,
          "Year": "1970-01-01T00:00:00"
         },
         {
          "Acceleration": 16,
          "Cylinders": 6,
          "Displacement": 200,
          "Horsepower": 85,
          "Miles_per_Gallon": 21,
          "Name": "ford maverick",
          "Origin": "USA",
          "Weight_in_lbs": 2587,
          "Year": "1970-01-01T00:00:00"
         },
         {
          "Acceleration": 14.5,
          "Cylinders": 4,
          "Displacement": 97,
          "Horsepower": 88,
          "Miles_per_Gallon": 27,
          "Name": "datsun pl510",
          "Origin": "Japan",
          "Weight_in_lbs": 2130,
          "Year": "1970-01-01T00:00:00"
         },
         {
          "Acceleration": 20.5,
          "Cylinders": 4,
          "Displacement": 97,
          "Horsepower": 46,
          "Miles_per_Gallon": 26,
          "Name": "volkswagen 1131 deluxe sedan",
          "Origin": "Europe",
          "Weight_in_lbs": 1835,
          "Year": "1970-01-01T00:00:00"
         },
         {
          "Acceleration": 17.5,
          "Cylinders": 4,
          "Displacement": 110,
          "Horsepower": 87,
          "Miles_per_Gallon": 25,
          "Name": "peugeot 504",
          "Origin": "Europe",
          "Weight_in_lbs": 2672,
          "Year": "1970-01-01T00:00:00"
         },
         {
          "Acceleration": 14.5,
          "Cylinders": 4,
          "Displacement": 107,
          "Horsepower": 90,
          "Miles_per_Gallon": 24,
          "Name": "audi 100 ls",
          "Origin": "Europe",
          "Weight_in_lbs": 2430,
          "Year": "1970-01-01T00:00:00"
         },
         {
          "Acceleration": 17.5,
          "Cylinders": 4,
          "Displacement": 104,
          "Horsepower": 95,
          "Miles_per_Gallon": 25,
          "Name": "saab 99e",
          "Origin": "Europe",
          "Weight_in_lbs": 2375,
          "Year": "1970-01-01T00:00:00"
         },
         {
          "Acceleration": 12.5,
          "Cylinders": 4,
          "Displacement": 121,
          "Horsepower": 113,
          "Miles_per_Gallon": 26,
          "Name": "bmw 2002",
          "Origin": "Europe",
          "Weight_in_lbs": 2234,
          "Year": "1970-01-01T00:00:00"
         },
         {
          "Acceleration": 15,
          "Cylinders": 6,
          "Displacement": 199,
          "Horsepower": 90,
          "Miles_per_Gallon": 21,
          "Name": "amc gremlin",
          "Origin": "USA",
          "Weight_in_lbs": 2648,
          "Year": "1970-01-01T00:00:00"
         },
         {
          "Acceleration": 14,
          "Cylinders": 8,
          "Displacement": 360,
          "Horsepower": 215,
          "Miles_per_Gallon": 10,
          "Name": "ford f250",
          "Origin": "USA",
          "Weight_in_lbs": 4615,
          "Year": "1970-01-01T00:00:00"
         },
         {
          "Acceleration": 15,
          "Cylinders": 8,
          "Displacement": 307,
          "Horsepower": 200,
          "Miles_per_Gallon": 10,
          "Name": "chevy c20",
          "Origin": "USA",
          "Weight_in_lbs": 4376,
          "Year": "1970-01-01T00:00:00"
         },
         {
          "Acceleration": 13.5,
          "Cylinders": 8,
          "Displacement": 318,
          "Horsepower": 210,
          "Miles_per_Gallon": 11,
          "Name": "dodge d200",
          "Origin": "USA",
          "Weight_in_lbs": 4382,
          "Year": "1970-01-01T00:00:00"
         },
         {
          "Acceleration": 18.5,
          "Cylinders": 8,
          "Displacement": 304,
          "Horsepower": 193,
          "Miles_per_Gallon": 9,
          "Name": "hi 1200d",
          "Origin": "USA",
          "Weight_in_lbs": 4732,
          "Year": "1970-01-01T00:00:00"
         },
         {
          "Acceleration": 14.5,
          "Cylinders": 4,
          "Displacement": 97,
          "Horsepower": 88,
          "Miles_per_Gallon": 27,
          "Name": "datsun pl510",
          "Origin": "Japan",
          "Weight_in_lbs": 2130,
          "Year": "1971-01-01T00:00:00"
         },
         {
          "Acceleration": 15.5,
          "Cylinders": 4,
          "Displacement": 140,
          "Horsepower": 90,
          "Miles_per_Gallon": 28,
          "Name": "chevrolet vega 2300",
          "Origin": "USA",
          "Weight_in_lbs": 2264,
          "Year": "1971-01-01T00:00:00"
         },
         {
          "Acceleration": 14,
          "Cylinders": 4,
          "Displacement": 113,
          "Horsepower": 95,
          "Miles_per_Gallon": 25,
          "Name": "toyota corona",
          "Origin": "Japan",
          "Weight_in_lbs": 2228,
          "Year": "1971-01-01T00:00:00"
         },
         {
          "Acceleration": 19,
          "Cylinders": 4,
          "Displacement": 98,
          "Horsepower": null,
          "Miles_per_Gallon": 25,
          "Name": "ford pinto",
          "Origin": "USA",
          "Weight_in_lbs": 2046,
          "Year": "1971-01-01T00:00:00"
         },
         {
          "Acceleration": 20,
          "Cylinders": 4,
          "Displacement": 97,
          "Horsepower": 48,
          "Miles_per_Gallon": null,
          "Name": "volkswagen super beetle 117",
          "Origin": "Europe",
          "Weight_in_lbs": 1978,
          "Year": "1971-01-01T00:00:00"
         },
         {
          "Acceleration": 13,
          "Cylinders": 6,
          "Displacement": 232,
          "Horsepower": 100,
          "Miles_per_Gallon": 19,
          "Name": "amc gremlin",
          "Origin": "USA",
          "Weight_in_lbs": 2634,
          "Year": "1971-01-01T00:00:00"
         },
         {
          "Acceleration": 15.5,
          "Cylinders": 6,
          "Displacement": 225,
          "Horsepower": 105,
          "Miles_per_Gallon": 16,
          "Name": "plymouth satellite custom",
          "Origin": "USA",
          "Weight_in_lbs": 3439,
          "Year": "1971-01-01T00:00:00"
         },
         {
          "Acceleration": 15.5,
          "Cylinders": 6,
          "Displacement": 250,
          "Horsepower": 100,
          "Miles_per_Gallon": 17,
          "Name": "chevrolet chevelle malibu",
          "Origin": "USA",
          "Weight_in_lbs": 3329,
          "Year": "1971-01-01T00:00:00"
         },
         {
          "Acceleration": 15.5,
          "Cylinders": 6,
          "Displacement": 250,
          "Horsepower": 88,
          "Miles_per_Gallon": 19,
          "Name": "ford torino 500",
          "Origin": "USA",
          "Weight_in_lbs": 3302,
          "Year": "1971-01-01T00:00:00"
         },
         {
          "Acceleration": 15.5,
          "Cylinders": 6,
          "Displacement": 232,
          "Horsepower": 100,
          "Miles_per_Gallon": 18,
          "Name": "amc matador",
          "Origin": "USA",
          "Weight_in_lbs": 3288,
          "Year": "1971-01-01T00:00:00"
         },
         {
          "Acceleration": 12,
          "Cylinders": 8,
          "Displacement": 350,
          "Horsepower": 165,
          "Miles_per_Gallon": 14,
          "Name": "chevrolet impala",
          "Origin": "USA",
          "Weight_in_lbs": 4209,
          "Year": "1971-01-01T00:00:00"
         },
         {
          "Acceleration": 11.5,
          "Cylinders": 8,
          "Displacement": 400,
          "Horsepower": 175,
          "Miles_per_Gallon": 14,
          "Name": "pontiac catalina brougham",
          "Origin": "USA",
          "Weight_in_lbs": 4464,
          "Year": "1971-01-01T00:00:00"
         },
         {
          "Acceleration": 13.5,
          "Cylinders": 8,
          "Displacement": 351,
          "Horsepower": 153,
          "Miles_per_Gallon": 14,
          "Name": "ford galaxie 500",
          "Origin": "USA",
          "Weight_in_lbs": 4154,
          "Year": "1971-01-01T00:00:00"
         },
         {
          "Acceleration": 13,
          "Cylinders": 8,
          "Displacement": 318,
          "Horsepower": 150,
          "Miles_per_Gallon": 14,
          "Name": "plymouth fury iii",
          "Origin": "USA",
          "Weight_in_lbs": 4096,
          "Year": "1971-01-01T00:00:00"
         },
         {
          "Acceleration": 11.5,
          "Cylinders": 8,
          "Displacement": 383,
          "Horsepower": 180,
          "Miles_per_Gallon": 12,
          "Name": "dodge monaco (sw)",
          "Origin": "USA",
          "Weight_in_lbs": 4955,
          "Year": "1971-01-01T00:00:00"
         },
         {
          "Acceleration": 12,
          "Cylinders": 8,
          "Displacement": 400,
          "Horsepower": 170,
          "Miles_per_Gallon": 13,
          "Name": "ford country squire (sw)",
          "Origin": "USA",
          "Weight_in_lbs": 4746,
          "Year": "1971-01-01T00:00:00"
         },
         {
          "Acceleration": 12,
          "Cylinders": 8,
          "Displacement": 400,
          "Horsepower": 175,
          "Miles_per_Gallon": 13,
          "Name": "pontiac safari (sw)",
          "Origin": "USA",
          "Weight_in_lbs": 5140,
          "Year": "1971-01-01T00:00:00"
         },
         {
          "Acceleration": 13.5,
          "Cylinders": 6,
          "Displacement": 258,
          "Horsepower": 110,
          "Miles_per_Gallon": 18,
          "Name": "amc hornet sportabout (sw)",
          "Origin": "USA",
          "Weight_in_lbs": 2962,
          "Year": "1971-01-01T00:00:00"
         },
         {
          "Acceleration": 19,
          "Cylinders": 4,
          "Displacement": 140,
          "Horsepower": 72,
          "Miles_per_Gallon": 22,
          "Name": "chevrolet vega (sw)",
          "Origin": "USA",
          "Weight_in_lbs": 2408,
          "Year": "1971-01-01T00:00:00"
         },
         {
          "Acceleration": 15,
          "Cylinders": 6,
          "Displacement": 250,
          "Horsepower": 100,
          "Miles_per_Gallon": 19,
          "Name": "pontiac firebird",
          "Origin": "USA",
          "Weight_in_lbs": 3282,
          "Year": "1971-01-01T00:00:00"
         },
         {
          "Acceleration": 14.5,
          "Cylinders": 6,
          "Displacement": 250,
          "Horsepower": 88,
          "Miles_per_Gallon": 18,
          "Name": "ford mustang",
          "Origin": "USA",
          "Weight_in_lbs": 3139,
          "Year": "1971-01-01T00:00:00"
         },
         {
          "Acceleration": 14,
          "Cylinders": 4,
          "Displacement": 122,
          "Horsepower": 86,
          "Miles_per_Gallon": 23,
          "Name": "mercury capri 2000",
          "Origin": "USA",
          "Weight_in_lbs": 2220,
          "Year": "1971-01-01T00:00:00"
         },
         {
          "Acceleration": 14,
          "Cylinders": 4,
          "Displacement": 116,
          "Horsepower": 90,
          "Miles_per_Gallon": 28,
          "Name": "opel 1900",
          "Origin": "Europe",
          "Weight_in_lbs": 2123,
          "Year": "1971-01-01T00:00:00"
         },
         {
          "Acceleration": 19.5,
          "Cylinders": 4,
          "Displacement": 79,
          "Horsepower": 70,
          "Miles_per_Gallon": 30,
          "Name": "peugeot 304",
          "Origin": "Europe",
          "Weight_in_lbs": 2074,
          "Year": "1971-01-01T00:00:00"
         },
         {
          "Acceleration": 14.5,
          "Cylinders": 4,
          "Displacement": 88,
          "Horsepower": 76,
          "Miles_per_Gallon": 30,
          "Name": "fiat 124b",
          "Origin": "Europe",
          "Weight_in_lbs": 2065,
          "Year": "1971-01-01T00:00:00"
         },
         {
          "Acceleration": 19,
          "Cylinders": 4,
          "Displacement": 71,
          "Horsepower": 65,
          "Miles_per_Gallon": 31,
          "Name": "toyota corolla 1200",
          "Origin": "Japan",
          "Weight_in_lbs": 1773,
          "Year": "1971-01-01T00:00:00"
         },
         {
          "Acceleration": 18,
          "Cylinders": 4,
          "Displacement": 72,
          "Horsepower": 69,
          "Miles_per_Gallon": 35,
          "Name": "datsun 1200",
          "Origin": "Japan",
          "Weight_in_lbs": 1613,
          "Year": "1971-01-01T00:00:00"
         },
         {
          "Acceleration": 19,
          "Cylinders": 4,
          "Displacement": 97,
          "Horsepower": 60,
          "Miles_per_Gallon": 27,
          "Name": "volkswagen model 111",
          "Origin": "Europe",
          "Weight_in_lbs": 1834,
          "Year": "1971-01-01T00:00:00"
         },
         {
          "Acceleration": 20.5,
          "Cylinders": 4,
          "Displacement": 91,
          "Horsepower": 70,
          "Miles_per_Gallon": 26,
          "Name": "plymouth cricket",
          "Origin": "USA",
          "Weight_in_lbs": 1955,
          "Year": "1971-01-01T00:00:00"
         },
         {
          "Acceleration": 15.5,
          "Cylinders": 4,
          "Displacement": 113,
          "Horsepower": 95,
          "Miles_per_Gallon": 24,
          "Name": "toyota corona hardtop",
          "Origin": "Japan",
          "Weight_in_lbs": 2278,
          "Year": "1972-01-01T00:00:00"
         },
         {
          "Acceleration": 17,
          "Cylinders": 4,
          "Displacement": 97.5,
          "Horsepower": 80,
          "Miles_per_Gallon": 25,
          "Name": "dodge colt hardtop",
          "Origin": "USA",
          "Weight_in_lbs": 2126,
          "Year": "1972-01-01T00:00:00"
         },
         {
          "Acceleration": 23.5,
          "Cylinders": 4,
          "Displacement": 97,
          "Horsepower": 54,
          "Miles_per_Gallon": 23,
          "Name": "volkswagen type 3",
          "Origin": "Europe",
          "Weight_in_lbs": 2254,
          "Year": "1972-01-01T00:00:00"
         },
         {
          "Acceleration": 19.5,
          "Cylinders": 4,
          "Displacement": 140,
          "Horsepower": 90,
          "Miles_per_Gallon": 20,
          "Name": "chevrolet vega",
          "Origin": "USA",
          "Weight_in_lbs": 2408,
          "Year": "1972-01-01T00:00:00"
         },
         {
          "Acceleration": 16.5,
          "Cylinders": 4,
          "Displacement": 122,
          "Horsepower": 86,
          "Miles_per_Gallon": 21,
          "Name": "ford pinto runabout",
          "Origin": "USA",
          "Weight_in_lbs": 2226,
          "Year": "1972-01-01T00:00:00"
         },
         {
          "Acceleration": 12,
          "Cylinders": 8,
          "Displacement": 350,
          "Horsepower": 165,
          "Miles_per_Gallon": 13,
          "Name": "chevrolet impala",
          "Origin": "USA",
          "Weight_in_lbs": 4274,
          "Year": "1972-01-01T00:00:00"
         },
         {
          "Acceleration": 12,
          "Cylinders": 8,
          "Displacement": 400,
          "Horsepower": 175,
          "Miles_per_Gallon": 14,
          "Name": "pontiac catalina",
          "Origin": "USA",
          "Weight_in_lbs": 4385,
          "Year": "1972-01-01T00:00:00"
         },
         {
          "Acceleration": 13.5,
          "Cylinders": 8,
          "Displacement": 318,
          "Horsepower": 150,
          "Miles_per_Gallon": 15,
          "Name": "plymouth fury iii",
          "Origin": "USA",
          "Weight_in_lbs": 4135,
          "Year": "1972-01-01T00:00:00"
         },
         {
          "Acceleration": 13,
          "Cylinders": 8,
          "Displacement": 351,
          "Horsepower": 153,
          "Miles_per_Gallon": 14,
          "Name": "ford galaxie 500",
          "Origin": "USA",
          "Weight_in_lbs": 4129,
          "Year": "1972-01-01T00:00:00"
         },
         {
          "Acceleration": 11.5,
          "Cylinders": 8,
          "Displacement": 304,
          "Horsepower": 150,
          "Miles_per_Gallon": 17,
          "Name": "amc ambassador sst",
          "Origin": "USA",
          "Weight_in_lbs": 3672,
          "Year": "1972-01-01T00:00:00"
         },
         {
          "Acceleration": 11,
          "Cylinders": 8,
          "Displacement": 429,
          "Horsepower": 208,
          "Miles_per_Gallon": 11,
          "Name": "mercury marquis",
          "Origin": "USA",
          "Weight_in_lbs": 4633,
          "Year": "1972-01-01T00:00:00"
         },
         {
          "Acceleration": 13.5,
          "Cylinders": 8,
          "Displacement": 350,
          "Horsepower": 155,
          "Miles_per_Gallon": 13,
          "Name": "buick lesabre custom",
          "Origin": "USA",
          "Weight_in_lbs": 4502,
          "Year": "1972-01-01T00:00:00"
         },
         {
          "Acceleration": 13.5,
          "Cylinders": 8,
          "Displacement": 350,
          "Horsepower": 160,
          "Miles_per_Gallon": 12,
          "Name": "oldsmobile delta 88 royale",
          "Origin": "USA",
          "Weight_in_lbs": 4456,
          "Year": "1972-01-01T00:00:00"
         },
         {
          "Acceleration": 12.5,
          "Cylinders": 8,
          "Displacement": 400,
          "Horsepower": 190,
          "Miles_per_Gallon": 13,
          "Name": "chrysler newport royal",
          "Origin": "USA",
          "Weight_in_lbs": 4422,
          "Year": "1972-01-01T00:00:00"
         },
         {
          "Acceleration": 13.5,
          "Cylinders": 3,
          "Displacement": 70,
          "Horsepower": 97,
          "Miles_per_Gallon": 19,
          "Name": "mazda rx2 coupe",
          "Origin": "Japan",
          "Weight_in_lbs": 2330,
          "Year": "1972-01-01T00:00:00"
         },
         {
          "Acceleration": 12.5,
          "Cylinders": 8,
          "Displacement": 304,
          "Horsepower": 150,
          "Miles_per_Gallon": 15,
          "Name": "amc matador (sw)",
          "Origin": "USA",
          "Weight_in_lbs": 3892,
          "Year": "1972-01-01T00:00:00"
         },
         {
          "Acceleration": 14,
          "Cylinders": 8,
          "Displacement": 307,
          "Horsepower": 130,
          "Miles_per_Gallon": 13,
          "Name": "chevrolet chevelle concours (sw)",
          "Origin": "USA",
          "Weight_in_lbs": 4098,
          "Year": "1972-01-01T00:00:00"
         },
         {
          "Acceleration": 16,
          "Cylinders": 8,
          "Displacement": 302,
          "Horsepower": 140,
          "Miles_per_Gallon": 13,
          "Name": "ford gran torino (sw)",
          "Origin": "USA",
          "Weight_in_lbs": 4294,
          "Year": "1972-01-01T00:00:00"
         },
         {
          "Acceleration": 14,
          "Cylinders": 8,
          "Displacement": 318,
          "Horsepower": 150,
          "Miles_per_Gallon": 14,
          "Name": "plymouth satellite custom (sw)",
          "Origin": "USA",
          "Weight_in_lbs": 4077,
          "Year": "1972-01-01T00:00:00"
         },
         {
          "Acceleration": 14.5,
          "Cylinders": 4,
          "Displacement": 121,
          "Horsepower": 112,
          "Miles_per_Gallon": 18,
          "Name": "volvo 145e (sw)",
          "Origin": "Europe",
          "Weight_in_lbs": 2933,
          "Year": "1972-01-01T00:00:00"
         },
         {
          "Acceleration": 18,
          "Cylinders": 4,
          "Displacement": 121,
          "Horsepower": 76,
          "Miles_per_Gallon": 22,
          "Name": "volkswagen 411 (sw)",
          "Origin": "Europe",
          "Weight_in_lbs": 2511,
          "Year": "1972-01-01T00:00:00"
         },
         {
          "Acceleration": 19.5,
          "Cylinders": 4,
          "Displacement": 120,
          "Horsepower": 87,
          "Miles_per_Gallon": 21,
          "Name": "peugeot 504 (sw)",
          "Origin": "Europe",
          "Weight_in_lbs": 2979,
          "Year": "1972-01-01T00:00:00"
         },
         {
          "Acceleration": 18,
          "Cylinders": 4,
          "Displacement": 96,
          "Horsepower": 69,
          "Miles_per_Gallon": 26,
          "Name": "renault 12 (sw)",
          "Origin": "Europe",
          "Weight_in_lbs": 2189,
          "Year": "1972-01-01T00:00:00"
         },
         {
          "Acceleration": 16,
          "Cylinders": 4,
          "Displacement": 122,
          "Horsepower": 86,
          "Miles_per_Gallon": 22,
          "Name": "ford pinto (sw)",
          "Origin": "USA",
          "Weight_in_lbs": 2395,
          "Year": "1972-01-01T00:00:00"
         },
         {
          "Acceleration": 17,
          "Cylinders": 4,
          "Displacement": 97,
          "Horsepower": 92,
          "Miles_per_Gallon": 28,
          "Name": "datsun 510 (sw)",
          "Origin": "Japan",
          "Weight_in_lbs": 2288,
          "Year": "1972-01-01T00:00:00"
         },
         {
          "Acceleration": 14.5,
          "Cylinders": 4,
          "Displacement": 120,
          "Horsepower": 97,
          "Miles_per_Gallon": 23,
          "Name": "toyouta corona mark ii (sw)",
          "Origin": "Japan",
          "Weight_in_lbs": 2506,
          "Year": "1972-01-01T00:00:00"
         },
         {
          "Acceleration": 15,
          "Cylinders": 4,
          "Displacement": 98,
          "Horsepower": 80,
          "Miles_per_Gallon": 28,
          "Name": "dodge colt (sw)",
          "Origin": "USA",
          "Weight_in_lbs": 2164,
          "Year": "1972-01-01T00:00:00"
         },
         {
          "Acceleration": 16.5,
          "Cylinders": 4,
          "Displacement": 97,
          "Horsepower": 88,
          "Miles_per_Gallon": 27,
          "Name": "toyota corolla 1600 (sw)",
          "Origin": "Japan",
          "Weight_in_lbs": 2100,
          "Year": "1972-01-01T00:00:00"
         },
         {
          "Acceleration": 13,
          "Cylinders": 8,
          "Displacement": 350,
          "Horsepower": 175,
          "Miles_per_Gallon": 13,
          "Name": "buick century 350",
          "Origin": "USA",
          "Weight_in_lbs": 4100,
          "Year": "1973-01-01T00:00:00"
         },
         {
          "Acceleration": 11.5,
          "Cylinders": 8,
          "Displacement": 304,
          "Horsepower": 150,
          "Miles_per_Gallon": 14,
          "Name": "amc matador",
          "Origin": "USA",
          "Weight_in_lbs": 3672,
          "Year": "1973-01-01T00:00:00"
         },
         {
          "Acceleration": 13,
          "Cylinders": 8,
          "Displacement": 350,
          "Horsepower": 145,
          "Miles_per_Gallon": 13,
          "Name": "chevrolet malibu",
          "Origin": "USA",
          "Weight_in_lbs": 3988,
          "Year": "1973-01-01T00:00:00"
         },
         {
          "Acceleration": 14.5,
          "Cylinders": 8,
          "Displacement": 302,
          "Horsepower": 137,
          "Miles_per_Gallon": 14,
          "Name": "ford gran torino",
          "Origin": "USA",
          "Weight_in_lbs": 4042,
          "Year": "1973-01-01T00:00:00"
         },
         {
          "Acceleration": 12.5,
          "Cylinders": 8,
          "Displacement": 318,
          "Horsepower": 150,
          "Miles_per_Gallon": 15,
          "Name": "dodge coronet custom",
          "Origin": "USA",
          "Weight_in_lbs": 3777,
          "Year": "1973-01-01T00:00:00"
         },
         {
          "Acceleration": 11.5,
          "Cylinders": 8,
          "Displacement": 429,
          "Horsepower": 198,
          "Miles_per_Gallon": 12,
          "Name": "mercury marquis brougham",
          "Origin": "USA",
          "Weight_in_lbs": 4952,
          "Year": "1973-01-01T00:00:00"
         },
         {
          "Acceleration": 12,
          "Cylinders": 8,
          "Displacement": 400,
          "Horsepower": 150,
          "Miles_per_Gallon": 13,
          "Name": "chevrolet caprice classic",
          "Origin": "USA",
          "Weight_in_lbs": 4464,
          "Year": "1973-01-01T00:00:00"
         },
         {
          "Acceleration": 13,
          "Cylinders": 8,
          "Displacement": 351,
          "Horsepower": 158,
          "Miles_per_Gallon": 13,
          "Name": "ford ltd",
          "Origin": "USA",
          "Weight_in_lbs": 4363,
          "Year": "1973-01-01T00:00:00"
         },
         {
          "Acceleration": 14.5,
          "Cylinders": 8,
          "Displacement": 318,
          "Horsepower": 150,
          "Miles_per_Gallon": 14,
          "Name": "plymouth fury gran sedan",
          "Origin": "USA",
          "Weight_in_lbs": 4237,
          "Year": "1973-01-01T00:00:00"
         },
         {
          "Acceleration": 11,
          "Cylinders": 8,
          "Displacement": 440,
          "Horsepower": 215,
          "Miles_per_Gallon": 13,
          "Name": "chrysler new yorker brougham",
          "Origin": "USA",
          "Weight_in_lbs": 4735,
          "Year": "1973-01-01T00:00:00"
         },
         {
          "Acceleration": 11,
          "Cylinders": 8,
          "Displacement": 455,
          "Horsepower": 225,
          "Miles_per_Gallon": 12,
          "Name": "buick electra 225 custom",
          "Origin": "USA",
          "Weight_in_lbs": 4951,
          "Year": "1973-01-01T00:00:00"
         },
         {
          "Acceleration": 11,
          "Cylinders": 8,
          "Displacement": 360,
          "Horsepower": 175,
          "Miles_per_Gallon": 13,
          "Name": "amc ambassador brougham",
          "Origin": "USA",
          "Weight_in_lbs": 3821,
          "Year": "1973-01-01T00:00:00"
         },
         {
          "Acceleration": 16.5,
          "Cylinders": 6,
          "Displacement": 225,
          "Horsepower": 105,
          "Miles_per_Gallon": 18,
          "Name": "plymouth valiant",
          "Origin": "USA",
          "Weight_in_lbs": 3121,
          "Year": "1973-01-01T00:00:00"
         },
         {
          "Acceleration": 18,
          "Cylinders": 6,
          "Displacement": 250,
          "Horsepower": 100,
          "Miles_per_Gallon": 16,
          "Name": "chevrolet nova custom",
          "Origin": "USA",
          "Weight_in_lbs": 3278,
          "Year": "1973-01-01T00:00:00"
         },
         {
          "Acceleration": 16,
          "Cylinders": 6,
          "Displacement": 232,
          "Horsepower": 100,
          "Miles_per_Gallon": 18,
          "Name": "amc hornet",
          "Origin": "USA",
          "Weight_in_lbs": 2945,
          "Year": "1973-01-01T00:00:00"
         },
         {
          "Acceleration": 16.5,
          "Cylinders": 6,
          "Displacement": 250,
          "Horsepower": 88,
          "Miles_per_Gallon": 18,
          "Name": "ford maverick",
          "Origin": "USA",
          "Weight_in_lbs": 3021,
          "Year": "1973-01-01T00:00:00"
         },
         {
          "Acceleration": 16,
          "Cylinders": 6,
          "Displacement": 198,
          "Horsepower": 95,
          "Miles_per_Gallon": 23,
          "Name": "plymouth duster",
          "Origin": "USA",
          "Weight_in_lbs": 2904,
          "Year": "1973-01-01T00:00:00"
         },
         {
          "Acceleration": 21,
          "Cylinders": 4,
          "Displacement": 97,
          "Horsepower": 46,
          "Miles_per_Gallon": 26,
          "Name": "volkswagen super beetle",
          "Origin": "Europe",
          "Weight_in_lbs": 1950,
          "Year": "1973-01-01T00:00:00"
         },
         {
          "Acceleration": 14,
          "Cylinders": 8,
          "Displacement": 400,
          "Horsepower": 150,
          "Miles_per_Gallon": 11,
          "Name": "chevrolet impala",
          "Origin": "USA",
          "Weight_in_lbs": 4997,
          "Year": "1973-01-01T00:00:00"
         },
         {
          "Acceleration": 12.5,
          "Cylinders": 8,
          "Displacement": 400,
          "Horsepower": 167,
          "Miles_per_Gallon": 12,
          "Name": "ford country",
          "Origin": "USA",
          "Weight_in_lbs": 4906,
          "Year": "1973-01-01T00:00:00"
         },
         {
          "Acceleration": 13,
          "Cylinders": 8,
          "Displacement": 360,
          "Horsepower": 170,
          "Miles_per_Gallon": 13,
          "Name": "plymouth custom suburb",
          "Origin": "USA",
          "Weight_in_lbs": 4654,
          "Year": "1973-01-01T00:00:00"
         },
         {
          "Acceleration": 12.5,
          "Cylinders": 8,
          "Displacement": 350,
          "Horsepower": 180,
          "Miles_per_Gallon": 12,
          "Name": "oldsmobile vista cruiser",
          "Origin": "USA",
          "Weight_in_lbs": 4499,
          "Year": "1973-01-01T00:00:00"
         },
         {
          "Acceleration": 15,
          "Cylinders": 6,
          "Displacement": 232,
          "Horsepower": 100,
          "Miles_per_Gallon": 18,
          "Name": "amc gremlin",
          "Origin": "USA",
          "Weight_in_lbs": 2789,
          "Year": "1973-01-01T00:00:00"
         },
         {
          "Acceleration": 19,
          "Cylinders": 4,
          "Displacement": 97,
          "Horsepower": 88,
          "Miles_per_Gallon": 20,
          "Name": "toyota carina",
          "Origin": "Japan",
          "Weight_in_lbs": 2279,
          "Year": "1973-01-01T00:00:00"
         },
         {
          "Acceleration": 19.5,
          "Cylinders": 4,
          "Displacement": 140,
          "Horsepower": 72,
          "Miles_per_Gallon": 21,
          "Name": "chevrolet vega",
          "Origin": "USA",
          "Weight_in_lbs": 2401,
          "Year": "1973-01-01T00:00:00"
         },
         {
          "Acceleration": 16.5,
          "Cylinders": 4,
          "Displacement": 108,
          "Horsepower": 94,
          "Miles_per_Gallon": 22,
          "Name": "datsun 610",
          "Origin": "Japan",
          "Weight_in_lbs": 2379,
          "Year": "1973-01-01T00:00:00"
         },
         {
          "Acceleration": 13.5,
          "Cylinders": 3,
          "Displacement": 70,
          "Horsepower": 90,
          "Miles_per_Gallon": 18,
          "Name": "maxda rx3",
          "Origin": "Japan",
          "Weight_in_lbs": 2124,
          "Year": "1973-01-01T00:00:00"
         },
         {
          "Acceleration": 18.5,
          "Cylinders": 4,
          "Displacement": 122,
          "Horsepower": 85,
          "Miles_per_Gallon": 19,
          "Name": "ford pinto",
          "Origin": "USA",
          "Weight_in_lbs": 2310,
          "Year": "1973-01-01T00:00:00"
         },
         {
          "Acceleration": 14,
          "Cylinders": 6,
          "Displacement": 155,
          "Horsepower": 107,
          "Miles_per_Gallon": 21,
          "Name": "mercury capri v6",
          "Origin": "USA",
          "Weight_in_lbs": 2472,
          "Year": "1973-01-01T00:00:00"
         },
         {
          "Acceleration": 15.5,
          "Cylinders": 4,
          "Displacement": 98,
          "Horsepower": 90,
          "Miles_per_Gallon": 26,
          "Name": "fiat 124 sport coupe",
          "Origin": "Europe",
          "Weight_in_lbs": 2265,
          "Year": "1973-01-01T00:00:00"
         },
         {
          "Acceleration": 13,
          "Cylinders": 8,
          "Displacement": 350,
          "Horsepower": 145,
          "Miles_per_Gallon": 15,
          "Name": "chevrolet monte carlo s",
          "Origin": "USA",
          "Weight_in_lbs": 4082,
          "Year": "1973-01-01T00:00:00"
         },
         {
          "Acceleration": 9.5,
          "Cylinders": 8,
          "Displacement": 400,
          "Horsepower": 230,
          "Miles_per_Gallon": 16,
          "Name": "pontiac grand prix",
          "Origin": "USA",
          "Weight_in_lbs": 4278,
          "Year": "1973-01-01T00:00:00"
         },
         {
          "Acceleration": 19.5,
          "Cylinders": 4,
          "Displacement": 68,
          "Horsepower": 49,
          "Miles_per_Gallon": 29,
          "Name": "fiat 128",
          "Origin": "Europe",
          "Weight_in_lbs": 1867,
          "Year": "1973-01-01T00:00:00"
         },
         {
          "Acceleration": 15.5,
          "Cylinders": 4,
          "Displacement": 116,
          "Horsepower": 75,
          "Miles_per_Gallon": 24,
          "Name": "opel manta",
          "Origin": "Europe",
          "Weight_in_lbs": 2158,
          "Year": "1973-01-01T00:00:00"
         },
         {
          "Acceleration": 14,
          "Cylinders": 4,
          "Displacement": 114,
          "Horsepower": 91,
          "Miles_per_Gallon": 20,
          "Name": "audi 100ls",
          "Origin": "Europe",
          "Weight_in_lbs": 2582,
          "Year": "1973-01-01T00:00:00"
         },
         {
          "Acceleration": 15.5,
          "Cylinders": 4,
          "Displacement": 121,
          "Horsepower": 112,
          "Miles_per_Gallon": 19,
          "Name": "volvo 144ea",
          "Origin": "Europe",
          "Weight_in_lbs": 2868,
          "Year": "1973-01-01T00:00:00"
         },
         {
          "Acceleration": 11,
          "Cylinders": 8,
          "Displacement": 318,
          "Horsepower": 150,
          "Miles_per_Gallon": 15,
          "Name": "dodge dart custom",
          "Origin": "USA",
          "Weight_in_lbs": 3399,
          "Year": "1973-01-01T00:00:00"
         },
         {
          "Acceleration": 14,
          "Cylinders": 4,
          "Displacement": 121,
          "Horsepower": 110,
          "Miles_per_Gallon": 24,
          "Name": "saab 99le",
          "Origin": "Europe",
          "Weight_in_lbs": 2660,
          "Year": "1973-01-01T00:00:00"
         },
         {
          "Acceleration": 13.5,
          "Cylinders": 6,
          "Displacement": 156,
          "Horsepower": 122,
          "Miles_per_Gallon": 20,
          "Name": "toyota mark ii",
          "Origin": "Japan",
          "Weight_in_lbs": 2807,
          "Year": "1973-01-01T00:00:00"
         },
         {
          "Acceleration": 11,
          "Cylinders": 8,
          "Displacement": 350,
          "Horsepower": 180,
          "Miles_per_Gallon": 11,
          "Name": "oldsmobile omega",
          "Origin": "USA",
          "Weight_in_lbs": 3664,
          "Year": "1973-01-01T00:00:00"
         },
         {
          "Acceleration": 16.5,
          "Cylinders": 6,
          "Displacement": 198,
          "Horsepower": 95,
          "Miles_per_Gallon": 20,
          "Name": "plymouth duster",
          "Origin": "USA",
          "Weight_in_lbs": 3102,
          "Year": "1974-01-01T00:00:00"
         },
         {
          "Acceleration": 17,
          "Cylinders": 6,
          "Displacement": 200,
          "Horsepower": null,
          "Miles_per_Gallon": 21,
          "Name": "ford maverick",
          "Origin": "USA",
          "Weight_in_lbs": 2875,
          "Year": "1974-01-01T00:00:00"
         },
         {
          "Acceleration": 16,
          "Cylinders": 6,
          "Displacement": 232,
          "Horsepower": 100,
          "Miles_per_Gallon": 19,
          "Name": "amc hornet",
          "Origin": "USA",
          "Weight_in_lbs": 2901,
          "Year": "1974-01-01T00:00:00"
         },
         {
          "Acceleration": 17,
          "Cylinders": 6,
          "Displacement": 250,
          "Horsepower": 100,
          "Miles_per_Gallon": 15,
          "Name": "chevrolet nova",
          "Origin": "USA",
          "Weight_in_lbs": 3336,
          "Year": "1974-01-01T00:00:00"
         },
         {
          "Acceleration": 19,
          "Cylinders": 4,
          "Displacement": 79,
          "Horsepower": 67,
          "Miles_per_Gallon": 31,
          "Name": "datsun b210",
          "Origin": "Japan",
          "Weight_in_lbs": 1950,
          "Year": "1974-01-01T00:00:00"
         },
         {
          "Acceleration": 16.5,
          "Cylinders": 4,
          "Displacement": 122,
          "Horsepower": 80,
          "Miles_per_Gallon": 26,
          "Name": "ford pinto",
          "Origin": "USA",
          "Weight_in_lbs": 2451,
          "Year": "1974-01-01T00:00:00"
         },
         {
          "Acceleration": 21,
          "Cylinders": 4,
          "Displacement": 71,
          "Horsepower": 65,
          "Miles_per_Gallon": 32,
          "Name": "toyota corolla 1200",
          "Origin": "Japan",
          "Weight_in_lbs": 1836,
          "Year": "1974-01-01T00:00:00"
         },
         {
          "Acceleration": 17,
          "Cylinders": 4,
          "Displacement": 140,
          "Horsepower": 75,
          "Miles_per_Gallon": 25,
          "Name": "chevrolet vega",
          "Origin": "USA",
          "Weight_in_lbs": 2542,
          "Year": "1974-01-01T00:00:00"
         },
         {
          "Acceleration": 17,
          "Cylinders": 6,
          "Displacement": 250,
          "Horsepower": 100,
          "Miles_per_Gallon": 16,
          "Name": "chevrolet chevelle malibu classic",
          "Origin": "USA",
          "Weight_in_lbs": 3781,
          "Year": "1974-01-01T00:00:00"
         },
         {
          "Acceleration": 18,
          "Cylinders": 6,
          "Displacement": 258,
          "Horsepower": 110,
          "Miles_per_Gallon": 16,
          "Name": "amc matador",
          "Origin": "USA",
          "Weight_in_lbs": 3632,
          "Year": "1974-01-01T00:00:00"
         },
         {
          "Acceleration": 16.5,
          "Cylinders": 6,
          "Displacement": 225,
          "Horsepower": 105,
          "Miles_per_Gallon": 18,
          "Name": "plymouth satellite sebring",
          "Origin": "USA",
          "Weight_in_lbs": 3613,
          "Year": "1974-01-01T00:00:00"
         },
         {
          "Acceleration": 14,
          "Cylinders": 8,
          "Displacement": 302,
          "Horsepower": 140,
          "Miles_per_Gallon": 16,
          "Name": "ford gran torino",
          "Origin": "USA",
          "Weight_in_lbs": 4141,
          "Year": "1974-01-01T00:00:00"
         },
         {
          "Acceleration": 14.5,
          "Cylinders": 8,
          "Displacement": 350,
          "Horsepower": 150,
          "Miles_per_Gallon": 13,
          "Name": "buick century luxus (sw)",
          "Origin": "USA",
          "Weight_in_lbs": 4699,
          "Year": "1974-01-01T00:00:00"
         },
         {
          "Acceleration": 13.5,
          "Cylinders": 8,
          "Displacement": 318,
          "Horsepower": 150,
          "Miles_per_Gallon": 14,
          "Name": "dodge coronet custom (sw)",
          "Origin": "USA",
          "Weight_in_lbs": 4457,
          "Year": "1974-01-01T00:00:00"
         },
         {
          "Acceleration": 16,
          "Cylinders": 8,
          "Displacement": 302,
          "Horsepower": 140,
          "Miles_per_Gallon": 14,
          "Name": "ford gran torino (sw)",
          "Origin": "USA",
          "Weight_in_lbs": 4638,
          "Year": "1974-01-01T00:00:00"
         },
         {
          "Acceleration": 15.5,
          "Cylinders": 8,
          "Displacement": 304,
          "Horsepower": 150,
          "Miles_per_Gallon": 14,
          "Name": "amc matador (sw)",
          "Origin": "USA",
          "Weight_in_lbs": 4257,
          "Year": "1974-01-01T00:00:00"
         },
         {
          "Acceleration": 16.5,
          "Cylinders": 4,
          "Displacement": 98,
          "Horsepower": 83,
          "Miles_per_Gallon": 29,
          "Name": "audi fox",
          "Origin": "Europe",
          "Weight_in_lbs": 2219,
          "Year": "1974-01-01T00:00:00"
         },
         {
          "Acceleration": 15.5,
          "Cylinders": 4,
          "Displacement": 79,
          "Horsepower": 67,
          "Miles_per_Gallon": 26,
          "Name": "volkswagen dasher",
          "Origin": "Europe",
          "Weight_in_lbs": 1963,
          "Year": "1974-01-01T00:00:00"
         },
         {
          "Acceleration": 14.5,
          "Cylinders": 4,
          "Displacement": 97,
          "Horsepower": 78,
          "Miles_per_Gallon": 26,
          "Name": "opel manta",
          "Origin": "Europe",
          "Weight_in_lbs": 2300,
          "Year": "1974-01-01T00:00:00"
         },
         {
          "Acceleration": 16.5,
          "Cylinders": 4,
          "Displacement": 76,
          "Horsepower": 52,
          "Miles_per_Gallon": 31,
          "Name": "toyota corona",
          "Origin": "Japan",
          "Weight_in_lbs": 1649,
          "Year": "1974-01-01T00:00:00"
         },
         {
          "Acceleration": 19,
          "Cylinders": 4,
          "Displacement": 83,
          "Horsepower": 61,
          "Miles_per_Gallon": 32,
          "Name": "datsun 710",
          "Origin": "Japan",
          "Weight_in_lbs": 2003,
          "Year": "1974-01-01T00:00:00"
         },
         {
          "Acceleration": 14.5,
          "Cylinders": 4,
          "Displacement": 90,
          "Horsepower": 75,
          "Miles_per_Gallon": 28,
          "Name": "dodge colt",
          "Origin": "USA",
          "Weight_in_lbs": 2125,
          "Year": "1974-01-01T00:00:00"
         },
         {
          "Acceleration": 15.5,
          "Cylinders": 4,
          "Displacement": 90,
          "Horsepower": 75,
          "Miles_per_Gallon": 24,
          "Name": "fiat 128",
          "Origin": "Europe",
          "Weight_in_lbs": 2108,
          "Year": "1974-01-01T00:00:00"
         },
         {
          "Acceleration": 14,
          "Cylinders": 4,
          "Displacement": 116,
          "Horsepower": 75,
          "Miles_per_Gallon": 26,
          "Name": "fiat 124 tc",
          "Origin": "Europe",
          "Weight_in_lbs": 2246,
          "Year": "1974-01-01T00:00:00"
         },
         {
          "Acceleration": 15,
          "Cylinders": 4,
          "Displacement": 120,
          "Horsepower": 97,
          "Miles_per_Gallon": 24,
          "Name": "honda civic",
          "Origin": "Japan",
          "Weight_in_lbs": 2489,
          "Year": "1974-01-01T00:00:00"
         },
         {
          "Acceleration": 15.5,
          "Cylinders": 4,
          "Displacement": 108,
          "Horsepower": 93,
          "Miles_per_Gallon": 26,
          "Name": "subaru",
          "Origin": "Japan",
          "Weight_in_lbs": 2391,
          "Year": "1974-01-01T00:00:00"
         },
         {
          "Acceleration": 16,
          "Cylinders": 4,
          "Displacement": 79,
          "Horsepower": 67,
          "Miles_per_Gallon": 31,
          "Name": "fiat x1.9",
          "Origin": "Europe",
          "Weight_in_lbs": 2000,
          "Year": "1974-01-01T00:00:00"
         },
         {
          "Acceleration": 16,
          "Cylinders": 6,
          "Displacement": 225,
          "Horsepower": 95,
          "Miles_per_Gallon": 19,
          "Name": "plymouth valiant custom",
          "Origin": "USA",
          "Weight_in_lbs": 3264,
          "Year": "1975-01-01T00:00:00"
         },
         {
          "Acceleration": 16,
          "Cylinders": 6,
          "Displacement": 250,
          "Horsepower": 105,
          "Miles_per_Gallon": 18,
          "Name": "chevrolet nova",
          "Origin": "USA",
          "Weight_in_lbs": 3459,
          "Year": "1975-01-01T00:00:00"
         },
         {
          "Acceleration": 21,
          "Cylinders": 6,
          "Displacement": 250,
          "Horsepower": 72,
          "Miles_per_Gallon": 15,
          "Name": "mercury monarch",
          "Origin": "USA",
          "Weight_in_lbs": 3432,
          "Year": "1975-01-01T00:00:00"
         },
         {
          "Acceleration": 19.5,
          "Cylinders": 6,
          "Displacement": 250,
          "Horsepower": 72,
          "Miles_per_Gallon": 15,
          "Name": "ford maverick",
          "Origin": "USA",
          "Weight_in_lbs": 3158,
          "Year": "1975-01-01T00:00:00"
         },
         {
          "Acceleration": 11.5,
          "Cylinders": 8,
          "Displacement": 400,
          "Horsepower": 170,
          "Miles_per_Gallon": 16,
          "Name": "pontiac catalina",
          "Origin": "USA",
          "Weight_in_lbs": 4668,
          "Year": "1975-01-01T00:00:00"
         },
         {
          "Acceleration": 14,
          "Cylinders": 8,
          "Displacement": 350,
          "Horsepower": 145,
          "Miles_per_Gallon": 15,
          "Name": "chevrolet bel air",
          "Origin": "USA",
          "Weight_in_lbs": 4440,
          "Year": "1975-01-01T00:00:00"
         },
         {
          "Acceleration": 14.5,
          "Cylinders": 8,
          "Displacement": 318,
          "Horsepower": 150,
          "Miles_per_Gallon": 16,
          "Name": "plymouth grand fury",
          "Origin": "USA",
          "Weight_in_lbs": 4498,
          "Year": "1975-01-01T00:00:00"
         },
         {
          "Acceleration": 13.5,
          "Cylinders": 8,
          "Displacement": 351,
          "Horsepower": 148,
          "Miles_per_Gallon": 14,
          "Name": "ford ltd",
          "Origin": "USA",
          "Weight_in_lbs": 4657,
          "Year": "1975-01-01T00:00:00"
         },
         {
          "Acceleration": 21,
          "Cylinders": 6,
          "Displacement": 231,
          "Horsepower": 110,
          "Miles_per_Gallon": 17,
          "Name": "buick century",
          "Origin": "USA",
          "Weight_in_lbs": 3907,
          "Year": "1975-01-01T00:00:00"
         },
         {
          "Acceleration": 18.5,
          "Cylinders": 6,
          "Displacement": 250,
          "Horsepower": 105,
          "Miles_per_Gallon": 16,
          "Name": "chevroelt chevelle malibu",
          "Origin": "USA",
          "Weight_in_lbs": 3897,
          "Year": "1975-01-01T00:00:00"
         },
         {
          "Acceleration": 19,
          "Cylinders": 6,
          "Displacement": 258,
          "Horsepower": 110,
          "Miles_per_Gallon": 15,
          "Name": "amc matador",
          "Origin": "USA",
          "Weight_in_lbs": 3730,
          "Year": "1975-01-01T00:00:00"
         },
         {
          "Acceleration": 19,
          "Cylinders": 6,
          "Displacement": 225,
          "Horsepower": 95,
          "Miles_per_Gallon": 18,
          "Name": "plymouth fury",
          "Origin": "USA",
          "Weight_in_lbs": 3785,
          "Year": "1975-01-01T00:00:00"
         },
         {
          "Acceleration": 15,
          "Cylinders": 6,
          "Displacement": 231,
          "Horsepower": 110,
          "Miles_per_Gallon": 21,
          "Name": "buick skyhawk",
          "Origin": "USA",
          "Weight_in_lbs": 3039,
          "Year": "1975-01-01T00:00:00"
         },
         {
          "Acceleration": 13.5,
          "Cylinders": 8,
          "Displacement": 262,
          "Horsepower": 110,
          "Miles_per_Gallon": 20,
          "Name": "chevrolet monza 2+2",
          "Origin": "USA",
          "Weight_in_lbs": 3221,
          "Year": "1975-01-01T00:00:00"
         },
         {
          "Acceleration": 12,
          "Cylinders": 8,
          "Displacement": 302,
          "Horsepower": 129,
          "Miles_per_Gallon": 13,
          "Name": "ford mustang ii",
          "Origin": "USA",
          "Weight_in_lbs": 3169,
          "Year": "1975-01-01T00:00:00"
         },
         {
          "Acceleration": 16,
          "Cylinders": 4,
          "Displacement": 97,
          "Horsepower": 75,
          "Miles_per_Gallon": 29,
          "Name": "toyota corolla",
          "Origin": "Japan",
          "Weight_in_lbs": 2171,
          "Year": "1975-01-01T00:00:00"
         },
         {
          "Acceleration": 17,
          "Cylinders": 4,
          "Displacement": 140,
          "Horsepower": 83,
          "Miles_per_Gallon": 23,
          "Name": "ford pinto",
          "Origin": "USA",
          "Weight_in_lbs": 2639,
          "Year": "1975-01-01T00:00:00"
         },
         {
          "Acceleration": 16,
          "Cylinders": 6,
          "Displacement": 232,
          "Horsepower": 100,
          "Miles_per_Gallon": 20,
          "Name": "amc gremlin",
          "Origin": "USA",
          "Weight_in_lbs": 2914,
          "Year": "1975-01-01T00:00:00"
         },
         {
          "Acceleration": 18.5,
          "Cylinders": 4,
          "Displacement": 140,
          "Horsepower": 78,
          "Miles_per_Gallon": 23,
          "Name": "pontiac astro",
          "Origin": "USA",
          "Weight_in_lbs": 2592,
          "Year": "1975-01-01T00:00:00"
         },
         {
          "Acceleration": 13.5,
          "Cylinders": 4,
          "Displacement": 134,
          "Horsepower": 96,
          "Miles_per_Gallon": 24,
          "Name": "toyota corona",
          "Origin": "Japan",
          "Weight_in_lbs": 2702,
          "Year": "1975-01-01T00:00:00"
         },
         {
          "Acceleration": 16.5,
          "Cylinders": 4,
          "Displacement": 90,
          "Horsepower": 71,
          "Miles_per_Gallon": 25,
          "Name": "volkswagen dasher",
          "Origin": "Europe",
          "Weight_in_lbs": 2223,
          "Year": "1975-01-01T00:00:00"
         },
         {
          "Acceleration": 17,
          "Cylinders": 4,
          "Displacement": 119,
          "Horsepower": 97,
          "Miles_per_Gallon": 24,
          "Name": "datsun 710",
          "Origin": "Japan",
          "Weight_in_lbs": 2545,
          "Year": "1975-01-01T00:00:00"
         },
         {
          "Acceleration": 14.5,
          "Cylinders": 6,
          "Displacement": 171,
          "Horsepower": 97,
          "Miles_per_Gallon": 18,
          "Name": "ford pinto",
          "Origin": "USA",
          "Weight_in_lbs": 2984,
          "Year": "1975-01-01T00:00:00"
         },
         {
          "Acceleration": 14,
          "Cylinders": 4,
          "Displacement": 90,
          "Horsepower": 70,
          "Miles_per_Gallon": 29,
          "Name": "volkswagen rabbit",
          "Origin": "Europe",
          "Weight_in_lbs": 1937,
          "Year": "1975-01-01T00:00:00"
         },
         {
          "Acceleration": 17,
          "Cylinders": 6,
          "Displacement": 232,
          "Horsepower": 90,
          "Miles_per_Gallon": 19,
          "Name": "amc pacer",
          "Origin": "USA",
          "Weight_in_lbs": 3211,
          "Year": "1975-01-01T00:00:00"
         },
         {
          "Acceleration": 15,
          "Cylinders": 4,
          "Displacement": 115,
          "Horsepower": 95,
          "Miles_per_Gallon": 23,
          "Name": "audi 100ls",
          "Origin": "Europe",
          "Weight_in_lbs": 2694,
          "Year": "1975-01-01T00:00:00"
         },
         {
          "Acceleration": 17,
          "Cylinders": 4,
          "Displacement": 120,
          "Horsepower": 88,
          "Miles_per_Gallon": 23,
          "Name": "peugeot 504",
          "Origin": "Europe",
          "Weight_in_lbs": 2957,
          "Year": "1975-01-01T00:00:00"
         },
         {
          "Acceleration": 14.5,
          "Cylinders": 4,
          "Displacement": 121,
          "Horsepower": 98,
          "Miles_per_Gallon": 22,
          "Name": "volvo 244dl",
          "Origin": "Europe",
          "Weight_in_lbs": 2945,
          "Year": "1975-01-01T00:00:00"
         },
         {
          "Acceleration": 13.5,
          "Cylinders": 4,
          "Displacement": 121,
          "Horsepower": 115,
          "Miles_per_Gallon": 25,
          "Name": "saab 99le",
          "Origin": "Europe",
          "Weight_in_lbs": 2671,
          "Year": "1975-01-01T00:00:00"
         },
         {
          "Acceleration": 17.5,
          "Cylinders": 4,
          "Displacement": 91,
          "Horsepower": 53,
          "Miles_per_Gallon": 33,
          "Name": "honda civic cvcc",
          "Origin": "Japan",
          "Weight_in_lbs": 1795,
          "Year": "1975-01-01T00:00:00"
         },
         {
          "Acceleration": 15.5,
          "Cylinders": 4,
          "Displacement": 107,
          "Horsepower": 86,
          "Miles_per_Gallon": 28,
          "Name": "fiat 131",
          "Origin": "Europe",
          "Weight_in_lbs": 2464,
          "Year": "1976-01-01T00:00:00"
         },
         {
          "Acceleration": 16.9,
          "Cylinders": 4,
          "Displacement": 116,
          "Horsepower": 81,
          "Miles_per_Gallon": 25,
          "Name": "opel 1900",
          "Origin": "Europe",
          "Weight_in_lbs": 2220,
          "Year": "1976-01-01T00:00:00"
         },
         {
          "Acceleration": 14.9,
          "Cylinders": 4,
          "Displacement": 140,
          "Horsepower": 92,
          "Miles_per_Gallon": 25,
          "Name": "capri ii",
          "Origin": "USA",
          "Weight_in_lbs": 2572,
          "Year": "1976-01-01T00:00:00"
         },
         {
          "Acceleration": 17.7,
          "Cylinders": 4,
          "Displacement": 98,
          "Horsepower": 79,
          "Miles_per_Gallon": 26,
          "Name": "dodge colt",
          "Origin": "USA",
          "Weight_in_lbs": 2255,
          "Year": "1976-01-01T00:00:00"
         },
         {
          "Acceleration": 15.3,
          "Cylinders": 4,
          "Displacement": 101,
          "Horsepower": 83,
          "Miles_per_Gallon": 27,
          "Name": "renault 12tl",
          "Origin": "Europe",
          "Weight_in_lbs": 2202,
          "Year": "1976-01-01T00:00:00"
         },
         {
          "Acceleration": 13,
          "Cylinders": 8,
          "Displacement": 305,
          "Horsepower": 140,
          "Miles_per_Gallon": 17.5,
          "Name": "chevrolet chevelle malibu classic",
          "Origin": "USA",
          "Weight_in_lbs": 4215,
          "Year": "1976-01-01T00:00:00"
         },
         {
          "Acceleration": 13,
          "Cylinders": 8,
          "Displacement": 318,
          "Horsepower": 150,
          "Miles_per_Gallon": 16,
          "Name": "dodge coronet brougham",
          "Origin": "USA",
          "Weight_in_lbs": 4190,
          "Year": "1976-01-01T00:00:00"
         },
         {
          "Acceleration": 13.9,
          "Cylinders": 8,
          "Displacement": 304,
          "Horsepower": 120,
          "Miles_per_Gallon": 15.5,
          "Name": "amc matador",
          "Origin": "USA",
          "Weight_in_lbs": 3962,
          "Year": "1976-01-01T00:00:00"
         },
         {
          "Acceleration": 12.8,
          "Cylinders": 8,
          "Displacement": 351,
          "Horsepower": 152,
          "Miles_per_Gallon": 14.5,
          "Name": "ford gran torino",
          "Origin": "USA",
          "Weight_in_lbs": 4215,
          "Year": "1976-01-01T00:00:00"
         },
         {
          "Acceleration": 15.4,
          "Cylinders": 6,
          "Displacement": 225,
          "Horsepower": 100,
          "Miles_per_Gallon": 22,
          "Name": "plymouth valiant",
          "Origin": "USA",
          "Weight_in_lbs": 3233,
          "Year": "1976-01-01T00:00:00"
         },
         {
          "Acceleration": 14.5,
          "Cylinders": 6,
          "Displacement": 250,
          "Horsepower": 105,
          "Miles_per_Gallon": 22,
          "Name": "chevrolet nova",
          "Origin": "USA",
          "Weight_in_lbs": 3353,
          "Year": "1976-01-01T00:00:00"
         },
         {
          "Acceleration": 17.6,
          "Cylinders": 6,
          "Displacement": 200,
          "Horsepower": 81,
          "Miles_per_Gallon": 24,
          "Name": "ford maverick",
          "Origin": "USA",
          "Weight_in_lbs": 3012,
          "Year": "1976-01-01T00:00:00"
         },
         {
          "Acceleration": 17.6,
          "Cylinders": 6,
          "Displacement": 232,
          "Horsepower": 90,
          "Miles_per_Gallon": 22.5,
          "Name": "amc hornet",
          "Origin": "USA",
          "Weight_in_lbs": 3085,
          "Year": "1976-01-01T00:00:00"
         },
         {
          "Acceleration": 22.2,
          "Cylinders": 4,
          "Displacement": 85,
          "Horsepower": 52,
          "Miles_per_Gallon": 29,
          "Name": "chevrolet chevette",
          "Origin": "USA",
          "Weight_in_lbs": 2035,
          "Year": "1976-01-01T00:00:00"
         },
         {
          "Acceleration": 22.1,
          "Cylinders": 4,
          "Displacement": 98,
          "Horsepower": 60,
          "Miles_per_Gallon": 24.5,
          "Name": "chevrolet woody",
          "Origin": "USA",
          "Weight_in_lbs": 2164,
          "Year": "1976-01-01T00:00:00"
         },
         {
          "Acceleration": 14.2,
          "Cylinders": 4,
          "Displacement": 90,
          "Horsepower": 70,
          "Miles_per_Gallon": 29,
          "Name": "vw rabbit",
          "Origin": "Europe",
          "Weight_in_lbs": 1937,
          "Year": "1976-01-01T00:00:00"
         },
         {
          "Acceleration": 17.4,
          "Cylinders": 4,
          "Displacement": 91,
          "Horsepower": 53,
          "Miles_per_Gallon": 33,
          "Name": "honda civic",
          "Origin": "Japan",
          "Weight_in_lbs": 1795,
          "Year": "1976-01-01T00:00:00"
         },
         {
          "Acceleration": 17.7,
          "Cylinders": 6,
          "Displacement": 225,
          "Horsepower": 100,
          "Miles_per_Gallon": 20,
          "Name": "dodge aspen se",
          "Origin": "USA",
          "Weight_in_lbs": 3651,
          "Year": "1976-01-01T00:00:00"
         },
         {
          "Acceleration": 21,
          "Cylinders": 6,
          "Displacement": 250,
          "Horsepower": 78,
          "Miles_per_Gallon": 18,
          "Name": "ford granada ghia",
          "Origin": "USA",
          "Weight_in_lbs": 3574,
          "Year": "1976-01-01T00:00:00"
         },
         {
          "Acceleration": 16.2,
          "Cylinders": 6,
          "Displacement": 250,
          "Horsepower": 110,
          "Miles_per_Gallon": 18.5,
          "Name": "pontiac ventura sj",
          "Origin": "USA",
          "Weight_in_lbs": 3645,
          "Year": "1976-01-01T00:00:00"
         },
         {
          "Acceleration": 17.8,
          "Cylinders": 6,
          "Displacement": 258,
          "Horsepower": 95,
          "Miles_per_Gallon": 17.5,
          "Name": "amc pacer d/l",
          "Origin": "USA",
          "Weight_in_lbs": 3193,
          "Year": "1976-01-01T00:00:00"
         },
         {
          "Acceleration": 12.2,
          "Cylinders": 4,
          "Displacement": 97,
          "Horsepower": 71,
          "Miles_per_Gallon": 29.5,
          "Name": "volkswagen rabbit",
          "Origin": "Europe",
          "Weight_in_lbs": 1825,
          "Year": "1976-01-01T00:00:00"
         },
         {
          "Acceleration": 17,
          "Cylinders": 4,
          "Displacement": 85,
          "Horsepower": 70,
          "Miles_per_Gallon": 32,
          "Name": "datsun b-210",
          "Origin": "Japan",
          "Weight_in_lbs": 1990,
          "Year": "1976-01-01T00:00:00"
         },
         {
          "Acceleration": 16.4,
          "Cylinders": 4,
          "Displacement": 97,
          "Horsepower": 75,
          "Miles_per_Gallon": 28,
          "Name": "toyota corolla",
          "Origin": "Japan",
          "Weight_in_lbs": 2155,
          "Year": "1976-01-01T00:00:00"
         },
         {
          "Acceleration": 13.6,
          "Cylinders": 4,
          "Displacement": 140,
          "Horsepower": 72,
          "Miles_per_Gallon": 26.5,
          "Name": "ford pinto",
          "Origin": "USA",
          "Weight_in_lbs": 2565,
          "Year": "1976-01-01T00:00:00"
         },
         {
          "Acceleration": 15.7,
          "Cylinders": 4,
          "Displacement": 130,
          "Horsepower": 102,
          "Miles_per_Gallon": 20,
          "Name": "volvo 245",
          "Origin": "Europe",
          "Weight_in_lbs": 3150,
          "Year": "1976-01-01T00:00:00"
         },
         {
          "Acceleration": 13.2,
          "Cylinders": 8,
          "Displacement": 318,
          "Horsepower": 150,
          "Miles_per_Gallon": 13,
          "Name": "plymouth volare premier v8",
          "Origin": "USA",
          "Weight_in_lbs": 3940,
          "Year": "1976-01-01T00:00:00"
         },
         {
          "Acceleration": 21.9,
          "Cylinders": 4,
          "Displacement": 120,
          "Horsepower": 88,
          "Miles_per_Gallon": 19,
          "Name": "peugeot 504",
          "Origin": "Europe",
          "Weight_in_lbs": 3270,
          "Year": "1976-01-01T00:00:00"
         },
         {
          "Acceleration": 15.5,
          "Cylinders": 6,
          "Displacement": 156,
          "Horsepower": 108,
          "Miles_per_Gallon": 19,
          "Name": "toyota mark ii",
          "Origin": "Japan",
          "Weight_in_lbs": 2930,
          "Year": "1976-01-01T00:00:00"
         },
         {
          "Acceleration": 16.7,
          "Cylinders": 6,
          "Displacement": 168,
          "Horsepower": 120,
          "Miles_per_Gallon": 16.5,
          "Name": "mercedes-benz 280s",
          "Origin": "Europe",
          "Weight_in_lbs": 3820,
          "Year": "1976-01-01T00:00:00"
         },
         {
          "Acceleration": 12.1,
          "Cylinders": 8,
          "Displacement": 350,
          "Horsepower": 180,
          "Miles_per_Gallon": 16.5,
          "Name": "cadillac seville",
          "Origin": "USA",
          "Weight_in_lbs": 4380,
          "Year": "1976-01-01T00:00:00"
         },
         {
          "Acceleration": 12,
          "Cylinders": 8,
          "Displacement": 350,
          "Horsepower": 145,
          "Miles_per_Gallon": 13,
          "Name": "chevy c10",
          "Origin": "USA",
          "Weight_in_lbs": 4055,
          "Year": "1976-01-01T00:00:00"
         },
         {
          "Acceleration": 15,
          "Cylinders": 8,
          "Displacement": 302,
          "Horsepower": 130,
          "Miles_per_Gallon": 13,
          "Name": "ford f108",
          "Origin": "USA",
          "Weight_in_lbs": 3870,
          "Year": "1976-01-01T00:00:00"
         },
         {
          "Acceleration": 14,
          "Cylinders": 8,
          "Displacement": 318,
          "Horsepower": 150,
          "Miles_per_Gallon": 13,
          "Name": "dodge d100",
          "Origin": "USA",
          "Weight_in_lbs": 3755,
          "Year": "1976-01-01T00:00:00"
         },
         {
          "Acceleration": 18.5,
          "Cylinders": 4,
          "Displacement": 98,
          "Horsepower": 68,
          "Miles_per_Gallon": 31.5,
          "Name": "honda Accelerationord cvcc",
          "Origin": "Japan",
          "Weight_in_lbs": 2045,
          "Year": "1977-01-01T00:00:00"
         },
         {
          "Acceleration": 14.8,
          "Cylinders": 4,
          "Displacement": 111,
          "Horsepower": 80,
          "Miles_per_Gallon": 30,
          "Name": "buick opel isuzu deluxe",
          "Origin": "USA",
          "Weight_in_lbs": 2155,
          "Year": "1977-01-01T00:00:00"
         },
         {
          "Acceleration": 18.6,
          "Cylinders": 4,
          "Displacement": 79,
          "Horsepower": 58,
          "Miles_per_Gallon": 36,
          "Name": "renault 5 gtl",
          "Origin": "Europe",
          "Weight_in_lbs": 1825,
          "Year": "1977-01-01T00:00:00"
         },
         {
          "Acceleration": 15.5,
          "Cylinders": 4,
          "Displacement": 122,
          "Horsepower": 96,
          "Miles_per_Gallon": 25.5,
          "Name": "plymouth arrow gs",
          "Origin": "USA",
          "Weight_in_lbs": 2300,
          "Year": "1977-01-01T00:00:00"
         },
         {
          "Acceleration": 16.8,
          "Cylinders": 4,
          "Displacement": 85,
          "Horsepower": 70,
          "Miles_per_Gallon": 33.5,
          "Name": "datsun f-10 hatchback",
          "Origin": "Japan",
          "Weight_in_lbs": 1945,
          "Year": "1977-01-01T00:00:00"
         },
         {
          "Acceleration": 12.5,
          "Cylinders": 8,
          "Displacement": 305,
          "Horsepower": 145,
          "Miles_per_Gallon": 17.5,
          "Name": "chevrolet caprice classic",
          "Origin": "USA",
          "Weight_in_lbs": 3880,
          "Year": "1977-01-01T00:00:00"
         },
         {
          "Acceleration": 19,
          "Cylinders": 8,
          "Displacement": 260,
          "Horsepower": 110,
          "Miles_per_Gallon": 17,
          "Name": "oldsmobile cutlass supreme",
          "Origin": "USA",
          "Weight_in_lbs": 4060,
          "Year": "1977-01-01T00:00:00"
         },
         {
          "Acceleration": 13.7,
          "Cylinders": 8,
          "Displacement": 318,
          "Horsepower": 145,
          "Miles_per_Gallon": 15.5,
          "Name": "dodge monaco brougham",
          "Origin": "USA",
          "Weight_in_lbs": 4140,
          "Year": "1977-01-01T00:00:00"
         },
         {
          "Acceleration": 14.9,
          "Cylinders": 8,
          "Displacement": 302,
          "Horsepower": 130,
          "Miles_per_Gallon": 15,
          "Name": "mercury cougar brougham",
          "Origin": "USA",
          "Weight_in_lbs": 4295,
          "Year": "1977-01-01T00:00:00"
         },
         {
          "Acceleration": 16.4,
          "Cylinders": 6,
          "Displacement": 250,
          "Horsepower": 110,
          "Miles_per_Gallon": 17.5,
          "Name": "chevrolet concours",
          "Origin": "USA",
          "Weight_in_lbs": 3520,
          "Year": "1977-01-01T00:00:00"
         },
         {
          "Acceleration": 16.9,
          "Cylinders": 6,
          "Displacement": 231,
          "Horsepower": 105,
          "Miles_per_Gallon": 20.5,
          "Name": "buick skylark",
          "Origin": "USA",
          "Weight_in_lbs": 3425,
          "Year": "1977-01-01T00:00:00"
         },
         {
          "Acceleration": 17.7,
          "Cylinders": 6,
          "Displacement": 225,
          "Horsepower": 100,
          "Miles_per_Gallon": 19,
          "Name": "plymouth volare custom",
          "Origin": "USA",
          "Weight_in_lbs": 3630,
          "Year": "1977-01-01T00:00:00"
         },
         {
          "Acceleration": 19,
          "Cylinders": 6,
          "Displacement": 250,
          "Horsepower": 98,
          "Miles_per_Gallon": 18.5,
          "Name": "ford granada",
          "Origin": "USA",
          "Weight_in_lbs": 3525,
          "Year": "1977-01-01T00:00:00"
         },
         {
          "Acceleration": 11.1,
          "Cylinders": 8,
          "Displacement": 400,
          "Horsepower": 180,
          "Miles_per_Gallon": 16,
          "Name": "pontiac grand prix lj",
          "Origin": "USA",
          "Weight_in_lbs": 4220,
          "Year": "1977-01-01T00:00:00"
         },
         {
          "Acceleration": 11.4,
          "Cylinders": 8,
          "Displacement": 350,
          "Horsepower": 170,
          "Miles_per_Gallon": 15.5,
          "Name": "chevrolet monte carlo landau",
          "Origin": "USA",
          "Weight_in_lbs": 4165,
          "Year": "1977-01-01T00:00:00"
         },
         {
          "Acceleration": 12.2,
          "Cylinders": 8,
          "Displacement": 400,
          "Horsepower": 190,
          "Miles_per_Gallon": 15.5,
          "Name": "chrysler cordoba",
          "Origin": "USA",
          "Weight_in_lbs": 4325,
          "Year": "1977-01-01T00:00:00"
         },
         {
          "Acceleration": 14.5,
          "Cylinders": 8,
          "Displacement": 351,
          "Horsepower": 149,
          "Miles_per_Gallon": 16,
          "Name": "ford thunderbird",
          "Origin": "USA",
          "Weight_in_lbs": 4335,
          "Year": "1977-01-01T00:00:00"
         },
         {
          "Acceleration": 14.5,
          "Cylinders": 4,
          "Displacement": 97,
          "Horsepower": 78,
          "Miles_per_Gallon": 29,
          "Name": "volkswagen rabbit custom",
          "Origin": "Europe",
          "Weight_in_lbs": 1940,
          "Year": "1977-01-01T00:00:00"
         },
         {
          "Acceleration": 16,
          "Cylinders": 4,
          "Displacement": 151,
          "Horsepower": 88,
          "Miles_per_Gallon": 24.5,
          "Name": "pontiac sunbird coupe",
          "Origin": "USA",
          "Weight_in_lbs": 2740,
          "Year": "1977-01-01T00:00:00"
         },
         {
          "Acceleration": 18.2,
          "Cylinders": 4,
          "Displacement": 97,
          "Horsepower": 75,
          "Miles_per_Gallon": 26,
          "Name": "toyota corolla liftback",
          "Origin": "Japan",
          "Weight_in_lbs": 2265,
          "Year": "1977-01-01T00:00:00"
         },
         {
          "Acceleration": 15.8,
          "Cylinders": 4,
          "Displacement": 140,
          "Horsepower": 89,
          "Miles_per_Gallon": 25.5,
          "Name": "ford mustang ii 2+2",
          "Origin": "USA",
          "Weight_in_lbs": 2755,
          "Year": "1977-01-01T00:00:00"
         },
         {
          "Acceleration": 17,
          "Cylinders": 4,
          "Displacement": 98,
          "Horsepower": 63,
          "Miles_per_Gallon": 30.5,
          "Name": "chevrolet chevette",
          "Origin": "USA",
          "Weight_in_lbs": 2051,
          "Year": "1977-01-01T00:00:00"
         },
         {
          "Acceleration": 15.9,
          "Cylinders": 4,
          "Displacement": 98,
          "Horsepower": 83,
          "Miles_per_Gallon": 33.5,
          "Name": "dodge colt m/m",
          "Origin": "USA",
          "Weight_in_lbs": 2075,
          "Year": "1977-01-01T00:00:00"
         },
         {
          "Acceleration": 16.4,
          "Cylinders": 4,
          "Displacement": 97,
          "Horsepower": 67,
          "Miles_per_Gallon": 30,
          "Name": "subaru dl",
          "Origin": "Japan",
          "Weight_in_lbs": 1985,
          "Year": "1977-01-01T00:00:00"
         },
         {
          "Acceleration": 14.1,
          "Cylinders": 4,
          "Displacement": 97,
          "Horsepower": 78,
          "Miles_per_Gallon": 30.5,
          "Name": "volkswagen dasher",
          "Origin": "Europe",
          "Weight_in_lbs": 2190,
          "Year": "1977-01-01T00:00:00"
         },
         {
          "Acceleration": 14.5,
          "Cylinders": 6,
          "Displacement": 146,
          "Horsepower": 97,
          "Miles_per_Gallon": 22,
          "Name": "datsun 810",
          "Origin": "Japan",
          "Weight_in_lbs": 2815,
          "Year": "1977-01-01T00:00:00"
         },
         {
          "Acceleration": 12.8,
          "Cylinders": 4,
          "Displacement": 121,
          "Horsepower": 110,
          "Miles_per_Gallon": 21.5,
          "Name": "bmw 320i",
          "Origin": "Europe",
          "Weight_in_lbs": 2600,
          "Year": "1977-01-01T00:00:00"
         },
         {
          "Acceleration": 13.5,
          "Cylinders": 3,
          "Displacement": 80,
          "Horsepower": 110,
          "Miles_per_Gallon": 21.5,
          "Name": "mazda rx-4",
          "Origin": "Japan",
          "Weight_in_lbs": 2720,
          "Year": "1977-01-01T00:00:00"
         },
         {
          "Acceleration": 21.5,
          "Cylinders": 4,
          "Displacement": 90,
          "Horsepower": 48,
          "Miles_per_Gallon": 43.1,
          "Name": "volkswagen rabbit custom diesel",
          "Origin": "Europe",
          "Weight_in_lbs": 1985,
          "Year": "1978-01-01T00:00:00"
         },
         {
          "Acceleration": 14.4,
          "Cylinders": 4,
          "Displacement": 98,
          "Horsepower": 66,
          "Miles_per_Gallon": 36.1,
          "Name": "ford fiesta",
          "Origin": "USA",
          "Weight_in_lbs": 1800,
          "Year": "1978-01-01T00:00:00"
         },
         {
          "Acceleration": 19.4,
          "Cylinders": 4,
          "Displacement": 78,
          "Horsepower": 52,
          "Miles_per_Gallon": 32.8,
          "Name": "mazda glc deluxe",
          "Origin": "Japan",
          "Weight_in_lbs": 1985,
          "Year": "1978-01-01T00:00:00"
         },
         {
          "Acceleration": 18.6,
          "Cylinders": 4,
          "Displacement": 85,
          "Horsepower": 70,
          "Miles_per_Gallon": 39.4,
          "Name": "datsun b210 gx",
          "Origin": "Japan",
          "Weight_in_lbs": 2070,
          "Year": "1978-01-01T00:00:00"
         },
         {
          "Acceleration": 16.4,
          "Cylinders": 4,
          "Displacement": 91,
          "Horsepower": 60,
          "Miles_per_Gallon": 36.1,
          "Name": "honda civic cvcc",
          "Origin": "Japan",
          "Weight_in_lbs": 1800,
          "Year": "1978-01-01T00:00:00"
         },
         {
          "Acceleration": 15.5,
          "Cylinders": 8,
          "Displacement": 260,
          "Horsepower": 110,
          "Miles_per_Gallon": 19.9,
          "Name": "oldsmobile cutlass salon brougham",
          "Origin": "USA",
          "Weight_in_lbs": 3365,
          "Year": "1978-01-01T00:00:00"
         },
         {
          "Acceleration": 13.2,
          "Cylinders": 8,
          "Displacement": 318,
          "Horsepower": 140,
          "Miles_per_Gallon": 19.4,
          "Name": "dodge diplomat",
          "Origin": "USA",
          "Weight_in_lbs": 3735,
          "Year": "1978-01-01T00:00:00"
         },
         {
          "Acceleration": 12.8,
          "Cylinders": 8,
          "Displacement": 302,
          "Horsepower": 139,
          "Miles_per_Gallon": 20.2,
          "Name": "mercury monarch ghia",
          "Origin": "USA",
          "Weight_in_lbs": 3570,
          "Year": "1978-01-01T00:00:00"
         },
         {
          "Acceleration": 19.2,
          "Cylinders": 6,
          "Displacement": 231,
          "Horsepower": 105,
          "Miles_per_Gallon": 19.2,
          "Name": "pontiac phoenix lj",
          "Origin": "USA",
          "Weight_in_lbs": 3535,
          "Year": "1978-01-01T00:00:00"
         },
         {
          "Acceleration": 18.2,
          "Cylinders": 6,
          "Displacement": 200,
          "Horsepower": 95,
          "Miles_per_Gallon": 20.5,
          "Name": "chevrolet malibu",
          "Origin": "USA",
          "Weight_in_lbs": 3155,
          "Year": "1978-01-01T00:00:00"
         },
         {
          "Acceleration": 15.8,
          "Cylinders": 6,
          "Displacement": 200,
          "Horsepower": 85,
          "Miles_per_Gallon": 20.2,
          "Name": "ford fairmont (auto)",
          "Origin": "USA",
          "Weight_in_lbs": 2965,
          "Year": "1978-01-01T00:00:00"
         },
         {
          "Acceleration": 15.4,
          "Cylinders": 4,
          "Displacement": 140,
          "Horsepower": 88,
          "Miles_per_Gallon": 25.1,
          "Name": "ford fairmont (man)",
          "Origin": "USA",
          "Weight_in_lbs": 2720,
          "Year": "1978-01-01T00:00:00"
         },
         {
          "Acceleration": 17.2,
          "Cylinders": 6,
          "Displacement": 225,
          "Horsepower": 100,
          "Miles_per_Gallon": 20.5,
          "Name": "plymouth volare",
          "Origin": "USA",
          "Weight_in_lbs": 3430,
          "Year": "1978-01-01T00:00:00"
         },
         {
          "Acceleration": 17.2,
          "Cylinders": 6,
          "Displacement": 232,
          "Horsepower": 90,
          "Miles_per_Gallon": 19.4,
          "Name": "amc concord",
          "Origin": "USA",
          "Weight_in_lbs": 3210,
          "Year": "1978-01-01T00:00:00"
         },
         {
          "Acceleration": 15.8,
          "Cylinders": 6,
          "Displacement": 231,
          "Horsepower": 105,
          "Miles_per_Gallon": 20.6,
          "Name": "buick century special",
          "Origin": "USA",
          "Weight_in_lbs": 3380,
          "Year": "1978-01-01T00:00:00"
         },
         {
          "Acceleration": 16.7,
          "Cylinders": 6,
          "Displacement": 200,
          "Horsepower": 85,
          "Miles_per_Gallon": 20.8,
          "Name": "mercury zephyr",
          "Origin": "USA",
          "Weight_in_lbs": 3070,
          "Year": "1978-01-01T00:00:00"
         },
         {
          "Acceleration": 18.7,
          "Cylinders": 6,
          "Displacement": 225,
          "Horsepower": 110,
          "Miles_per_Gallon": 18.6,
          "Name": "dodge aspen",
          "Origin": "USA",
          "Weight_in_lbs": 3620,
          "Year": "1978-01-01T00:00:00"
         },
         {
          "Acceleration": 15.1,
          "Cylinders": 6,
          "Displacement": 258,
          "Horsepower": 120,
          "Miles_per_Gallon": 18.1,
          "Name": "amc concord d/l",
          "Origin": "USA",
          "Weight_in_lbs": 3410,
          "Year": "1978-01-01T00:00:00"
         },
         {
          "Acceleration": 13.2,
          "Cylinders": 8,
          "Displacement": 305,
          "Horsepower": 145,
          "Miles_per_Gallon": 19.2,
          "Name": "chevrolet monte carlo landau",
          "Origin": "USA",
          "Weight_in_lbs": 3425,
          "Year": "1978-01-01T00:00:00"
         },
         {
          "Acceleration": 13.4,
          "Cylinders": 6,
          "Displacement": 231,
          "Horsepower": 165,
          "Miles_per_Gallon": 17.7,
          "Name": "buick regal sport coupe (turbo)",
          "Origin": "USA",
          "Weight_in_lbs": 3445,
          "Year": "1978-01-01T00:00:00"
         },
         {
          "Acceleration": 11.2,
          "Cylinders": 8,
          "Displacement": 302,
          "Horsepower": 139,
          "Miles_per_Gallon": 18.1,
          "Name": "ford futura",
          "Origin": "USA",
          "Weight_in_lbs": 3205,
          "Year": "1978-01-01T00:00:00"
         },
         {
          "Acceleration": 13.7,
          "Cylinders": 8,
          "Displacement": 318,
          "Horsepower": 140,
          "Miles_per_Gallon": 17.5,
          "Name": "dodge magnum xe",
          "Origin": "USA",
          "Weight_in_lbs": 4080,
          "Year": "1978-01-01T00:00:00"
         },
         {
          "Acceleration": 16.5,
          "Cylinders": 4,
          "Displacement": 98,
          "Horsepower": 68,
          "Miles_per_Gallon": 30,
          "Name": "chevrolet chevette",
          "Origin": "USA",
          "Weight_in_lbs": 2155,
          "Year": "1978-01-01T00:00:00"
         },
         {
          "Acceleration": 14.2,
          "Cylinders": 4,
          "Displacement": 134,
          "Horsepower": 95,
          "Miles_per_Gallon": 27.5,
          "Name": "toyota corona",
          "Origin": "Japan",
          "Weight_in_lbs": 2560,
          "Year": "1978-01-01T00:00:00"
         },
         {
          "Acceleration": 14.7,
          "Cylinders": 4,
          "Displacement": 119,
          "Horsepower": 97,
          "Miles_per_Gallon": 27.2,
          "Name": "datsun 510",
          "Origin": "Japan",
          "Weight_in_lbs": 2300,
          "Year": "1978-01-01T00:00:00"
         },
         {
          "Acceleration": 14.5,
          "Cylinders": 4,
          "Displacement": 105,
          "Horsepower": 75,
          "Miles_per_Gallon": 30.9,
          "Name": "dodge omni",
          "Origin": "USA",
          "Weight_in_lbs": 2230,
          "Year": "1978-01-01T00:00:00"
         },
         {
          "Acceleration": 14.8,
          "Cylinders": 4,
          "Displacement": 134,
          "Horsepower": 95,
          "Miles_per_Gallon": 21.1,
          "Name": "toyota celica gt liftback",
          "Origin": "Japan",
          "Weight_in_lbs": 2515,
          "Year": "1978-01-01T00:00:00"
         },
         {
          "Acceleration": 16.7,
          "Cylinders": 4,
          "Displacement": 156,
          "Horsepower": 105,
          "Miles_per_Gallon": 23.2,
          "Name": "plymouth sapporo",
          "Origin": "USA",
          "Weight_in_lbs": 2745,
          "Year": "1978-01-01T00:00:00"
         },
         {
          "Acceleration": 17.6,
          "Cylinders": 4,
          "Displacement": 151,
          "Horsepower": 85,
          "Miles_per_Gallon": 23.8,
          "Name": "oldsmobile starfire sx",
          "Origin": "USA",
          "Weight_in_lbs": 2855,
          "Year": "1978-01-01T00:00:00"
         },
         {
          "Acceleration": 14.9,
          "Cylinders": 4,
          "Displacement": 119,
          "Horsepower": 97,
          "Miles_per_Gallon": 23.9,
          "Name": "datsun 200-sx",
          "Origin": "Japan",
          "Weight_in_lbs": 2405,
          "Year": "1978-01-01T00:00:00"
         },
         {
          "Acceleration": 15.9,
          "Cylinders": 5,
          "Displacement": 131,
          "Horsepower": 103,
          "Miles_per_Gallon": 20.3,
          "Name": "audi 5000",
          "Origin": "Europe",
          "Weight_in_lbs": 2830,
          "Year": "1978-01-01T00:00:00"
         },
         {
          "Acceleration": 13.6,
          "Cylinders": 6,
          "Displacement": 163,
          "Horsepower": 125,
          "Miles_per_Gallon": 17,
          "Name": "volvo 264gl",
          "Origin": "Europe",
          "Weight_in_lbs": 3140,
          "Year": "1978-01-01T00:00:00"
         },
         {
          "Acceleration": 15.7,
          "Cylinders": 4,
          "Displacement": 121,
          "Horsepower": 115,
          "Miles_per_Gallon": 21.6,
          "Name": "saab 99gle",
          "Origin": "Europe",
          "Weight_in_lbs": 2795,
          "Year": "1978-01-01T00:00:00"
         },
         {
          "Acceleration": 15.8,
          "Cylinders": 6,
          "Displacement": 163,
          "Horsepower": 133,
          "Miles_per_Gallon": 16.2,
          "Name": "peugeot 604sl",
          "Origin": "Europe",
          "Weight_in_lbs": 3410,
          "Year": "1978-01-01T00:00:00"
         },
         {
          "Acceleration": 14.9,
          "Cylinders": 4,
          "Displacement": 89,
          "Horsepower": 71,
          "Miles_per_Gallon": 31.5,
          "Name": "volkswagen scirocco",
          "Origin": "Europe",
          "Weight_in_lbs": 1990,
          "Year": "1978-01-01T00:00:00"
         },
         {
          "Acceleration": 16.6,
          "Cylinders": 4,
          "Displacement": 98,
          "Horsepower": 68,
          "Miles_per_Gallon": 29.5,
          "Name": "honda Accelerationord lx",
          "Origin": "Japan",
          "Weight_in_lbs": 2135,
          "Year": "1978-01-01T00:00:00"
         },
         {
          "Acceleration": 15.4,
          "Cylinders": 6,
          "Displacement": 231,
          "Horsepower": 115,
          "Miles_per_Gallon": 21.5,
          "Name": "pontiac lemans v6",
          "Origin": "USA",
          "Weight_in_lbs": 3245,
          "Year": "1979-01-01T00:00:00"
         },
         {
          "Acceleration": 18.2,
          "Cylinders": 6,
          "Displacement": 200,
          "Horsepower": 85,
          "Miles_per_Gallon": 19.8,
          "Name": "mercury zephyr 6",
          "Origin": "USA",
          "Weight_in_lbs": 2990,
          "Year": "1979-01-01T00:00:00"
         },
         {
          "Acceleration": 17.3,
          "Cylinders": 4,
          "Displacement": 140,
          "Horsepower": 88,
          "Miles_per_Gallon": 22.3,
          "Name": "ford fairmont 4",
          "Origin": "USA",
          "Weight_in_lbs": 2890,
          "Year": "1979-01-01T00:00:00"
         },
         {
          "Acceleration": 18.2,
          "Cylinders": 6,
          "Displacement": 232,
          "Horsepower": 90,
          "Miles_per_Gallon": 20.2,
          "Name": "amc concord dl 6",
          "Origin": "USA",
          "Weight_in_lbs": 3265,
          "Year": "1979-01-01T00:00:00"
         },
         {
          "Acceleration": 16.6,
          "Cylinders": 6,
          "Displacement": 225,
          "Horsepower": 110,
          "Miles_per_Gallon": 20.6,
          "Name": "dodge aspen 6",
          "Origin": "USA",
          "Weight_in_lbs": 3360,
          "Year": "1979-01-01T00:00:00"
         },
         {
          "Acceleration": 15.4,
          "Cylinders": 8,
          "Displacement": 305,
          "Horsepower": 130,
          "Miles_per_Gallon": 17,
          "Name": "chevrolet caprice classic",
          "Origin": "USA",
          "Weight_in_lbs": 3840,
          "Year": "1979-01-01T00:00:00"
         },
         {
          "Acceleration": 13.4,
          "Cylinders": 8,
          "Displacement": 302,
          "Horsepower": 129,
          "Miles_per_Gallon": 17.6,
          "Name": "ford ltd landau",
          "Origin": "USA",
          "Weight_in_lbs": 3725,
          "Year": "1979-01-01T00:00:00"
         },
         {
          "Acceleration": 13.2,
          "Cylinders": 8,
          "Displacement": 351,
          "Horsepower": 138,
          "Miles_per_Gallon": 16.5,
          "Name": "mercury grand marquis",
          "Origin": "USA",
          "Weight_in_lbs": 3955,
          "Year": "1979-01-01T00:00:00"
         },
         {
          "Acceleration": 15.2,
          "Cylinders": 8,
          "Displacement": 318,
          "Horsepower": 135,
          "Miles_per_Gallon": 18.2,
          "Name": "dodge st. regis",
          "Origin": "USA",
          "Weight_in_lbs": 3830,
          "Year": "1979-01-01T00:00:00"
         },
         {
          "Acceleration": 14.9,
          "Cylinders": 8,
          "Displacement": 350,
          "Horsepower": 155,
          "Miles_per_Gallon": 16.9,
          "Name": "buick estate wagon (sw)",
          "Origin": "USA",
          "Weight_in_lbs": 4360,
          "Year": "1979-01-01T00:00:00"
         },
         {
          "Acceleration": 14.3,
          "Cylinders": 8,
          "Displacement": 351,
          "Horsepower": 142,
          "Miles_per_Gallon": 15.5,
          "Name": "ford country squire (sw)",
          "Origin": "USA",
          "Weight_in_lbs": 4054,
          "Year": "1979-01-01T00:00:00"
         },
         {
          "Acceleration": 15,
          "Cylinders": 8,
          "Displacement": 267,
          "Horsepower": 125,
          "Miles_per_Gallon": 19.2,
          "Name": "chevrolet malibu classic (sw)",
          "Origin": "USA",
          "Weight_in_lbs": 3605,
          "Year": "1979-01-01T00:00:00"
         },
         {
          "Acceleration": 13,
          "Cylinders": 8,
          "Displacement": 360,
          "Horsepower": 150,
          "Miles_per_Gallon": 18.5,
          "Name": "chrysler lebaron town @ country (sw)",
          "Origin": "USA",
          "Weight_in_lbs": 3940,
          "Year": "1979-01-01T00:00:00"
         },
         {
          "Acceleration": 14,
          "Cylinders": 4,
          "Displacement": 89,
          "Horsepower": 71,
          "Miles_per_Gallon": 31.9,
          "Name": "vw rabbit custom",
          "Origin": "Europe",
          "Weight_in_lbs": 1925,
          "Year": "1979-01-01T00:00:00"
         },
         {
          "Acceleration": 15.2,
          "Cylinders": 4,
          "Displacement": 86,
          "Horsepower": 65,
          "Miles_per_Gallon": 34.1,
          "Name": "maxda glc deluxe",
          "Origin": "Japan",
          "Weight_in_lbs": 1975,
          "Year": "1979-01-01T00:00:00"
         },
         {
          "Acceleration": 14.4,
          "Cylinders": 4,
          "Displacement": 98,
          "Horsepower": 80,
          "Miles_per_Gallon": 35.7,
          "Name": "dodge colt hatchback custom",
          "Origin": "USA",
          "Weight_in_lbs": 1915,
          "Year": "1979-01-01T00:00:00"
         },
         {
          "Acceleration": 15,
          "Cylinders": 4,
          "Displacement": 121,
          "Horsepower": 80,
          "Miles_per_Gallon": 27.4,
          "Name": "amc spirit dl",
          "Origin": "USA",
          "Weight_in_lbs": 2670,
          "Year": "1979-01-01T00:00:00"
         },
         {
          "Acceleration": 20.1,
          "Cylinders": 5,
          "Displacement": 183,
          "Horsepower": 77,
          "Miles_per_Gallon": 25.4,
          "Name": "mercedes benz 300d",
          "Origin": "Europe",
          "Weight_in_lbs": 3530,
          "Year": "1979-01-01T00:00:00"
         },
         {
          "Acceleration": 17.4,
          "Cylinders": 8,
          "Displacement": 350,
          "Horsepower": 125,
          "Miles_per_Gallon": 23,
          "Name": "cadillac eldorado",
          "Origin": "USA",
          "Weight_in_lbs": 3900,
          "Year": "1979-01-01T00:00:00"
         },
         {
          "Acceleration": 24.8,
          "Cylinders": 4,
          "Displacement": 141,
          "Horsepower": 71,
          "Miles_per_Gallon": 27.2,
          "Name": "peugeot 504",
          "Origin": "Europe",
          "Weight_in_lbs": 3190,
          "Year": "1979-01-01T00:00:00"
         },
         {
          "Acceleration": 22.2,
          "Cylinders": 8,
          "Displacement": 260,
          "Horsepower": 90,
          "Miles_per_Gallon": 23.9,
          "Name": "oldsmobile cutlass salon brougham",
          "Origin": "USA",
          "Weight_in_lbs": 3420,
          "Year": "1979-01-01T00:00:00"
         },
         {
          "Acceleration": 13.2,
          "Cylinders": 4,
          "Displacement": 105,
          "Horsepower": 70,
          "Miles_per_Gallon": 34.2,
          "Name": "plymouth horizon",
          "Origin": "USA",
          "Weight_in_lbs": 2200,
          "Year": "1979-01-01T00:00:00"
         },
         {
          "Acceleration": 14.9,
          "Cylinders": 4,
          "Displacement": 105,
          "Horsepower": 70,
          "Miles_per_Gallon": 34.5,
          "Name": "plymouth horizon tc3",
          "Origin": "USA",
          "Weight_in_lbs": 2150,
          "Year": "1979-01-01T00:00:00"
         },
         {
          "Acceleration": 19.2,
          "Cylinders": 4,
          "Displacement": 85,
          "Horsepower": 65,
          "Miles_per_Gallon": 31.8,
          "Name": "datsun 210",
          "Origin": "Japan",
          "Weight_in_lbs": 2020,
          "Year": "1979-01-01T00:00:00"
         },
         {
          "Acceleration": 14.7,
          "Cylinders": 4,
          "Displacement": 91,
          "Horsepower": 69,
          "Miles_per_Gallon": 37.3,
          "Name": "fiat strada custom",
          "Origin": "Europe",
          "Weight_in_lbs": 2130,
          "Year": "1979-01-01T00:00:00"
         },
         {
          "Acceleration": 16,
          "Cylinders": 4,
          "Displacement": 151,
          "Horsepower": 90,
          "Miles_per_Gallon": 28.4,
          "Name": "buick skylark limited",
          "Origin": "USA",
          "Weight_in_lbs": 2670,
          "Year": "1979-01-01T00:00:00"
         },
         {
          "Acceleration": 11.3,
          "Cylinders": 6,
          "Displacement": 173,
          "Horsepower": 115,
          "Miles_per_Gallon": 28.8,
          "Name": "chevrolet citation",
          "Origin": "USA",
          "Weight_in_lbs": 2595,
          "Year": "1979-01-01T00:00:00"
         },
         {
          "Acceleration": 12.9,
          "Cylinders": 6,
          "Displacement": 173,
          "Horsepower": 115,
          "Miles_per_Gallon": 26.8,
          "Name": "oldsmobile omega brougham",
          "Origin": "USA",
          "Weight_in_lbs": 2700,
          "Year": "1979-01-01T00:00:00"
         },
         {
          "Acceleration": 13.2,
          "Cylinders": 4,
          "Displacement": 151,
          "Horsepower": 90,
          "Miles_per_Gallon": 33.5,
          "Name": "pontiac phoenix",
          "Origin": "USA",
          "Weight_in_lbs": 2556,
          "Year": "1979-01-01T00:00:00"
         },
         {
          "Acceleration": 14.7,
          "Cylinders": 4,
          "Displacement": 98,
          "Horsepower": 76,
          "Miles_per_Gallon": 41.5,
          "Name": "vw rabbit",
          "Origin": "Europe",
          "Weight_in_lbs": 2144,
          "Year": "1980-01-01T00:00:00"
         },
         {
          "Acceleration": 18.8,
          "Cylinders": 4,
          "Displacement": 89,
          "Horsepower": 60,
          "Miles_per_Gallon": 38.1,
          "Name": "toyota corolla tercel",
          "Origin": "Japan",
          "Weight_in_lbs": 1968,
          "Year": "1980-01-01T00:00:00"
         },
         {
          "Acceleration": 15.5,
          "Cylinders": 4,
          "Displacement": 98,
          "Horsepower": 70,
          "Miles_per_Gallon": 32.1,
          "Name": "chevrolet chevette",
          "Origin": "USA",
          "Weight_in_lbs": 2120,
          "Year": "1980-01-01T00:00:00"
         },
         {
          "Acceleration": 16.4,
          "Cylinders": 4,
          "Displacement": 86,
          "Horsepower": 65,
          "Miles_per_Gallon": 37.2,
          "Name": "datsun 310",
          "Origin": "Japan",
          "Weight_in_lbs": 2019,
          "Year": "1980-01-01T00:00:00"
         },
         {
          "Acceleration": 16.5,
          "Cylinders": 4,
          "Displacement": 151,
          "Horsepower": 90,
          "Miles_per_Gallon": 28,
          "Name": "chevrolet citation",
          "Origin": "USA",
          "Weight_in_lbs": 2678,
          "Year": "1980-01-01T00:00:00"
         },
         {
          "Acceleration": 18.1,
          "Cylinders": 4,
          "Displacement": 140,
          "Horsepower": 88,
          "Miles_per_Gallon": 26.4,
          "Name": "ford fairmont",
          "Origin": "USA",
          "Weight_in_lbs": 2870,
          "Year": "1980-01-01T00:00:00"
         },
         {
          "Acceleration": 20.1,
          "Cylinders": 4,
          "Displacement": 151,
          "Horsepower": 90,
          "Miles_per_Gallon": 24.3,
          "Name": "amc concord",
          "Origin": "USA",
          "Weight_in_lbs": 3003,
          "Year": "1980-01-01T00:00:00"
         },
         {
          "Acceleration": 18.7,
          "Cylinders": 6,
          "Displacement": 225,
          "Horsepower": 90,
          "Miles_per_Gallon": 19.1,
          "Name": "dodge aspen",
          "Origin": "USA",
          "Weight_in_lbs": 3381,
          "Year": "1980-01-01T00:00:00"
         },
         {
          "Acceleration": 15.8,
          "Cylinders": 4,
          "Displacement": 97,
          "Horsepower": 78,
          "Miles_per_Gallon": 34.3,
          "Name": "audi 4000",
          "Origin": "Europe",
          "Weight_in_lbs": 2188,
          "Year": "1980-01-01T00:00:00"
         },
         {
          "Acceleration": 15.5,
          "Cylinders": 4,
          "Displacement": 134,
          "Horsepower": 90,
          "Miles_per_Gallon": 29.8,
          "Name": "toyota corona liftback",
          "Origin": "Japan",
          "Weight_in_lbs": 2711,
          "Year": "1980-01-01T00:00:00"
         },
         {
          "Acceleration": 17.5,
          "Cylinders": 4,
          "Displacement": 120,
          "Horsepower": 75,
          "Miles_per_Gallon": 31.3,
          "Name": "mazda 626",
          "Origin": "Japan",
          "Weight_in_lbs": 2542,
          "Year": "1980-01-01T00:00:00"
         },
         {
          "Acceleration": 15,
          "Cylinders": 4,
          "Displacement": 119,
          "Horsepower": 92,
          "Miles_per_Gallon": 37,
          "Name": "datsun 510 hatchback",
          "Origin": "Japan",
          "Weight_in_lbs": 2434,
          "Year": "1980-01-01T00:00:00"
         },
         {
          "Acceleration": 15.2,
          "Cylinders": 4,
          "Displacement": 108,
          "Horsepower": 75,
          "Miles_per_Gallon": 32.2,
          "Name": "toyota corolla",
          "Origin": "Japan",
          "Weight_in_lbs": 2265,
          "Year": "1980-01-01T00:00:00"
         },
         {
          "Acceleration": 17.9,
          "Cylinders": 4,
          "Displacement": 86,
          "Horsepower": 65,
          "Miles_per_Gallon": 46.6,
          "Name": "mazda glc",
          "Origin": "Japan",
          "Weight_in_lbs": 2110,
          "Year": "1980-01-01T00:00:00"
         },
         {
          "Acceleration": 14.4,
          "Cylinders": 4,
          "Displacement": 156,
          "Horsepower": 105,
          "Miles_per_Gallon": 27.9,
          "Name": "dodge colt",
          "Origin": "USA",
          "Weight_in_lbs": 2800,
          "Year": "1980-01-01T00:00:00"
         },
         {
          "Acceleration": 19.2,
          "Cylinders": 4,
          "Displacement": 85,
          "Horsepower": 65,
          "Miles_per_Gallon": 40.8,
          "Name": "datsun 210",
          "Origin": "Japan",
          "Weight_in_lbs": 2110,
          "Year": "1980-01-01T00:00:00"
         },
         {
          "Acceleration": 21.7,
          "Cylinders": 4,
          "Displacement": 90,
          "Horsepower": 48,
          "Miles_per_Gallon": 44.3,
          "Name": "vw rabbit c (diesel)",
          "Origin": "Europe",
          "Weight_in_lbs": 2085,
          "Year": "1980-01-01T00:00:00"
         },
         {
          "Acceleration": 23.7,
          "Cylinders": 4,
          "Displacement": 90,
          "Horsepower": 48,
          "Miles_per_Gallon": 43.4,
          "Name": "vw dasher (diesel)",
          "Origin": "Europe",
          "Weight_in_lbs": 2335,
          "Year": "1980-01-01T00:00:00"
         },
         {
          "Acceleration": 19.9,
          "Cylinders": 5,
          "Displacement": 121,
          "Horsepower": 67,
          "Miles_per_Gallon": 36.4,
          "Name": "audi 5000s (diesel)",
          "Origin": "Europe",
          "Weight_in_lbs": 2950,
          "Year": "1980-01-01T00:00:00"
         },
         {
          "Acceleration": 21.8,
          "Cylinders": 4,
          "Displacement": 146,
          "Horsepower": 67,
          "Miles_per_Gallon": 30,
          "Name": "mercedes-benz 240d",
          "Origin": "Europe",
          "Weight_in_lbs": 3250,
          "Year": "1980-01-01T00:00:00"
         },
         {
          "Acceleration": 13.8,
          "Cylinders": 4,
          "Displacement": 91,
          "Horsepower": 67,
          "Miles_per_Gallon": 44.6,
          "Name": "honda civic 1500 gl",
          "Origin": "Japan",
          "Weight_in_lbs": 1850,
          "Year": "1980-01-01T00:00:00"
         },
         {
          "Acceleration": 17.3,
          "Cylinders": 4,
          "Displacement": 85,
          "Horsepower": null,
          "Miles_per_Gallon": 40.9,
          "Name": "renault lecar deluxe",
          "Origin": "Europe",
          "Weight_in_lbs": 1835,
          "Year": "1980-01-01T00:00:00"
         },
         {
          "Acceleration": 18,
          "Cylinders": 4,
          "Displacement": 97,
          "Horsepower": 67,
          "Miles_per_Gallon": 33.8,
          "Name": "subaru dl",
          "Origin": "Japan",
          "Weight_in_lbs": 2145,
          "Year": "1980-01-01T00:00:00"
         },
         {
          "Acceleration": 15.3,
          "Cylinders": 4,
          "Displacement": 89,
          "Horsepower": 62,
          "Miles_per_Gallon": 29.8,
          "Name": "vokswagen rabbit",
          "Origin": "Europe",
          "Weight_in_lbs": 1845,
          "Year": "1980-01-01T00:00:00"
         },
         {
          "Acceleration": 11.4,
          "Cylinders": 6,
          "Displacement": 168,
          "Horsepower": 132,
          "Miles_per_Gallon": 32.7,
          "Name": "datsun 280-zx",
          "Origin": "Japan",
          "Weight_in_lbs": 2910,
          "Year": "1980-01-01T00:00:00"
         },
         {
          "Acceleration": 12.5,
          "Cylinders": 3,
          "Displacement": 70,
          "Horsepower": 100,
          "Miles_per_Gallon": 23.7,
          "Name": "mazda rx-7 gs",
          "Origin": "Japan",
          "Weight_in_lbs": 2420,
          "Year": "1980-01-01T00:00:00"
         },
         {
          "Acceleration": 15.1,
          "Cylinders": 4,
          "Displacement": 122,
          "Horsepower": 88,
          "Miles_per_Gallon": 35,
          "Name": "triumph tr7 coupe",
          "Origin": "Europe",
          "Weight_in_lbs": 2500,
          "Year": "1980-01-01T00:00:00"
         },
         {
          "Acceleration": 14.3,
          "Cylinders": 4,
          "Displacement": 140,
          "Horsepower": null,
          "Miles_per_Gallon": 23.6,
          "Name": "ford mustang cobra",
          "Origin": "USA",
          "Weight_in_lbs": 2905,
          "Year": "1980-01-01T00:00:00"
         },
         {
          "Acceleration": 17,
          "Cylinders": 4,
          "Displacement": 107,
          "Horsepower": 72,
          "Miles_per_Gallon": 32.4,
          "Name": "honda Accelerationord",
          "Origin": "Japan",
          "Weight_in_lbs": 2290,
          "Year": "1980-01-01T00:00:00"
         },
         {
          "Acceleration": 15.7,
          "Cylinders": 4,
          "Displacement": 135,
          "Horsepower": 84,
          "Miles_per_Gallon": 27.2,
          "Name": "plymouth reliant",
          "Origin": "USA",
          "Weight_in_lbs": 2490,
          "Year": "1982-01-01T00:00:00"
         },
         {
          "Acceleration": 16.4,
          "Cylinders": 4,
          "Displacement": 151,
          "Horsepower": 84,
          "Miles_per_Gallon": 26.6,
          "Name": "buick skylark",
          "Origin": "USA",
          "Weight_in_lbs": 2635,
          "Year": "1982-01-01T00:00:00"
         },
         {
          "Acceleration": 14.4,
          "Cylinders": 4,
          "Displacement": 156,
          "Horsepower": 92,
          "Miles_per_Gallon": 25.8,
          "Name": "dodge aries wagon (sw)",
          "Origin": "USA",
          "Weight_in_lbs": 2620,
          "Year": "1982-01-01T00:00:00"
         },
         {
          "Acceleration": 12.6,
          "Cylinders": 6,
          "Displacement": 173,
          "Horsepower": 110,
          "Miles_per_Gallon": 23.5,
          "Name": "chevrolet citation",
          "Origin": "USA",
          "Weight_in_lbs": 2725,
          "Year": "1982-01-01T00:00:00"
         },
         {
          "Acceleration": 12.9,
          "Cylinders": 4,
          "Displacement": 135,
          "Horsepower": 84,
          "Miles_per_Gallon": 30,
          "Name": "plymouth reliant",
          "Origin": "USA",
          "Weight_in_lbs": 2385,
          "Year": "1982-01-01T00:00:00"
         },
         {
          "Acceleration": 16.9,
          "Cylinders": 4,
          "Displacement": 79,
          "Horsepower": 58,
          "Miles_per_Gallon": 39.1,
          "Name": "toyota starlet",
          "Origin": "Japan",
          "Weight_in_lbs": 1755,
          "Year": "1982-01-01T00:00:00"
         },
         {
          "Acceleration": 16.4,
          "Cylinders": 4,
          "Displacement": 86,
          "Horsepower": 64,
          "Miles_per_Gallon": 39,
          "Name": "plymouth champ",
          "Origin": "USA",
          "Weight_in_lbs": 1875,
          "Year": "1982-01-01T00:00:00"
         },
         {
          "Acceleration": 16.1,
          "Cylinders": 4,
          "Displacement": 81,
          "Horsepower": 60,
          "Miles_per_Gallon": 35.1,
          "Name": "honda civic 1300",
          "Origin": "Japan",
          "Weight_in_lbs": 1760,
          "Year": "1982-01-01T00:00:00"
         },
         {
          "Acceleration": 17.8,
          "Cylinders": 4,
          "Displacement": 97,
          "Horsepower": 67,
          "Miles_per_Gallon": 32.3,
          "Name": "subaru",
          "Origin": "Japan",
          "Weight_in_lbs": 2065,
          "Year": "1982-01-01T00:00:00"
         },
         {
          "Acceleration": 19.4,
          "Cylinders": 4,
          "Displacement": 85,
          "Horsepower": 65,
          "Miles_per_Gallon": 37,
          "Name": "datsun 210",
          "Origin": "Japan",
          "Weight_in_lbs": 1975,
          "Year": "1982-01-01T00:00:00"
         },
         {
          "Acceleration": 17.3,
          "Cylinders": 4,
          "Displacement": 89,
          "Horsepower": 62,
          "Miles_per_Gallon": 37.7,
          "Name": "toyota tercel",
          "Origin": "Japan",
          "Weight_in_lbs": 2050,
          "Year": "1982-01-01T00:00:00"
         },
         {
          "Acceleration": 16,
          "Cylinders": 4,
          "Displacement": 91,
          "Horsepower": 68,
          "Miles_per_Gallon": 34.1,
          "Name": "mazda glc 4",
          "Origin": "Japan",
          "Weight_in_lbs": 1985,
          "Year": "1982-01-01T00:00:00"
         },
         {
          "Acceleration": 14.9,
          "Cylinders": 4,
          "Displacement": 105,
          "Horsepower": 63,
          "Miles_per_Gallon": 34.7,
          "Name": "plymouth horizon 4",
          "Origin": "USA",
          "Weight_in_lbs": 2215,
          "Year": "1982-01-01T00:00:00"
         },
         {
          "Acceleration": 16.2,
          "Cylinders": 4,
          "Displacement": 98,
          "Horsepower": 65,
          "Miles_per_Gallon": 34.4,
          "Name": "ford escort 4w",
          "Origin": "USA",
          "Weight_in_lbs": 2045,
          "Year": "1982-01-01T00:00:00"
         },
         {
          "Acceleration": 20.7,
          "Cylinders": 4,
          "Displacement": 98,
          "Horsepower": 65,
          "Miles_per_Gallon": 29.9,
          "Name": "ford escort 2h",
          "Origin": "USA",
          "Weight_in_lbs": 2380,
          "Year": "1982-01-01T00:00:00"
         },
         {
          "Acceleration": 14.2,
          "Cylinders": 4,
          "Displacement": 105,
          "Horsepower": 74,
          "Miles_per_Gallon": 33,
          "Name": "volkswagen jetta",
          "Origin": "Europe",
          "Weight_in_lbs": 2190,
          "Year": "1982-01-01T00:00:00"
         },
         {
          "Acceleration": 15.8,
          "Cylinders": 4,
          "Displacement": 100,
          "Horsepower": null,
          "Miles_per_Gallon": 34.5,
          "Name": "renault 18i",
          "Origin": "Europe",
          "Weight_in_lbs": 2320,
          "Year": "1982-01-01T00:00:00"
         },
         {
          "Acceleration": 14.4,
          "Cylinders": 4,
          "Displacement": 107,
          "Horsepower": 75,
          "Miles_per_Gallon": 33.7,
          "Name": "honda prelude",
          "Origin": "Japan",
          "Weight_in_lbs": 2210,
          "Year": "1982-01-01T00:00:00"
         },
         {
          "Acceleration": 16.8,
          "Cylinders": 4,
          "Displacement": 108,
          "Horsepower": 75,
          "Miles_per_Gallon": 32.4,
          "Name": "toyota corolla",
          "Origin": "Japan",
          "Weight_in_lbs": 2350,
          "Year": "1982-01-01T00:00:00"
         },
         {
          "Acceleration": 14.8,
          "Cylinders": 4,
          "Displacement": 119,
          "Horsepower": 100,
          "Miles_per_Gallon": 32.9,
          "Name": "datsun 200sx",
          "Origin": "Japan",
          "Weight_in_lbs": 2615,
          "Year": "1982-01-01T00:00:00"
         },
         {
          "Acceleration": 18.3,
          "Cylinders": 4,
          "Displacement": 120,
          "Horsepower": 74,
          "Miles_per_Gallon": 31.6,
          "Name": "mazda 626",
          "Origin": "Japan",
          "Weight_in_lbs": 2635,
          "Year": "1982-01-01T00:00:00"
         },
         {
          "Acceleration": 20.4,
          "Cylinders": 4,
          "Displacement": 141,
          "Horsepower": 80,
          "Miles_per_Gallon": 28.1,
          "Name": "peugeot 505s turbo diesel",
          "Origin": "Europe",
          "Weight_in_lbs": 3230,
          "Year": "1982-01-01T00:00:00"
         },
         {
          "Acceleration": 15.4,
          "Cylinders": 4,
          "Displacement": 121,
          "Horsepower": 110,
          "Miles_per_Gallon": null,
          "Name": "saab 900s",
          "Origin": "Europe",
          "Weight_in_lbs": 2800,
          "Year": "1982-01-01T00:00:00"
         },
         {
          "Acceleration": 19.6,
          "Cylinders": 6,
          "Displacement": 145,
          "Horsepower": 76,
          "Miles_per_Gallon": 30.7,
          "Name": "volvo diesel",
          "Origin": "Europe",
          "Weight_in_lbs": 3160,
          "Year": "1982-01-01T00:00:00"
         },
         {
          "Acceleration": 12.6,
          "Cylinders": 6,
          "Displacement": 168,
          "Horsepower": 116,
          "Miles_per_Gallon": 25.4,
          "Name": "toyota cressida",
          "Origin": "Japan",
          "Weight_in_lbs": 2900,
          "Year": "1982-01-01T00:00:00"
         },
         {
          "Acceleration": 13.8,
          "Cylinders": 6,
          "Displacement": 146,
          "Horsepower": 120,
          "Miles_per_Gallon": 24.2,
          "Name": "datsun 810 maxima",
          "Origin": "Japan",
          "Weight_in_lbs": 2930,
          "Year": "1982-01-01T00:00:00"
         },
         {
          "Acceleration": 15.8,
          "Cylinders": 6,
          "Displacement": 231,
          "Horsepower": 110,
          "Miles_per_Gallon": 22.4,
          "Name": "buick century",
          "Origin": "USA",
          "Weight_in_lbs": 3415,
          "Year": "1982-01-01T00:00:00"
         },
         {
          "Acceleration": 19,
          "Cylinders": 8,
          "Displacement": 350,
          "Horsepower": 105,
          "Miles_per_Gallon": 26.6,
          "Name": "oldsmobile cutlass ls",
          "Origin": "USA",
          "Weight_in_lbs": 3725,
          "Year": "1982-01-01T00:00:00"
         },
         {
          "Acceleration": 17.1,
          "Cylinders": 6,
          "Displacement": 200,
          "Horsepower": 88,
          "Miles_per_Gallon": 20.2,
          "Name": "ford granada gl",
          "Origin": "USA",
          "Weight_in_lbs": 3060,
          "Year": "1982-01-01T00:00:00"
         },
         {
          "Acceleration": 16.6,
          "Cylinders": 6,
          "Displacement": 225,
          "Horsepower": 85,
          "Miles_per_Gallon": 17.6,
          "Name": "chrysler lebaron salon",
          "Origin": "USA",
          "Weight_in_lbs": 3465,
          "Year": "1982-01-01T00:00:00"
         },
         {
          "Acceleration": 19.6,
          "Cylinders": 4,
          "Displacement": 112,
          "Horsepower": 88,
          "Miles_per_Gallon": 28,
          "Name": "chevrolet cavalier",
          "Origin": "USA",
          "Weight_in_lbs": 2605,
          "Year": "1982-01-01T00:00:00"
         },
         {
          "Acceleration": 18.6,
          "Cylinders": 4,
          "Displacement": 112,
          "Horsepower": 88,
          "Miles_per_Gallon": 27,
          "Name": "chevrolet cavalier wagon",
          "Origin": "USA",
          "Weight_in_lbs": 2640,
          "Year": "1982-01-01T00:00:00"
         },
         {
          "Acceleration": 18,
          "Cylinders": 4,
          "Displacement": 112,
          "Horsepower": 88,
          "Miles_per_Gallon": 34,
          "Name": "chevrolet cavalier 2-door",
          "Origin": "USA",
          "Weight_in_lbs": 2395,
          "Year": "1982-01-01T00:00:00"
         },
         {
          "Acceleration": 16.2,
          "Cylinders": 4,
          "Displacement": 112,
          "Horsepower": 85,
          "Miles_per_Gallon": 31,
          "Name": "pontiac j2000 se hatchback",
          "Origin": "USA",
          "Weight_in_lbs": 2575,
          "Year": "1982-01-01T00:00:00"
         },
         {
          "Acceleration": 16,
          "Cylinders": 4,
          "Displacement": 135,
          "Horsepower": 84,
          "Miles_per_Gallon": 29,
          "Name": "dodge aries se",
          "Origin": "USA",
          "Weight_in_lbs": 2525,
          "Year": "1982-01-01T00:00:00"
         },
         {
          "Acceleration": 18,
          "Cylinders": 4,
          "Displacement": 151,
          "Horsepower": 90,
          "Miles_per_Gallon": 27,
          "Name": "pontiac phoenix",
          "Origin": "USA",
          "Weight_in_lbs": 2735,
          "Year": "1982-01-01T00:00:00"
         },
         {
          "Acceleration": 16.4,
          "Cylinders": 4,
          "Displacement": 140,
          "Horsepower": 92,
          "Miles_per_Gallon": 24,
          "Name": "ford fairmont futura",
          "Origin": "USA",
          "Weight_in_lbs": 2865,
          "Year": "1982-01-01T00:00:00"
         },
         {
          "Acceleration": 20.5,
          "Cylinders": 4,
          "Displacement": 151,
          "Horsepower": null,
          "Miles_per_Gallon": 23,
          "Name": "amc concord dl",
          "Origin": "USA",
          "Weight_in_lbs": 3035,
          "Year": "1982-01-01T00:00:00"
         },
         {
          "Acceleration": 15.3,
          "Cylinders": 4,
          "Displacement": 105,
          "Horsepower": 74,
          "Miles_per_Gallon": 36,
          "Name": "volkswagen rabbit l",
          "Origin": "Europe",
          "Weight_in_lbs": 1980,
          "Year": "1982-01-01T00:00:00"
         },
         {
          "Acceleration": 18.2,
          "Cylinders": 4,
          "Displacement": 91,
          "Horsepower": 68,
          "Miles_per_Gallon": 37,
          "Name": "mazda glc custom l",
          "Origin": "Japan",
          "Weight_in_lbs": 2025,
          "Year": "1982-01-01T00:00:00"
         },
         {
          "Acceleration": 17.6,
          "Cylinders": 4,
          "Displacement": 91,
          "Horsepower": 68,
          "Miles_per_Gallon": 31,
          "Name": "mazda glc custom",
          "Origin": "Japan",
          "Weight_in_lbs": 1970,
          "Year": "1982-01-01T00:00:00"
         },
         {
          "Acceleration": 14.7,
          "Cylinders": 4,
          "Displacement": 105,
          "Horsepower": 63,
          "Miles_per_Gallon": 38,
          "Name": "plymouth horizon miser",
          "Origin": "USA",
          "Weight_in_lbs": 2125,
          "Year": "1982-01-01T00:00:00"
         },
         {
          "Acceleration": 17.3,
          "Cylinders": 4,
          "Displacement": 98,
          "Horsepower": 70,
          "Miles_per_Gallon": 36,
          "Name": "mercury lynx l",
          "Origin": "USA",
          "Weight_in_lbs": 2125,
          "Year": "1982-01-01T00:00:00"
         },
         {
          "Acceleration": 14.5,
          "Cylinders": 4,
          "Displacement": 120,
          "Horsepower": 88,
          "Miles_per_Gallon": 36,
          "Name": "nissan stanza xe",
          "Origin": "Japan",
          "Weight_in_lbs": 2160,
          "Year": "1982-01-01T00:00:00"
         },
         {
          "Acceleration": 14.5,
          "Cylinders": 4,
          "Displacement": 107,
          "Horsepower": 75,
          "Miles_per_Gallon": 36,
          "Name": "honda Accelerationord",
          "Origin": "Japan",
          "Weight_in_lbs": 2205,
          "Year": "1982-01-01T00:00:00"
         },
         {
          "Acceleration": 16.9,
          "Cylinders": 4,
          "Displacement": 108,
          "Horsepower": 70,
          "Miles_per_Gallon": 34,
          "Name": "toyota corolla",
          "Origin": "Japan",
          "Weight_in_lbs": 2245,
          "Year": "1982-01-01T00:00:00"
         },
         {
          "Acceleration": 15,
          "Cylinders": 4,
          "Displacement": 91,
          "Horsepower": 67,
          "Miles_per_Gallon": 38,
          "Name": "honda civic",
          "Origin": "Japan",
          "Weight_in_lbs": 1965,
          "Year": "1982-01-01T00:00:00"
         },
         {
          "Acceleration": 15.7,
          "Cylinders": 4,
          "Displacement": 91,
          "Horsepower": 67,
          "Miles_per_Gallon": 32,
          "Name": "honda civic (auto)",
          "Origin": "Japan",
          "Weight_in_lbs": 1965,
          "Year": "1982-01-01T00:00:00"
         },
         {
          "Acceleration": 16.2,
          "Cylinders": 4,
          "Displacement": 91,
          "Horsepower": 67,
          "Miles_per_Gallon": 38,
          "Name": "datsun 310 gx",
          "Origin": "Japan",
          "Weight_in_lbs": 1995,
          "Year": "1982-01-01T00:00:00"
         },
         {
          "Acceleration": 16.4,
          "Cylinders": 6,
          "Displacement": 181,
          "Horsepower": 110,
          "Miles_per_Gallon": 25,
          "Name": "buick century limited",
          "Origin": "USA",
          "Weight_in_lbs": 2945,
          "Year": "1982-01-01T00:00:00"
         },
         {
          "Acceleration": 17,
          "Cylinders": 6,
          "Displacement": 262,
          "Horsepower": 85,
          "Miles_per_Gallon": 38,
          "Name": "oldsmobile cutlass ciera (diesel)",
          "Origin": "USA",
          "Weight_in_lbs": 3015,
          "Year": "1982-01-01T00:00:00"
         },
         {
          "Acceleration": 14.5,
          "Cylinders": 4,
          "Displacement": 156,
          "Horsepower": 92,
          "Miles_per_Gallon": 26,
          "Name": "chrysler lebaron medallion",
          "Origin": "USA",
          "Weight_in_lbs": 2585,
          "Year": "1982-01-01T00:00:00"
         },
         {
          "Acceleration": 14.7,
          "Cylinders": 6,
          "Displacement": 232,
          "Horsepower": 112,
          "Miles_per_Gallon": 22,
          "Name": "ford granada l",
          "Origin": "USA",
          "Weight_in_lbs": 2835,
          "Year": "1982-01-01T00:00:00"
         },
         {
          "Acceleration": 13.9,
          "Cylinders": 4,
          "Displacement": 144,
          "Horsepower": 96,
          "Miles_per_Gallon": 32,
          "Name": "toyota celica gt",
          "Origin": "Japan",
          "Weight_in_lbs": 2665,
          "Year": "1982-01-01T00:00:00"
         },
         {
          "Acceleration": 13,
          "Cylinders": 4,
          "Displacement": 135,
          "Horsepower": 84,
          "Miles_per_Gallon": 36,
          "Name": "dodge charger 2.2",
          "Origin": "USA",
          "Weight_in_lbs": 2370,
          "Year": "1982-01-01T00:00:00"
         },
         {
          "Acceleration": 17.3,
          "Cylinders": 4,
          "Displacement": 151,
          "Horsepower": 90,
          "Miles_per_Gallon": 27,
          "Name": "chevrolet camaro",
          "Origin": "USA",
          "Weight_in_lbs": 2950,
          "Year": "1982-01-01T00:00:00"
         },
         {
          "Acceleration": 15.6,
          "Cylinders": 4,
          "Displacement": 140,
          "Horsepower": 86,
          "Miles_per_Gallon": 27,
          "Name": "ford mustang gl",
          "Origin": "USA",
          "Weight_in_lbs": 2790,
          "Year": "1982-01-01T00:00:00"
         },
         {
          "Acceleration": 24.6,
          "Cylinders": 4,
          "Displacement": 97,
          "Horsepower": 52,
          "Miles_per_Gallon": 44,
          "Name": "vw pickup",
          "Origin": "Europe",
          "Weight_in_lbs": 2130,
          "Year": "1982-01-01T00:00:00"
         },
         {
          "Acceleration": 11.6,
          "Cylinders": 4,
          "Displacement": 135,
          "Horsepower": 84,
          "Miles_per_Gallon": 32,
          "Name": "dodge rampage",
          "Origin": "USA",
          "Weight_in_lbs": 2295,
          "Year": "1982-01-01T00:00:00"
         },
         {
          "Acceleration": 18.6,
          "Cylinders": 4,
          "Displacement": 120,
          "Horsepower": 79,
          "Miles_per_Gallon": 28,
          "Name": "ford ranger",
          "Origin": "USA",
          "Weight_in_lbs": 2625,
          "Year": "1982-01-01T00:00:00"
         },
         {
          "Acceleration": 19.4,
          "Cylinders": 4,
          "Displacement": 119,
          "Horsepower": 82,
          "Miles_per_Gallon": 31,
          "Name": "chevy s-10",
          "Origin": "USA",
          "Weight_in_lbs": 2720,
          "Year": "1982-01-01T00:00:00"
         }
        ]
       },
       "encoding": {
        "color": {
         "field": "Origin",
         "type": "nominal"
        },
        "tooltip": [
         {
          "field": "Name",
          "type": "nominal"
         }
        ],
        "x": {
         "field": "Horsepower",
         "type": "quantitative"
        },
        "y": {
         "field": "Miles_per_Gallon",
         "type": "quantitative"
        }
       },
       "mark": {
        "size": 60,
        "type": "circle"
       },
       "selection": {
        "selector003": {
         "bind": "scales",
         "encodings": [
          "x",
          "y"
         ],
         "mark": {
          "fill": "#333",
          "fillOpacity": 0.125,
          "stroke": "white"
         },
         "on": "[mousedown, window:mouseup] > window:mousemove!",
         "resolve": "global",
         "translate": "[mousedown, window:mouseup] > window:mousemove!",
         "type": "interval",
         "zoom": "wheel!"
        }
       }
      },
      "image/png": "[encoded data removed]",
      "text/plain": [
       "<VegaLite 2 object>\n",
       "\n",
       "If you see this message, it means the renderer has not been properly enabled\n",
       "for the frontend that you are using. For more information, see\n",
       "https://altair-viz.github.io/user_guide/troubleshooting.html\n"
      ]
     },
     "execution_count": 28,
     "metadata": {},
     "output_type": "execute_result"
    }
   ],
   "source": [
    "source = data.cars()\n",
    "\n",
    "alt.Chart(source).mark_circle(size=60).encode(\n",
    "    x='Horsepower',\n",
    "    y='Miles_per_Gallon',\n",
    "    color='Origin',\n",
    "    tooltip=['Name'],\n",
    ").interactive()"
   ]
  },
  {
   "cell_type": "code",
   "execution_count": 29,
   "metadata": {},
   "outputs": [
    {
     "data": {
      "application/vnd.vegalite.v2+json": {
       "$schema": "https://vega.github.io/schema/vega-lite/v2.6.0.json",
       "config": {
        "view": {
         "height": 300,
         "width": 400
        }
       },
       "data": {
        "name": "data-bb61008ba0c766c5601afa5323d12ad4"
       },
       "datasets": {
        "data-bb61008ba0c766c5601afa5323d12ad4": [
         {
          "net_generation": 35361,
          "source": "Fossil Fuels",
          "year": "2001-01-01T00:00:00"
         },
         {
          "net_generation": 35991,
          "source": "Fossil Fuels",
          "year": "2002-01-01T00:00:00"
         },
         {
          "net_generation": 36234,
          "source": "Fossil Fuels",
          "year": "2003-01-01T00:00:00"
         },
         {
          "net_generation": 36205,
          "source": "Fossil Fuels",
          "year": "2004-01-01T00:00:00"
         },
         {
          "net_generation": 36883,
          "source": "Fossil Fuels",
          "year": "2005-01-01T00:00:00"
         },
         {
          "net_generation": 37014,
          "source": "Fossil Fuels",
          "year": "2006-01-01T00:00:00"
         },
         {
          "net_generation": 41389,
          "source": "Fossil Fuels",
          "year": "2007-01-01T00:00:00"
         },
         {
          "net_generation": 42734,
          "source": "Fossil Fuels",
          "year": "2008-01-01T00:00:00"
         },
         {
          "net_generation": 38620,
          "source": "Fossil Fuels",
          "year": "2009-01-01T00:00:00"
         },
         {
          "net_generation": 42750,
          "source": "Fossil Fuels",
          "year": "2010-01-01T00:00:00"
         },
         {
          "net_generation": 39361,
          "source": "Fossil Fuels",
          "year": "2011-01-01T00:00:00"
         },
         {
          "net_generation": 37379,
          "source": "Fossil Fuels",
          "year": "2012-01-01T00:00:00"
         },
         {
          "net_generation": 34873,
          "source": "Fossil Fuels",
          "year": "2013-01-01T00:00:00"
         },
         {
          "net_generation": 35250,
          "source": "Fossil Fuels",
          "year": "2014-01-01T00:00:00"
         },
         {
          "net_generation": 32319,
          "source": "Fossil Fuels",
          "year": "2015-01-01T00:00:00"
         },
         {
          "net_generation": 28437,
          "source": "Fossil Fuels",
          "year": "2016-01-01T00:00:00"
         },
         {
          "net_generation": 29329,
          "source": "Fossil Fuels",
          "year": "2017-01-01T00:00:00"
         },
         {
          "net_generation": 3853,
          "source": "Nuclear Energy",
          "year": "2001-01-01T00:00:00"
         },
         {
          "net_generation": 4574,
          "source": "Nuclear Energy",
          "year": "2002-01-01T00:00:00"
         },
         {
          "net_generation": 3988,
          "source": "Nuclear Energy",
          "year": "2003-01-01T00:00:00"
         },
         {
          "net_generation": 4929,
          "source": "Nuclear Energy",
          "year": "2004-01-01T00:00:00"
         },
         {
          "net_generation": 4538,
          "source": "Nuclear Energy",
          "year": "2005-01-01T00:00:00"
         },
         {
          "net_generation": 5095,
          "source": "Nuclear Energy",
          "year": "2006-01-01T00:00:00"
         },
         {
          "net_generation": 4519,
          "source": "Nuclear Energy",
          "year": "2007-01-01T00:00:00"
         },
         {
          "net_generation": 5282,
          "source": "Nuclear Energy",
          "year": "2008-01-01T00:00:00"
         },
         {
          "net_generation": 4679,
          "source": "Nuclear Energy",
          "year": "2009-01-01T00:00:00"
         },
         {
          "net_generation": 4451,
          "source": "Nuclear Energy",
          "year": "2010-01-01T00:00:00"
         },
         {
          "net_generation": 5215,
          "source": "Nuclear Energy",
          "year": "2011-01-01T00:00:00"
         },
         {
          "net_generation": 4347,
          "source": "Nuclear Energy",
          "year": "2012-01-01T00:00:00"
         },
         {
          "net_generation": 5321,
          "source": "Nuclear Energy",
          "year": "2013-01-01T00:00:00"
         },
         {
          "net_generation": 4152,
          "source": "Nuclear Energy",
          "year": "2014-01-01T00:00:00"
         },
         {
          "net_generation": 5243,
          "source": "Nuclear Energy",
          "year": "2015-01-01T00:00:00"
         },
         {
          "net_generation": 4703,
          "source": "Nuclear Energy",
          "year": "2016-01-01T00:00:00"
         },
         {
          "net_generation": 5214,
          "source": "Nuclear Energy",
          "year": "2017-01-01T00:00:00"
         },
         {
          "net_generation": 1437,
          "source": "Renewables",
          "year": "2001-01-01T00:00:00"
         },
         {
          "net_generation": 1963,
          "source": "Renewables",
          "year": "2002-01-01T00:00:00"
         },
         {
          "net_generation": 1885,
          "source": "Renewables",
          "year": "2003-01-01T00:00:00"
         },
         {
          "net_generation": 2102,
          "source": "Renewables",
          "year": "2004-01-01T00:00:00"
         },
         {
          "net_generation": 2724,
          "source": "Renewables",
          "year": "2005-01-01T00:00:00"
         },
         {
          "net_generation": 3364,
          "source": "Renewables",
          "year": "2006-01-01T00:00:00"
         },
         {
          "net_generation": 3870,
          "source": "Renewables",
          "year": "2007-01-01T00:00:00"
         },
         {
          "net_generation": 5070,
          "source": "Renewables",
          "year": "2008-01-01T00:00:00"
         },
         {
          "net_generation": 8560,
          "source": "Renewables",
          "year": "2009-01-01T00:00:00"
         },
         {
          "net_generation": 10308,
          "source": "Renewables",
          "year": "2010-01-01T00:00:00"
         },
         {
          "net_generation": 11795,
          "source": "Renewables",
          "year": "2011-01-01T00:00:00"
         },
         {
          "net_generation": 14949,
          "source": "Renewables",
          "year": "2012-01-01T00:00:00"
         },
         {
          "net_generation": 16476,
          "source": "Renewables",
          "year": "2013-01-01T00:00:00"
         },
         {
          "net_generation": 17452,
          "source": "Renewables",
          "year": "2014-01-01T00:00:00"
         },
         {
          "net_generation": 19091,
          "source": "Renewables",
          "year": "2015-01-01T00:00:00"
         },
         {
          "net_generation": 21241,
          "source": "Renewables",
          "year": "2016-01-01T00:00:00"
         },
         {
          "net_generation": 21933,
          "source": "Renewables",
          "year": "2017-01-01T00:00:00"
         }
        ]
       },
       "encoding": {
        "color": {
         "field": "source",
         "type": "nominal"
        },
        "x": {
         "field": "year",
         "type": "temporal"
        },
        "y": {
         "field": "net_generation",
         "type": "quantitative"
        }
       },
       "mark": "area"
      },
      "image/png": "[encoded data removed]",
      "text/plain": [
       "<VegaLite 2 object>\n",
       "\n",
       "If you see this message, it means the renderer has not been properly enabled\n",
       "for the frontend that you are using. For more information, see\n",
       "https://altair-viz.github.io/user_guide/troubleshooting.html\n"
      ]
     },
     "execution_count": 29,
     "metadata": {},
     "output_type": "execute_result"
    }
   ],
   "source": [
    "source = data.iowa_electricity()\n",
    "alt.Chart(source).mark_area().encode(\n",
    "    x='year:T',\n",
    "    y='net_generation:Q',\n",
    "    color='source:N'\n",
    ")"
   ]
  },
  {
   "cell_type": "code",
   "execution_count": 30,
   "metadata": {},
   "outputs": [
    {
     "data": {
      "application/vnd.vegalite.v2+json": {
       "$schema": "https://vega.github.io/schema/vega-lite/v2.6.0.json",
       "config": {
        "view": {
         "height": 300,
         "width": 400
        }
       },
       "data": {
        "name": "data-6e04bbc1ea2599a6839ac23d060c6ae2"
       },
       "datasets": {
        "data-6e04bbc1ea2599a6839ac23d060c6ae2": [
         {
          "time": "2018-01-01T00:00:00",
          "value": 1.764052345967664
         },
         {
          "time": "2018-01-02T00:00:00",
          "value": 2.1642095543348874
         },
         {
          "time": "2018-01-03T00:00:00",
          "value": 3.1429475384406267
         },
         {
          "time": "2018-01-04T00:00:00",
          "value": 5.3838407376420845
         },
         {
          "time": "2018-01-05T00:00:00",
          "value": 7.251398727792052
         },
         {
          "time": "2018-01-06T00:00:00",
          "value": 6.274120847915642
         },
         {
          "time": "2018-01-07T00:00:00",
          "value": 7.224209265441231
         },
         {
          "time": "2018-01-08T00:00:00",
          "value": 7.072852057143533
         },
         {
          "time": "2018-01-09T00:00:00",
          "value": 6.969633205349975
         },
         {
          "time": "2018-01-10T00:00:00",
          "value": 7.380231707288347
         },
         {
          "time": "2018-01-11T00:00:00",
          "value": 7.524275278449225
         },
         {
          "time": "2018-01-12T00:00:00",
          "value": 8.9785487854122
         },
         {
          "time": "2018-01-13T00:00:00",
          "value": 9.739586510559192
         },
         {
          "time": "2018-01-14T00:00:00",
          "value": 9.86126152705202
         },
         {
          "time": "2018-01-15T00:00:00",
          "value": 10.305124759797446
         },
         {
          "time": "2018-01-16T00:00:00",
          "value": 10.638799087171712
         },
         {
          "time": "2018-01-17T00:00:00",
          "value": 12.132878160329318
         },
         {
          "time": "2018-01-18T00:00:00",
          "value": 11.927719896563516
         },
         {
          "time": "2018-01-19T00:00:00",
          "value": 12.240787598214418
         },
         {
          "time": "2018-01-20T00:00:00",
          "value": 11.386691858912693
         },
         {
          "time": "2018-01-21T00:00:00",
          "value": 8.833702043078613
         },
         {
          "time": "2018-01-22T00:00:00",
          "value": 9.487320638518973
         },
         {
          "time": "2018-01-23T00:00:00",
          "value": 10.35175683737848
         },
         {
          "time": "2018-01-24T00:00:00",
          "value": 9.609591816972037
         },
         {
          "time": "2018-01-25T00:00:00",
          "value": 11.879346440959644
         },
         {
          "time": "2018-01-26T00:00:00",
          "value": 10.424980766360878
         },
         {
          "time": "2018-01-27T00:00:00",
          "value": 10.470739283662324
         },
         {
          "time": "2018-01-28T00:00:00",
          "value": 10.28355543363649
         },
         {
          "time": "2018-01-29T00:00:00",
          "value": 11.816334647994948
         },
         {
          "time": "2018-01-30T00:00:00",
          "value": 13.285693417895233
         },
         {
          "time": "2018-01-31T00:00:00",
          "value": 13.44064084359215
         },
         {
          "time": "2018-02-01T00:00:00",
          "value": 13.818803363194323
         },
         {
          "time": "2018-02-02T00:00:00",
          "value": 12.93101761556421
         },
         {
          "time": "2018-02-03T00:00:00",
          "value": 10.950221147340283
         },
         {
          "time": "2018-02-04T00:00:00",
          "value": 10.60230899801413
         },
         {
          "time": "2018-02-05T00:00:00",
          "value": 10.758657967118111
         },
         {
          "time": "2018-02-06T00:00:00",
          "value": 11.988948647845833
         },
         {
          "time": "2018-02-07T00:00:00",
          "value": 13.191328496630245
         },
         {
          "time": "2018-02-08T00:00:00",
          "value": 12.804001679222292
         },
         {
          "time": "2018-02-09T00:00:00",
          "value": 12.501698928646956
         },
         {
          "time": "2018-02-10T00:00:00",
          "value": 11.453145963579864
         },
         {
          "time": "2018-02-11T00:00:00",
          "value": 10.033128026400888
         },
         {
          "time": "2018-02-12T00:00:00",
          "value": 8.326857835775876
         },
         {
          "time": "2018-02-13T00:00:00",
          "value": 10.277633231007666
         },
         {
          "time": "2018-02-14T00:00:00",
          "value": 9.767981049256013
         },
         {
          "time": "2018-02-15T00:00:00",
          "value": 9.329906747644827
         },
         {
          "time": "2018-02-16T00:00:00",
          "value": 8.0771113875949
         },
         {
          "time": "2018-02-17T00:00:00",
          "value": 8.85460174342681
         },
         {
          "time": "2018-02-18T00:00:00",
          "value": 7.240703895868859
         },
         {
          "time": "2018-02-19T00:00:00",
          "value": 7.02796361565489
         },
         {
          "time": "2018-02-20T00:00:00",
          "value": 6.132497054461215
         },
         {
          "time": "2018-02-21T00:00:00",
          "value": 6.519399552320477
         },
         {
          "time": "2018-02-22T00:00:00",
          "value": 6.008594414751604
         },
         {
          "time": "2018-02-23T00:00:00",
          "value": 4.827962230629192
         },
         {
          "time": "2018-02-24T00:00:00",
          "value": 4.799780002290537
         },
         {
          "time": "2018-02-25T00:00:00",
          "value": 5.228111872820954
         },
         {
          "time": "2018-02-26T00:00:00",
          "value": 5.294629095204122
         },
         {
          "time": "2018-02-27T00:00:00",
          "value": 5.597100992943904
         },
         {
          "time": "2018-02-28T00:00:00",
          "value": 4.962778899262941
         },
         {
          "time": "2018-03-01T00:00:00",
          "value": 4.600037733275802
         },
         {
          "time": "2018-03-02T00:00:00",
          "value": 3.927577285499851
         },
         {
          "time": "2018-03-03T00:00:00",
          "value": 3.56802412395931
         },
         {
          "time": "2018-03-04T00:00:00",
          "value": 2.7548778419148556
         },
         {
          "time": "2018-03-05T00:00:00",
          "value": 1.0285952395831788
         },
         {
          "time": "2018-03-06T00:00:00",
          "value": 1.2060213818369316
         },
         {
          "time": "2018-03-07T00:00:00",
          "value": 0.8042404456286698
         },
         {
          "time": "2018-03-08T00:00:00",
          "value": -0.8259579013373748
         },
         {
          "time": "2018-03-09T00:00:00",
          "value": -0.3631756458116006
         },
         {
          "time": "2018-03-10T00:00:00",
          "value": -1.2704740101948429
         },
         {
          "time": "2018-03-11T00:00:00",
          "value": -1.218528614398704
         },
         {
          "time": "2018-03-12T00:00:00",
          "value": -0.4894380522211671
         },
         {
          "time": "2018-03-13T00:00:00",
          "value": -0.36045514146375646
         },
         {
          "time": "2018-03-14T00:00:00",
          "value": 0.7789455430795442
         },
         {
          "time": "2018-03-15T00:00:00",
          "value": -0.4558802772741084
         },
         {
          "time": "2018-03-16T00:00:00",
          "value": -0.0535386360965594
         },
         {
          "time": "2018-03-17T00:00:00",
          "value": -0.7383487270368726
         },
         {
          "time": "2018-03-18T00:00:00",
          "value": -1.6091458762187543
         },
         {
          "time": "2018-03-19T00:00:00",
          "value": -2.1879955409831697
         },
         {
          "time": "2018-03-20T00:00:00",
          "value": -2.4995480731105424
         },
         {
          "time": "2018-03-21T00:00:00",
          "value": -2.443382730880797
         },
         {
          "time": "2018-03-22T00:00:00",
          "value": -3.6085325716641536
         },
         {
          "time": "2018-03-23T00:00:00",
          "value": -2.7077060847099665
         },
         {
          "time": "2018-03-24T00:00:00",
          "value": -2.242043644979507
         },
         {
          "time": "2018-03-25T00:00:00",
          "value": -3.7782873312567307
         },
         {
          "time": "2018-03-26T00:00:00",
          "value": -2.290035137461131
         },
         {
          "time": "2018-03-27T00:00:00",
          "value": -0.3941459614305478
         },
         {
          "time": "2018-03-28T00:00:00",
          "value": 0.7846336097291029
         },
         {
          "time": "2018-03-29T00:00:00",
          "value": 0.604708773916752
         },
         {
          "time": "2018-03-30T00:00:00",
          "value": -0.4660438475937905
         },
         {
          "time": "2018-03-31T00:00:00",
          "value": 0.5884078793373462
         },
         {
          "time": "2018-04-01T00:00:00",
          "value": 0.18523093236416655
         },
         {
          "time": "2018-04-02T00:00:00",
          "value": 1.407676002746594
         },
         {
          "time": "2018-04-03T00:00:00",
          "value": 1.6159509808234542
         },
         {
          "time": "2018-04-04T00:00:00",
          "value": 2.5925900173071668
         },
         {
          "time": "2018-04-05T00:00:00",
          "value": 2.9489564144815685
         },
         {
          "time": "2018-04-06T00:00:00",
          "value": 3.6555295826735166
         },
         {
          "time": "2018-04-07T00:00:00",
          "value": 3.666029603394337
         },
         {
          "time": "2018-04-08T00:00:00",
          "value": 5.4519000973001726
         },
         {
          "time": "2018-04-09T00:00:00",
          "value": 5.578812190003792
         },
         {
          "time": "2018-04-10T00:00:00",
          "value": 5.980801553448494
         }
        ]
       },
       "encoding": {
        "x": {
         "field": "time",
         "type": "temporal"
        },
        "y": {
         "field": "value",
         "type": "quantitative"
        }
       },
       "mark": "line"
      },
      "image/png": "[encoded data removed]",
      "text/plain": [
       "<VegaLite 2 object>\n",
       "\n",
       "If you see this message, it means the renderer has not been properly enabled\n",
       "for the frontend that you are using. For more information, see\n",
       "https://altair-viz.github.io/user_guide/troubleshooting.html\n"
      ]
     },
     "execution_count": 30,
     "metadata": {},
     "output_type": "execute_result"
    }
   ],
   "source": [
    "rand = np.random.RandomState(0)\n",
    "\n",
    "df = pd.DataFrame(\n",
    "    {'value': rand.randn(100).cumsum()},\n",
    "    index=pd.date_range('2018-01-01', freq='D', periods=100)\n",
    ")\n",
    "\n",
    "alt.Chart(df.reset_index().rename(columns={'index': 'time'})).mark_line().encode(\n",
    "    x='time',\n",
    "    y='value',\n",
    ")"
   ]
  },
  {
   "cell_type": "code",
   "execution_count": null,
   "metadata": {},
   "outputs": [],
   "source": []
  }
 ],
 "metadata": {
  "kernelspec": {
   "display_name": "Python 3",
   "language": "python",
   "name": "python3"
  },
  "language_info": {
   "codemirror_mode": {
    "name": "ipython",
    "version": 3
   },
   "file_extension": ".py",
   "mimetype": "text/x-python",
   "name": "python",
   "nbconvert_exporter": "python",
   "pygments_lexer": "ipython3",
   "version": "3.7.3"
  }
 },
 "nbformat": 4,
 "nbformat_minor": 2
}
